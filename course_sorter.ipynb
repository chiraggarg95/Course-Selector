{
 "metadata": {
  "language_info": {
   "codemirror_mode": {
    "name": "ipython",
    "version": 3
   },
   "file_extension": ".py",
   "mimetype": "text/x-python",
   "name": "python",
   "nbconvert_exporter": "python",
   "pygments_lexer": "ipython3",
   "version": "3.7.4-final"
  },
  "orig_nbformat": 2,
  "kernelspec": {
   "name": "python3",
   "display_name": "Python 3",
   "language": "python"
  }
 },
 "nbformat": 4,
 "nbformat_minor": 2,
 "cells": [
  {
   "cell_type": "code",
   "execution_count": 674,
   "metadata": {},
   "outputs": [],
   "source": [
    "import pandas as pd\n",
    "import numpy as np\n",
    "import re"
   ]
  },
  {
   "cell_type": "code",
   "execution_count": 602,
   "metadata": {},
   "outputs": [
    {
     "output_type": "execute_result",
     "data": {
      "text/plain": [
       "    Sr no.       Type Course Code                    Course Name  \\\n",
       "0      NaN        NaN         NaN                            NaN   \n",
       "1      1.0  timetable      EE 114          Power Engineering - I   \n",
       "2      NaN        NaN         NaN                            NaN   \n",
       "3      NaN        NaN         NaN                            NaN   \n",
       "4      NaN        NaN         NaN                            NaN   \n",
       "5      NaN        NaN         NaN                            NaN   \n",
       "6      NaN        NaN         NaN                            NaN   \n",
       "7      2.0  timetable      EE 207  Electronic Devices & Circuits   \n",
       "8      NaN        NaN         NaN                            NaN   \n",
       "9      NaN        NaN         NaN                            NaN   \n",
       "10     NaN        NaN         NaN                            NaN   \n",
       "11     NaN        NaN         NaN                            NaN   \n",
       "12     NaN        NaN         NaN                            NaN   \n",
       "13     3.0  timetable      EE 207  Electronic Devices & Circuits   \n",
       "14     NaN        NaN         NaN                            NaN   \n",
       "\n",
       "        Instructor(s) Venue                      Slot Division  \\\n",
       "0                 NaN   NaN                       NaN      NaN   \n",
       "1      I - Soman S.A.                               1       S2   \n",
       "2                 NaN   NaN                       NaN      NaN   \n",
       "3                 NaN   NaN                       NaN      NaN   \n",
       "4                 NaN   NaN  Mon-1A-08:30:00-09:25:00      NaN   \n",
       "5                 NaN   NaN  Thu-1C-10:35:00-11:30:00      NaN   \n",
       "6                 NaN   NaN  Tue-1B-09:30:00-10:25:00      NaN   \n",
       "7     I - M. B. Patil                               4       S1   \n",
       "8                 NaN   NaN                       NaN      NaN   \n",
       "9                 NaN   NaN                       NaN      NaN   \n",
       "10                NaN   NaN  Mon-4A-11:35:00-12:30:00      NaN   \n",
       "11                NaN   NaN  Thu-4C-09:30:00-10:25:00      NaN   \n",
       "12                NaN   NaN  Tue-4B-08:30:00-09:25:00      NaN   \n",
       "13  I - Dipankar Saha                               4       S2   \n",
       "14                NaN   NaN                       NaN      NaN   \n",
       "\n",
       "    Biometric Attendance Enabled? Registration Limit  Restrictions  \\\n",
       "0                             NaN                NaN           NaN   \n",
       "1                             NaN                  0           NaN   \n",
       "2                             NaN                NaN           NaN   \n",
       "3                             NaN                NaN           NaN   \n",
       "4                             NaN                NaN           NaN   \n",
       "5                             NaN                NaN           NaN   \n",
       "6                             NaN                NaN           NaN   \n",
       "7                             NaN                  0           NaN   \n",
       "8                             NaN                NaN           NaN   \n",
       "9                             NaN                NaN           NaN   \n",
       "10                            NaN                NaN           NaN   \n",
       "11                            NaN                NaN           NaN   \n",
       "12                            NaN                NaN           NaN   \n",
       "13                            NaN                  0           NaN   \n",
       "14                            NaN                NaN           NaN   \n",
       "\n",
       "    Division.1  Unnamed: 12  \n",
       "0   Definition          NaN  \n",
       "1          NaN          NaN  \n",
       "2          NaN          NaN  \n",
       "3          NaN          NaN  \n",
       "4          NaN          NaN  \n",
       "5          NaN          NaN  \n",
       "6          NaN          NaN  \n",
       "7          NaN          NaN  \n",
       "8          NaN          NaN  \n",
       "9          NaN          NaN  \n",
       "10         NaN          NaN  \n",
       "11         NaN          NaN  \n",
       "12         NaN          NaN  \n",
       "13         NaN          NaN  \n",
       "14         NaN          NaN  "
      ],
      "text/html": "<div>\n<style scoped>\n    .dataframe tbody tr th:only-of-type {\n        vertical-align: middle;\n    }\n\n    .dataframe tbody tr th {\n        vertical-align: top;\n    }\n\n    .dataframe thead th {\n        text-align: right;\n    }\n</style>\n<table border=\"1\" class=\"dataframe\">\n  <thead>\n    <tr style=\"text-align: right;\">\n      <th></th>\n      <th>Sr no.</th>\n      <th>Type</th>\n      <th>Course Code</th>\n      <th>Course Name</th>\n      <th>Instructor(s)</th>\n      <th>Venue</th>\n      <th>Slot</th>\n      <th>Division</th>\n      <th>Biometric Attendance Enabled?</th>\n      <th>Registration Limit</th>\n      <th>Restrictions</th>\n      <th>Division.1</th>\n      <th>Unnamed: 12</th>\n    </tr>\n  </thead>\n  <tbody>\n    <tr>\n      <td>0</td>\n      <td>NaN</td>\n      <td>NaN</td>\n      <td>NaN</td>\n      <td>NaN</td>\n      <td>NaN</td>\n      <td>NaN</td>\n      <td>NaN</td>\n      <td>NaN</td>\n      <td>NaN</td>\n      <td>NaN</td>\n      <td>NaN</td>\n      <td>Definition</td>\n      <td>NaN</td>\n    </tr>\n    <tr>\n      <td>1</td>\n      <td>1.0</td>\n      <td>timetable</td>\n      <td>EE 114</td>\n      <td>Power Engineering - I</td>\n      <td>I - Soman S.A.</td>\n      <td></td>\n      <td>1</td>\n      <td>S2</td>\n      <td>NaN</td>\n      <td>0</td>\n      <td>NaN</td>\n      <td>NaN</td>\n      <td>NaN</td>\n    </tr>\n    <tr>\n      <td>2</td>\n      <td>NaN</td>\n      <td>NaN</td>\n      <td>NaN</td>\n      <td>NaN</td>\n      <td>NaN</td>\n      <td>NaN</td>\n      <td>NaN</td>\n      <td>NaN</td>\n      <td>NaN</td>\n      <td>NaN</td>\n      <td>NaN</td>\n      <td>NaN</td>\n      <td>NaN</td>\n    </tr>\n    <tr>\n      <td>3</td>\n      <td>NaN</td>\n      <td>NaN</td>\n      <td>NaN</td>\n      <td>NaN</td>\n      <td>NaN</td>\n      <td>NaN</td>\n      <td>NaN</td>\n      <td>NaN</td>\n      <td>NaN</td>\n      <td>NaN</td>\n      <td>NaN</td>\n      <td>NaN</td>\n      <td>NaN</td>\n    </tr>\n    <tr>\n      <td>4</td>\n      <td>NaN</td>\n      <td>NaN</td>\n      <td>NaN</td>\n      <td>NaN</td>\n      <td>NaN</td>\n      <td>NaN</td>\n      <td>Mon-1A-08:30:00-09:25:00</td>\n      <td>NaN</td>\n      <td>NaN</td>\n      <td>NaN</td>\n      <td>NaN</td>\n      <td>NaN</td>\n      <td>NaN</td>\n    </tr>\n    <tr>\n      <td>5</td>\n      <td>NaN</td>\n      <td>NaN</td>\n      <td>NaN</td>\n      <td>NaN</td>\n      <td>NaN</td>\n      <td>NaN</td>\n      <td>Thu-1C-10:35:00-11:30:00</td>\n      <td>NaN</td>\n      <td>NaN</td>\n      <td>NaN</td>\n      <td>NaN</td>\n      <td>NaN</td>\n      <td>NaN</td>\n    </tr>\n    <tr>\n      <td>6</td>\n      <td>NaN</td>\n      <td>NaN</td>\n      <td>NaN</td>\n      <td>NaN</td>\n      <td>NaN</td>\n      <td>NaN</td>\n      <td>Tue-1B-09:30:00-10:25:00</td>\n      <td>NaN</td>\n      <td>NaN</td>\n      <td>NaN</td>\n      <td>NaN</td>\n      <td>NaN</td>\n      <td>NaN</td>\n    </tr>\n    <tr>\n      <td>7</td>\n      <td>2.0</td>\n      <td>timetable</td>\n      <td>EE 207</td>\n      <td>Electronic Devices &amp; Circuits</td>\n      <td>I - M. B. Patil</td>\n      <td></td>\n      <td>4</td>\n      <td>S1</td>\n      <td>NaN</td>\n      <td>0</td>\n      <td>NaN</td>\n      <td>NaN</td>\n      <td>NaN</td>\n    </tr>\n    <tr>\n      <td>8</td>\n      <td>NaN</td>\n      <td>NaN</td>\n      <td>NaN</td>\n      <td>NaN</td>\n      <td>NaN</td>\n      <td>NaN</td>\n      <td>NaN</td>\n      <td>NaN</td>\n      <td>NaN</td>\n      <td>NaN</td>\n      <td>NaN</td>\n      <td>NaN</td>\n      <td>NaN</td>\n    </tr>\n    <tr>\n      <td>9</td>\n      <td>NaN</td>\n      <td>NaN</td>\n      <td>NaN</td>\n      <td>NaN</td>\n      <td>NaN</td>\n      <td>NaN</td>\n      <td>NaN</td>\n      <td>NaN</td>\n      <td>NaN</td>\n      <td>NaN</td>\n      <td>NaN</td>\n      <td>NaN</td>\n      <td>NaN</td>\n    </tr>\n    <tr>\n      <td>10</td>\n      <td>NaN</td>\n      <td>NaN</td>\n      <td>NaN</td>\n      <td>NaN</td>\n      <td>NaN</td>\n      <td>NaN</td>\n      <td>Mon-4A-11:35:00-12:30:00</td>\n      <td>NaN</td>\n      <td>NaN</td>\n      <td>NaN</td>\n      <td>NaN</td>\n      <td>NaN</td>\n      <td>NaN</td>\n    </tr>\n    <tr>\n      <td>11</td>\n      <td>NaN</td>\n      <td>NaN</td>\n      <td>NaN</td>\n      <td>NaN</td>\n      <td>NaN</td>\n      <td>NaN</td>\n      <td>Thu-4C-09:30:00-10:25:00</td>\n      <td>NaN</td>\n      <td>NaN</td>\n      <td>NaN</td>\n      <td>NaN</td>\n      <td>NaN</td>\n      <td>NaN</td>\n    </tr>\n    <tr>\n      <td>12</td>\n      <td>NaN</td>\n      <td>NaN</td>\n      <td>NaN</td>\n      <td>NaN</td>\n      <td>NaN</td>\n      <td>NaN</td>\n      <td>Tue-4B-08:30:00-09:25:00</td>\n      <td>NaN</td>\n      <td>NaN</td>\n      <td>NaN</td>\n      <td>NaN</td>\n      <td>NaN</td>\n      <td>NaN</td>\n    </tr>\n    <tr>\n      <td>13</td>\n      <td>3.0</td>\n      <td>timetable</td>\n      <td>EE 207</td>\n      <td>Electronic Devices &amp; Circuits</td>\n      <td>I - Dipankar Saha</td>\n      <td></td>\n      <td>4</td>\n      <td>S2</td>\n      <td>NaN</td>\n      <td>0</td>\n      <td>NaN</td>\n      <td>NaN</td>\n      <td>NaN</td>\n    </tr>\n    <tr>\n      <td>14</td>\n      <td>NaN</td>\n      <td>NaN</td>\n      <td>NaN</td>\n      <td>NaN</td>\n      <td>NaN</td>\n      <td>NaN</td>\n      <td>NaN</td>\n      <td>NaN</td>\n      <td>NaN</td>\n      <td>NaN</td>\n      <td>NaN</td>\n      <td>NaN</td>\n      <td>NaN</td>\n    </tr>\n  </tbody>\n</table>\n</div>"
     },
     "metadata": {},
     "execution_count": 602
    }
   ],
   "source": [
    "df = pd.read_csv('./dept_courses_csv/EE.csv', encoding='cp1252')\n",
    "df.head(15)"
   ]
  },
  {
   "cell_type": "code",
   "execution_count": 603,
   "metadata": {},
   "outputs": [
    {
     "output_type": "execute_result",
     "data": {
      "text/plain": [
       "(328, 13)"
      ]
     },
     "metadata": {},
     "execution_count": 603
    }
   ],
   "source": [
    "df.shape"
   ]
  },
  {
   "cell_type": "code",
   "execution_count": 604,
   "metadata": {},
   "outputs": [],
   "source": [
    "cols_to_be_dropped = []\n",
    "for col in df.columns:\n",
    "    # print('start')\n",
    "    if (df.isna().sum()[col]==df.shape[0]):\n",
    "        cols_to_be_dropped.append(col)\n",
    "        # print(col+' will be dropped')"
   ]
  },
  {
   "cell_type": "code",
   "execution_count": 605,
   "metadata": {},
   "outputs": [],
   "source": [
    "df = df.drop(columns=cols_to_be_dropped)"
   ]
  },
  {
   "cell_type": "code",
   "execution_count": 606,
   "metadata": {},
   "outputs": [
    {
     "output_type": "execute_result",
     "data": {
      "text/plain": [
       "(328, 10)"
      ]
     },
     "metadata": {},
     "execution_count": 606
    }
   ],
   "source": [
    "df.shape"
   ]
  },
  {
   "cell_type": "code",
   "execution_count": 607,
   "metadata": {},
   "outputs": [
    {
     "output_type": "execute_result",
     "data": {
      "text/plain": [
       "    Sr no.       Type Course Code                    Course Name  \\\n",
       "0      NaN        NaN         NaN                            NaN   \n",
       "1      1.0  timetable      EE 114          Power Engineering - I   \n",
       "2      NaN        NaN         NaN                            NaN   \n",
       "3      NaN        NaN         NaN                            NaN   \n",
       "4      NaN        NaN         NaN                            NaN   \n",
       "5      NaN        NaN         NaN                            NaN   \n",
       "6      NaN        NaN         NaN                            NaN   \n",
       "7      2.0  timetable      EE 207  Electronic Devices & Circuits   \n",
       "8      NaN        NaN         NaN                            NaN   \n",
       "9      NaN        NaN         NaN                            NaN   \n",
       "10     NaN        NaN         NaN                            NaN   \n",
       "11     NaN        NaN         NaN                            NaN   \n",
       "12     NaN        NaN         NaN                            NaN   \n",
       "13     3.0  timetable      EE 207  Electronic Devices & Circuits   \n",
       "14     NaN        NaN         NaN                            NaN   \n",
       "\n",
       "        Instructor(s) Venue                      Slot Division  \\\n",
       "0                 NaN   NaN                       NaN      NaN   \n",
       "1      I - Soman S.A.                               1       S2   \n",
       "2                 NaN   NaN                       NaN      NaN   \n",
       "3                 NaN   NaN                       NaN      NaN   \n",
       "4                 NaN   NaN  Mon-1A-08:30:00-09:25:00      NaN   \n",
       "5                 NaN   NaN  Thu-1C-10:35:00-11:30:00      NaN   \n",
       "6                 NaN   NaN  Tue-1B-09:30:00-10:25:00      NaN   \n",
       "7     I - M. B. Patil                               4       S1   \n",
       "8                 NaN   NaN                       NaN      NaN   \n",
       "9                 NaN   NaN                       NaN      NaN   \n",
       "10                NaN   NaN  Mon-4A-11:35:00-12:30:00      NaN   \n",
       "11                NaN   NaN  Thu-4C-09:30:00-10:25:00      NaN   \n",
       "12                NaN   NaN  Tue-4B-08:30:00-09:25:00      NaN   \n",
       "13  I - Dipankar Saha                               4       S2   \n",
       "14                NaN   NaN                       NaN      NaN   \n",
       "\n",
       "   Registration Limit  Division.1  \n",
       "0                 NaN  Definition  \n",
       "1                   0         NaN  \n",
       "2                 NaN         NaN  \n",
       "3                 NaN         NaN  \n",
       "4                 NaN         NaN  \n",
       "5                 NaN         NaN  \n",
       "6                 NaN         NaN  \n",
       "7                   0         NaN  \n",
       "8                 NaN         NaN  \n",
       "9                 NaN         NaN  \n",
       "10                NaN         NaN  \n",
       "11                NaN         NaN  \n",
       "12                NaN         NaN  \n",
       "13                  0         NaN  \n",
       "14                NaN         NaN  "
      ],
      "text/html": "<div>\n<style scoped>\n    .dataframe tbody tr th:only-of-type {\n        vertical-align: middle;\n    }\n\n    .dataframe tbody tr th {\n        vertical-align: top;\n    }\n\n    .dataframe thead th {\n        text-align: right;\n    }\n</style>\n<table border=\"1\" class=\"dataframe\">\n  <thead>\n    <tr style=\"text-align: right;\">\n      <th></th>\n      <th>Sr no.</th>\n      <th>Type</th>\n      <th>Course Code</th>\n      <th>Course Name</th>\n      <th>Instructor(s)</th>\n      <th>Venue</th>\n      <th>Slot</th>\n      <th>Division</th>\n      <th>Registration Limit</th>\n      <th>Division.1</th>\n    </tr>\n  </thead>\n  <tbody>\n    <tr>\n      <td>0</td>\n      <td>NaN</td>\n      <td>NaN</td>\n      <td>NaN</td>\n      <td>NaN</td>\n      <td>NaN</td>\n      <td>NaN</td>\n      <td>NaN</td>\n      <td>NaN</td>\n      <td>NaN</td>\n      <td>Definition</td>\n    </tr>\n    <tr>\n      <td>1</td>\n      <td>1.0</td>\n      <td>timetable</td>\n      <td>EE 114</td>\n      <td>Power Engineering - I</td>\n      <td>I - Soman S.A.</td>\n      <td></td>\n      <td>1</td>\n      <td>S2</td>\n      <td>0</td>\n      <td>NaN</td>\n    </tr>\n    <tr>\n      <td>2</td>\n      <td>NaN</td>\n      <td>NaN</td>\n      <td>NaN</td>\n      <td>NaN</td>\n      <td>NaN</td>\n      <td>NaN</td>\n      <td>NaN</td>\n      <td>NaN</td>\n      <td>NaN</td>\n      <td>NaN</td>\n    </tr>\n    <tr>\n      <td>3</td>\n      <td>NaN</td>\n      <td>NaN</td>\n      <td>NaN</td>\n      <td>NaN</td>\n      <td>NaN</td>\n      <td>NaN</td>\n      <td>NaN</td>\n      <td>NaN</td>\n      <td>NaN</td>\n      <td>NaN</td>\n    </tr>\n    <tr>\n      <td>4</td>\n      <td>NaN</td>\n      <td>NaN</td>\n      <td>NaN</td>\n      <td>NaN</td>\n      <td>NaN</td>\n      <td>NaN</td>\n      <td>Mon-1A-08:30:00-09:25:00</td>\n      <td>NaN</td>\n      <td>NaN</td>\n      <td>NaN</td>\n    </tr>\n    <tr>\n      <td>5</td>\n      <td>NaN</td>\n      <td>NaN</td>\n      <td>NaN</td>\n      <td>NaN</td>\n      <td>NaN</td>\n      <td>NaN</td>\n      <td>Thu-1C-10:35:00-11:30:00</td>\n      <td>NaN</td>\n      <td>NaN</td>\n      <td>NaN</td>\n    </tr>\n    <tr>\n      <td>6</td>\n      <td>NaN</td>\n      <td>NaN</td>\n      <td>NaN</td>\n      <td>NaN</td>\n      <td>NaN</td>\n      <td>NaN</td>\n      <td>Tue-1B-09:30:00-10:25:00</td>\n      <td>NaN</td>\n      <td>NaN</td>\n      <td>NaN</td>\n    </tr>\n    <tr>\n      <td>7</td>\n      <td>2.0</td>\n      <td>timetable</td>\n      <td>EE 207</td>\n      <td>Electronic Devices &amp; Circuits</td>\n      <td>I - M. B. Patil</td>\n      <td></td>\n      <td>4</td>\n      <td>S1</td>\n      <td>0</td>\n      <td>NaN</td>\n    </tr>\n    <tr>\n      <td>8</td>\n      <td>NaN</td>\n      <td>NaN</td>\n      <td>NaN</td>\n      <td>NaN</td>\n      <td>NaN</td>\n      <td>NaN</td>\n      <td>NaN</td>\n      <td>NaN</td>\n      <td>NaN</td>\n      <td>NaN</td>\n    </tr>\n    <tr>\n      <td>9</td>\n      <td>NaN</td>\n      <td>NaN</td>\n      <td>NaN</td>\n      <td>NaN</td>\n      <td>NaN</td>\n      <td>NaN</td>\n      <td>NaN</td>\n      <td>NaN</td>\n      <td>NaN</td>\n      <td>NaN</td>\n    </tr>\n    <tr>\n      <td>10</td>\n      <td>NaN</td>\n      <td>NaN</td>\n      <td>NaN</td>\n      <td>NaN</td>\n      <td>NaN</td>\n      <td>NaN</td>\n      <td>Mon-4A-11:35:00-12:30:00</td>\n      <td>NaN</td>\n      <td>NaN</td>\n      <td>NaN</td>\n    </tr>\n    <tr>\n      <td>11</td>\n      <td>NaN</td>\n      <td>NaN</td>\n      <td>NaN</td>\n      <td>NaN</td>\n      <td>NaN</td>\n      <td>NaN</td>\n      <td>Thu-4C-09:30:00-10:25:00</td>\n      <td>NaN</td>\n      <td>NaN</td>\n      <td>NaN</td>\n    </tr>\n    <tr>\n      <td>12</td>\n      <td>NaN</td>\n      <td>NaN</td>\n      <td>NaN</td>\n      <td>NaN</td>\n      <td>NaN</td>\n      <td>NaN</td>\n      <td>Tue-4B-08:30:00-09:25:00</td>\n      <td>NaN</td>\n      <td>NaN</td>\n      <td>NaN</td>\n    </tr>\n    <tr>\n      <td>13</td>\n      <td>3.0</td>\n      <td>timetable</td>\n      <td>EE 207</td>\n      <td>Electronic Devices &amp; Circuits</td>\n      <td>I - Dipankar Saha</td>\n      <td></td>\n      <td>4</td>\n      <td>S2</td>\n      <td>0</td>\n      <td>NaN</td>\n    </tr>\n    <tr>\n      <td>14</td>\n      <td>NaN</td>\n      <td>NaN</td>\n      <td>NaN</td>\n      <td>NaN</td>\n      <td>NaN</td>\n      <td>NaN</td>\n      <td>NaN</td>\n      <td>NaN</td>\n      <td>NaN</td>\n      <td>NaN</td>\n    </tr>\n  </tbody>\n</table>\n</div>"
     },
     "metadata": {},
     "execution_count": 607
    }
   ],
   "source": [
    "df.head(15)"
   ]
  },
  {
   "cell_type": "code",
   "execution_count": 608,
   "metadata": {},
   "outputs": [],
   "source": [
    "row_toBe_dropped = []\n",
    "for row in df.index:\n",
    "    if (df.isna().sum(axis=1)[row]==11):\n",
    "        row_toBe_dropped.append(row)\n",
    "        # print('Row number ' + str(row) + ' will be dropped')"
   ]
  },
  {
   "cell_type": "code",
   "execution_count": 609,
   "metadata": {},
   "outputs": [],
   "source": [
    "df=df.drop(row_toBe_dropped)"
   ]
  },
  {
   "cell_type": "code",
   "execution_count": 610,
   "metadata": {},
   "outputs": [
    {
     "output_type": "execute_result",
     "data": {
      "text/plain": [
       "(328, 10)"
      ]
     },
     "metadata": {},
     "execution_count": 610
    }
   ],
   "source": [
    "df.shape"
   ]
  },
  {
   "cell_type": "code",
   "execution_count": 611,
   "metadata": {},
   "outputs": [
    {
     "output_type": "execute_result",
     "data": {
      "text/plain": [
       "    Sr no.       Type Course Code                    Course Name  \\\n",
       "0      NaN        NaN         NaN                            NaN   \n",
       "1      1.0  timetable      EE 114          Power Engineering - I   \n",
       "2      NaN        NaN         NaN                            NaN   \n",
       "3      NaN        NaN         NaN                            NaN   \n",
       "4      NaN        NaN         NaN                            NaN   \n",
       "5      NaN        NaN         NaN                            NaN   \n",
       "6      NaN        NaN         NaN                            NaN   \n",
       "7      2.0  timetable      EE 207  Electronic Devices & Circuits   \n",
       "8      NaN        NaN         NaN                            NaN   \n",
       "9      NaN        NaN         NaN                            NaN   \n",
       "10     NaN        NaN         NaN                            NaN   \n",
       "11     NaN        NaN         NaN                            NaN   \n",
       "12     NaN        NaN         NaN                            NaN   \n",
       "13     3.0  timetable      EE 207  Electronic Devices & Circuits   \n",
       "14     NaN        NaN         NaN                            NaN   \n",
       "\n",
       "        Instructor(s) Venue                      Slot Division  \\\n",
       "0                 NaN   NaN                       NaN      NaN   \n",
       "1      I - Soman S.A.                               1       S2   \n",
       "2                 NaN   NaN                       NaN      NaN   \n",
       "3                 NaN   NaN                       NaN      NaN   \n",
       "4                 NaN   NaN  Mon-1A-08:30:00-09:25:00      NaN   \n",
       "5                 NaN   NaN  Thu-1C-10:35:00-11:30:00      NaN   \n",
       "6                 NaN   NaN  Tue-1B-09:30:00-10:25:00      NaN   \n",
       "7     I - M. B. Patil                               4       S1   \n",
       "8                 NaN   NaN                       NaN      NaN   \n",
       "9                 NaN   NaN                       NaN      NaN   \n",
       "10                NaN   NaN  Mon-4A-11:35:00-12:30:00      NaN   \n",
       "11                NaN   NaN  Thu-4C-09:30:00-10:25:00      NaN   \n",
       "12                NaN   NaN  Tue-4B-08:30:00-09:25:00      NaN   \n",
       "13  I - Dipankar Saha                               4       S2   \n",
       "14                NaN   NaN                       NaN      NaN   \n",
       "\n",
       "   Registration Limit  Division.1  \n",
       "0                 NaN  Definition  \n",
       "1                   0         NaN  \n",
       "2                 NaN         NaN  \n",
       "3                 NaN         NaN  \n",
       "4                 NaN         NaN  \n",
       "5                 NaN         NaN  \n",
       "6                 NaN         NaN  \n",
       "7                   0         NaN  \n",
       "8                 NaN         NaN  \n",
       "9                 NaN         NaN  \n",
       "10                NaN         NaN  \n",
       "11                NaN         NaN  \n",
       "12                NaN         NaN  \n",
       "13                  0         NaN  \n",
       "14                NaN         NaN  "
      ],
      "text/html": "<div>\n<style scoped>\n    .dataframe tbody tr th:only-of-type {\n        vertical-align: middle;\n    }\n\n    .dataframe tbody tr th {\n        vertical-align: top;\n    }\n\n    .dataframe thead th {\n        text-align: right;\n    }\n</style>\n<table border=\"1\" class=\"dataframe\">\n  <thead>\n    <tr style=\"text-align: right;\">\n      <th></th>\n      <th>Sr no.</th>\n      <th>Type</th>\n      <th>Course Code</th>\n      <th>Course Name</th>\n      <th>Instructor(s)</th>\n      <th>Venue</th>\n      <th>Slot</th>\n      <th>Division</th>\n      <th>Registration Limit</th>\n      <th>Division.1</th>\n    </tr>\n  </thead>\n  <tbody>\n    <tr>\n      <td>0</td>\n      <td>NaN</td>\n      <td>NaN</td>\n      <td>NaN</td>\n      <td>NaN</td>\n      <td>NaN</td>\n      <td>NaN</td>\n      <td>NaN</td>\n      <td>NaN</td>\n      <td>NaN</td>\n      <td>Definition</td>\n    </tr>\n    <tr>\n      <td>1</td>\n      <td>1.0</td>\n      <td>timetable</td>\n      <td>EE 114</td>\n      <td>Power Engineering - I</td>\n      <td>I - Soman S.A.</td>\n      <td></td>\n      <td>1</td>\n      <td>S2</td>\n      <td>0</td>\n      <td>NaN</td>\n    </tr>\n    <tr>\n      <td>2</td>\n      <td>NaN</td>\n      <td>NaN</td>\n      <td>NaN</td>\n      <td>NaN</td>\n      <td>NaN</td>\n      <td>NaN</td>\n      <td>NaN</td>\n      <td>NaN</td>\n      <td>NaN</td>\n      <td>NaN</td>\n    </tr>\n    <tr>\n      <td>3</td>\n      <td>NaN</td>\n      <td>NaN</td>\n      <td>NaN</td>\n      <td>NaN</td>\n      <td>NaN</td>\n      <td>NaN</td>\n      <td>NaN</td>\n      <td>NaN</td>\n      <td>NaN</td>\n      <td>NaN</td>\n    </tr>\n    <tr>\n      <td>4</td>\n      <td>NaN</td>\n      <td>NaN</td>\n      <td>NaN</td>\n      <td>NaN</td>\n      <td>NaN</td>\n      <td>NaN</td>\n      <td>Mon-1A-08:30:00-09:25:00</td>\n      <td>NaN</td>\n      <td>NaN</td>\n      <td>NaN</td>\n    </tr>\n    <tr>\n      <td>5</td>\n      <td>NaN</td>\n      <td>NaN</td>\n      <td>NaN</td>\n      <td>NaN</td>\n      <td>NaN</td>\n      <td>NaN</td>\n      <td>Thu-1C-10:35:00-11:30:00</td>\n      <td>NaN</td>\n      <td>NaN</td>\n      <td>NaN</td>\n    </tr>\n    <tr>\n      <td>6</td>\n      <td>NaN</td>\n      <td>NaN</td>\n      <td>NaN</td>\n      <td>NaN</td>\n      <td>NaN</td>\n      <td>NaN</td>\n      <td>Tue-1B-09:30:00-10:25:00</td>\n      <td>NaN</td>\n      <td>NaN</td>\n      <td>NaN</td>\n    </tr>\n    <tr>\n      <td>7</td>\n      <td>2.0</td>\n      <td>timetable</td>\n      <td>EE 207</td>\n      <td>Electronic Devices &amp; Circuits</td>\n      <td>I - M. B. Patil</td>\n      <td></td>\n      <td>4</td>\n      <td>S1</td>\n      <td>0</td>\n      <td>NaN</td>\n    </tr>\n    <tr>\n      <td>8</td>\n      <td>NaN</td>\n      <td>NaN</td>\n      <td>NaN</td>\n      <td>NaN</td>\n      <td>NaN</td>\n      <td>NaN</td>\n      <td>NaN</td>\n      <td>NaN</td>\n      <td>NaN</td>\n      <td>NaN</td>\n    </tr>\n    <tr>\n      <td>9</td>\n      <td>NaN</td>\n      <td>NaN</td>\n      <td>NaN</td>\n      <td>NaN</td>\n      <td>NaN</td>\n      <td>NaN</td>\n      <td>NaN</td>\n      <td>NaN</td>\n      <td>NaN</td>\n      <td>NaN</td>\n    </tr>\n    <tr>\n      <td>10</td>\n      <td>NaN</td>\n      <td>NaN</td>\n      <td>NaN</td>\n      <td>NaN</td>\n      <td>NaN</td>\n      <td>NaN</td>\n      <td>Mon-4A-11:35:00-12:30:00</td>\n      <td>NaN</td>\n      <td>NaN</td>\n      <td>NaN</td>\n    </tr>\n    <tr>\n      <td>11</td>\n      <td>NaN</td>\n      <td>NaN</td>\n      <td>NaN</td>\n      <td>NaN</td>\n      <td>NaN</td>\n      <td>NaN</td>\n      <td>Thu-4C-09:30:00-10:25:00</td>\n      <td>NaN</td>\n      <td>NaN</td>\n      <td>NaN</td>\n    </tr>\n    <tr>\n      <td>12</td>\n      <td>NaN</td>\n      <td>NaN</td>\n      <td>NaN</td>\n      <td>NaN</td>\n      <td>NaN</td>\n      <td>NaN</td>\n      <td>Tue-4B-08:30:00-09:25:00</td>\n      <td>NaN</td>\n      <td>NaN</td>\n      <td>NaN</td>\n    </tr>\n    <tr>\n      <td>13</td>\n      <td>3.0</td>\n      <td>timetable</td>\n      <td>EE 207</td>\n      <td>Electronic Devices &amp; Circuits</td>\n      <td>I - Dipankar Saha</td>\n      <td></td>\n      <td>4</td>\n      <td>S2</td>\n      <td>0</td>\n      <td>NaN</td>\n    </tr>\n    <tr>\n      <td>14</td>\n      <td>NaN</td>\n      <td>NaN</td>\n      <td>NaN</td>\n      <td>NaN</td>\n      <td>NaN</td>\n      <td>NaN</td>\n      <td>NaN</td>\n      <td>NaN</td>\n      <td>NaN</td>\n      <td>NaN</td>\n    </tr>\n  </tbody>\n</table>\n</div>"
     },
     "metadata": {},
     "execution_count": 611
    }
   ],
   "source": [
    "df.head(15)"
   ]
  },
  {
   "cell_type": "code",
   "execution_count": 612,
   "metadata": {},
   "outputs": [],
   "source": [
    "df = df.reset_index().drop(columns='index')"
   ]
  },
  {
   "cell_type": "code",
   "execution_count": 613,
   "metadata": {},
   "outputs": [
    {
     "output_type": "execute_result",
     "data": {
      "text/plain": [
       "    Sr no.       Type Course Code                    Course Name  \\\n",
       "0      NaN        NaN         NaN                            NaN   \n",
       "1      1.0  timetable      EE 114          Power Engineering - I   \n",
       "2      NaN        NaN         NaN                            NaN   \n",
       "3      NaN        NaN         NaN                            NaN   \n",
       "4      NaN        NaN         NaN                            NaN   \n",
       "5      NaN        NaN         NaN                            NaN   \n",
       "6      NaN        NaN         NaN                            NaN   \n",
       "7      2.0  timetable      EE 207  Electronic Devices & Circuits   \n",
       "8      NaN        NaN         NaN                            NaN   \n",
       "9      NaN        NaN         NaN                            NaN   \n",
       "10     NaN        NaN         NaN                            NaN   \n",
       "11     NaN        NaN         NaN                            NaN   \n",
       "12     NaN        NaN         NaN                            NaN   \n",
       "13     3.0  timetable      EE 207  Electronic Devices & Circuits   \n",
       "14     NaN        NaN         NaN                            NaN   \n",
       "\n",
       "        Instructor(s) Venue                      Slot Division  \\\n",
       "0                 NaN   NaN                       NaN      NaN   \n",
       "1      I - Soman S.A.                               1       S2   \n",
       "2                 NaN   NaN                       NaN      NaN   \n",
       "3                 NaN   NaN                       NaN      NaN   \n",
       "4                 NaN   NaN  Mon-1A-08:30:00-09:25:00      NaN   \n",
       "5                 NaN   NaN  Thu-1C-10:35:00-11:30:00      NaN   \n",
       "6                 NaN   NaN  Tue-1B-09:30:00-10:25:00      NaN   \n",
       "7     I - M. B. Patil                               4       S1   \n",
       "8                 NaN   NaN                       NaN      NaN   \n",
       "9                 NaN   NaN                       NaN      NaN   \n",
       "10                NaN   NaN  Mon-4A-11:35:00-12:30:00      NaN   \n",
       "11                NaN   NaN  Thu-4C-09:30:00-10:25:00      NaN   \n",
       "12                NaN   NaN  Tue-4B-08:30:00-09:25:00      NaN   \n",
       "13  I - Dipankar Saha                               4       S2   \n",
       "14                NaN   NaN                       NaN      NaN   \n",
       "\n",
       "   Registration Limit  Division.1  \n",
       "0                 NaN  Definition  \n",
       "1                   0         NaN  \n",
       "2                 NaN         NaN  \n",
       "3                 NaN         NaN  \n",
       "4                 NaN         NaN  \n",
       "5                 NaN         NaN  \n",
       "6                 NaN         NaN  \n",
       "7                   0         NaN  \n",
       "8                 NaN         NaN  \n",
       "9                 NaN         NaN  \n",
       "10                NaN         NaN  \n",
       "11                NaN         NaN  \n",
       "12                NaN         NaN  \n",
       "13                  0         NaN  \n",
       "14                NaN         NaN  "
      ],
      "text/html": "<div>\n<style scoped>\n    .dataframe tbody tr th:only-of-type {\n        vertical-align: middle;\n    }\n\n    .dataframe tbody tr th {\n        vertical-align: top;\n    }\n\n    .dataframe thead th {\n        text-align: right;\n    }\n</style>\n<table border=\"1\" class=\"dataframe\">\n  <thead>\n    <tr style=\"text-align: right;\">\n      <th></th>\n      <th>Sr no.</th>\n      <th>Type</th>\n      <th>Course Code</th>\n      <th>Course Name</th>\n      <th>Instructor(s)</th>\n      <th>Venue</th>\n      <th>Slot</th>\n      <th>Division</th>\n      <th>Registration Limit</th>\n      <th>Division.1</th>\n    </tr>\n  </thead>\n  <tbody>\n    <tr>\n      <td>0</td>\n      <td>NaN</td>\n      <td>NaN</td>\n      <td>NaN</td>\n      <td>NaN</td>\n      <td>NaN</td>\n      <td>NaN</td>\n      <td>NaN</td>\n      <td>NaN</td>\n      <td>NaN</td>\n      <td>Definition</td>\n    </tr>\n    <tr>\n      <td>1</td>\n      <td>1.0</td>\n      <td>timetable</td>\n      <td>EE 114</td>\n      <td>Power Engineering - I</td>\n      <td>I - Soman S.A.</td>\n      <td></td>\n      <td>1</td>\n      <td>S2</td>\n      <td>0</td>\n      <td>NaN</td>\n    </tr>\n    <tr>\n      <td>2</td>\n      <td>NaN</td>\n      <td>NaN</td>\n      <td>NaN</td>\n      <td>NaN</td>\n      <td>NaN</td>\n      <td>NaN</td>\n      <td>NaN</td>\n      <td>NaN</td>\n      <td>NaN</td>\n      <td>NaN</td>\n    </tr>\n    <tr>\n      <td>3</td>\n      <td>NaN</td>\n      <td>NaN</td>\n      <td>NaN</td>\n      <td>NaN</td>\n      <td>NaN</td>\n      <td>NaN</td>\n      <td>NaN</td>\n      <td>NaN</td>\n      <td>NaN</td>\n      <td>NaN</td>\n    </tr>\n    <tr>\n      <td>4</td>\n      <td>NaN</td>\n      <td>NaN</td>\n      <td>NaN</td>\n      <td>NaN</td>\n      <td>NaN</td>\n      <td>NaN</td>\n      <td>Mon-1A-08:30:00-09:25:00</td>\n      <td>NaN</td>\n      <td>NaN</td>\n      <td>NaN</td>\n    </tr>\n    <tr>\n      <td>5</td>\n      <td>NaN</td>\n      <td>NaN</td>\n      <td>NaN</td>\n      <td>NaN</td>\n      <td>NaN</td>\n      <td>NaN</td>\n      <td>Thu-1C-10:35:00-11:30:00</td>\n      <td>NaN</td>\n      <td>NaN</td>\n      <td>NaN</td>\n    </tr>\n    <tr>\n      <td>6</td>\n      <td>NaN</td>\n      <td>NaN</td>\n      <td>NaN</td>\n      <td>NaN</td>\n      <td>NaN</td>\n      <td>NaN</td>\n      <td>Tue-1B-09:30:00-10:25:00</td>\n      <td>NaN</td>\n      <td>NaN</td>\n      <td>NaN</td>\n    </tr>\n    <tr>\n      <td>7</td>\n      <td>2.0</td>\n      <td>timetable</td>\n      <td>EE 207</td>\n      <td>Electronic Devices &amp; Circuits</td>\n      <td>I - M. B. Patil</td>\n      <td></td>\n      <td>4</td>\n      <td>S1</td>\n      <td>0</td>\n      <td>NaN</td>\n    </tr>\n    <tr>\n      <td>8</td>\n      <td>NaN</td>\n      <td>NaN</td>\n      <td>NaN</td>\n      <td>NaN</td>\n      <td>NaN</td>\n      <td>NaN</td>\n      <td>NaN</td>\n      <td>NaN</td>\n      <td>NaN</td>\n      <td>NaN</td>\n    </tr>\n    <tr>\n      <td>9</td>\n      <td>NaN</td>\n      <td>NaN</td>\n      <td>NaN</td>\n      <td>NaN</td>\n      <td>NaN</td>\n      <td>NaN</td>\n      <td>NaN</td>\n      <td>NaN</td>\n      <td>NaN</td>\n      <td>NaN</td>\n    </tr>\n    <tr>\n      <td>10</td>\n      <td>NaN</td>\n      <td>NaN</td>\n      <td>NaN</td>\n      <td>NaN</td>\n      <td>NaN</td>\n      <td>NaN</td>\n      <td>Mon-4A-11:35:00-12:30:00</td>\n      <td>NaN</td>\n      <td>NaN</td>\n      <td>NaN</td>\n    </tr>\n    <tr>\n      <td>11</td>\n      <td>NaN</td>\n      <td>NaN</td>\n      <td>NaN</td>\n      <td>NaN</td>\n      <td>NaN</td>\n      <td>NaN</td>\n      <td>Thu-4C-09:30:00-10:25:00</td>\n      <td>NaN</td>\n      <td>NaN</td>\n      <td>NaN</td>\n    </tr>\n    <tr>\n      <td>12</td>\n      <td>NaN</td>\n      <td>NaN</td>\n      <td>NaN</td>\n      <td>NaN</td>\n      <td>NaN</td>\n      <td>NaN</td>\n      <td>Tue-4B-08:30:00-09:25:00</td>\n      <td>NaN</td>\n      <td>NaN</td>\n      <td>NaN</td>\n    </tr>\n    <tr>\n      <td>13</td>\n      <td>3.0</td>\n      <td>timetable</td>\n      <td>EE 207</td>\n      <td>Electronic Devices &amp; Circuits</td>\n      <td>I - Dipankar Saha</td>\n      <td></td>\n      <td>4</td>\n      <td>S2</td>\n      <td>0</td>\n      <td>NaN</td>\n    </tr>\n    <tr>\n      <td>14</td>\n      <td>NaN</td>\n      <td>NaN</td>\n      <td>NaN</td>\n      <td>NaN</td>\n      <td>NaN</td>\n      <td>NaN</td>\n      <td>NaN</td>\n      <td>NaN</td>\n      <td>NaN</td>\n      <td>NaN</td>\n    </tr>\n  </tbody>\n</table>\n</div>"
     },
     "metadata": {},
     "execution_count": 613
    }
   ],
   "source": [
    "df.head(15)"
   ]
  },
  {
   "cell_type": "code",
   "execution_count": 614,
   "metadata": {},
   "outputs": [],
   "source": [
    "df['Sr no.'] = df['Sr no.'].ffill()"
   ]
  },
  {
   "cell_type": "code",
   "execution_count": 615,
   "metadata": {},
   "outputs": [
    {
     "output_type": "execute_result",
     "data": {
      "text/plain": [
       "    Sr no.       Type Course Code                    Course Name  \\\n",
       "0      NaN        NaN         NaN                            NaN   \n",
       "1      1.0  timetable      EE 114          Power Engineering - I   \n",
       "2      1.0        NaN         NaN                            NaN   \n",
       "3      1.0        NaN         NaN                            NaN   \n",
       "4      1.0        NaN         NaN                            NaN   \n",
       "5      1.0        NaN         NaN                            NaN   \n",
       "6      1.0        NaN         NaN                            NaN   \n",
       "7      2.0  timetable      EE 207  Electronic Devices & Circuits   \n",
       "8      2.0        NaN         NaN                            NaN   \n",
       "9      2.0        NaN         NaN                            NaN   \n",
       "10     2.0        NaN         NaN                            NaN   \n",
       "11     2.0        NaN         NaN                            NaN   \n",
       "12     2.0        NaN         NaN                            NaN   \n",
       "13     3.0  timetable      EE 207  Electronic Devices & Circuits   \n",
       "14     3.0        NaN         NaN                            NaN   \n",
       "\n",
       "        Instructor(s) Venue                      Slot Division  \\\n",
       "0                 NaN   NaN                       NaN      NaN   \n",
       "1      I - Soman S.A.                               1       S2   \n",
       "2                 NaN   NaN                       NaN      NaN   \n",
       "3                 NaN   NaN                       NaN      NaN   \n",
       "4                 NaN   NaN  Mon-1A-08:30:00-09:25:00      NaN   \n",
       "5                 NaN   NaN  Thu-1C-10:35:00-11:30:00      NaN   \n",
       "6                 NaN   NaN  Tue-1B-09:30:00-10:25:00      NaN   \n",
       "7     I - M. B. Patil                               4       S1   \n",
       "8                 NaN   NaN                       NaN      NaN   \n",
       "9                 NaN   NaN                       NaN      NaN   \n",
       "10                NaN   NaN  Mon-4A-11:35:00-12:30:00      NaN   \n",
       "11                NaN   NaN  Thu-4C-09:30:00-10:25:00      NaN   \n",
       "12                NaN   NaN  Tue-4B-08:30:00-09:25:00      NaN   \n",
       "13  I - Dipankar Saha                               4       S2   \n",
       "14                NaN   NaN                       NaN      NaN   \n",
       "\n",
       "   Registration Limit  Division.1  \n",
       "0                 NaN  Definition  \n",
       "1                   0         NaN  \n",
       "2                 NaN         NaN  \n",
       "3                 NaN         NaN  \n",
       "4                 NaN         NaN  \n",
       "5                 NaN         NaN  \n",
       "6                 NaN         NaN  \n",
       "7                   0         NaN  \n",
       "8                 NaN         NaN  \n",
       "9                 NaN         NaN  \n",
       "10                NaN         NaN  \n",
       "11                NaN         NaN  \n",
       "12                NaN         NaN  \n",
       "13                  0         NaN  \n",
       "14                NaN         NaN  "
      ],
      "text/html": "<div>\n<style scoped>\n    .dataframe tbody tr th:only-of-type {\n        vertical-align: middle;\n    }\n\n    .dataframe tbody tr th {\n        vertical-align: top;\n    }\n\n    .dataframe thead th {\n        text-align: right;\n    }\n</style>\n<table border=\"1\" class=\"dataframe\">\n  <thead>\n    <tr style=\"text-align: right;\">\n      <th></th>\n      <th>Sr no.</th>\n      <th>Type</th>\n      <th>Course Code</th>\n      <th>Course Name</th>\n      <th>Instructor(s)</th>\n      <th>Venue</th>\n      <th>Slot</th>\n      <th>Division</th>\n      <th>Registration Limit</th>\n      <th>Division.1</th>\n    </tr>\n  </thead>\n  <tbody>\n    <tr>\n      <td>0</td>\n      <td>NaN</td>\n      <td>NaN</td>\n      <td>NaN</td>\n      <td>NaN</td>\n      <td>NaN</td>\n      <td>NaN</td>\n      <td>NaN</td>\n      <td>NaN</td>\n      <td>NaN</td>\n      <td>Definition</td>\n    </tr>\n    <tr>\n      <td>1</td>\n      <td>1.0</td>\n      <td>timetable</td>\n      <td>EE 114</td>\n      <td>Power Engineering - I</td>\n      <td>I - Soman S.A.</td>\n      <td></td>\n      <td>1</td>\n      <td>S2</td>\n      <td>0</td>\n      <td>NaN</td>\n    </tr>\n    <tr>\n      <td>2</td>\n      <td>1.0</td>\n      <td>NaN</td>\n      <td>NaN</td>\n      <td>NaN</td>\n      <td>NaN</td>\n      <td>NaN</td>\n      <td>NaN</td>\n      <td>NaN</td>\n      <td>NaN</td>\n      <td>NaN</td>\n    </tr>\n    <tr>\n      <td>3</td>\n      <td>1.0</td>\n      <td>NaN</td>\n      <td>NaN</td>\n      <td>NaN</td>\n      <td>NaN</td>\n      <td>NaN</td>\n      <td>NaN</td>\n      <td>NaN</td>\n      <td>NaN</td>\n      <td>NaN</td>\n    </tr>\n    <tr>\n      <td>4</td>\n      <td>1.0</td>\n      <td>NaN</td>\n      <td>NaN</td>\n      <td>NaN</td>\n      <td>NaN</td>\n      <td>NaN</td>\n      <td>Mon-1A-08:30:00-09:25:00</td>\n      <td>NaN</td>\n      <td>NaN</td>\n      <td>NaN</td>\n    </tr>\n    <tr>\n      <td>5</td>\n      <td>1.0</td>\n      <td>NaN</td>\n      <td>NaN</td>\n      <td>NaN</td>\n      <td>NaN</td>\n      <td>NaN</td>\n      <td>Thu-1C-10:35:00-11:30:00</td>\n      <td>NaN</td>\n      <td>NaN</td>\n      <td>NaN</td>\n    </tr>\n    <tr>\n      <td>6</td>\n      <td>1.0</td>\n      <td>NaN</td>\n      <td>NaN</td>\n      <td>NaN</td>\n      <td>NaN</td>\n      <td>NaN</td>\n      <td>Tue-1B-09:30:00-10:25:00</td>\n      <td>NaN</td>\n      <td>NaN</td>\n      <td>NaN</td>\n    </tr>\n    <tr>\n      <td>7</td>\n      <td>2.0</td>\n      <td>timetable</td>\n      <td>EE 207</td>\n      <td>Electronic Devices &amp; Circuits</td>\n      <td>I - M. B. Patil</td>\n      <td></td>\n      <td>4</td>\n      <td>S1</td>\n      <td>0</td>\n      <td>NaN</td>\n    </tr>\n    <tr>\n      <td>8</td>\n      <td>2.0</td>\n      <td>NaN</td>\n      <td>NaN</td>\n      <td>NaN</td>\n      <td>NaN</td>\n      <td>NaN</td>\n      <td>NaN</td>\n      <td>NaN</td>\n      <td>NaN</td>\n      <td>NaN</td>\n    </tr>\n    <tr>\n      <td>9</td>\n      <td>2.0</td>\n      <td>NaN</td>\n      <td>NaN</td>\n      <td>NaN</td>\n      <td>NaN</td>\n      <td>NaN</td>\n      <td>NaN</td>\n      <td>NaN</td>\n      <td>NaN</td>\n      <td>NaN</td>\n    </tr>\n    <tr>\n      <td>10</td>\n      <td>2.0</td>\n      <td>NaN</td>\n      <td>NaN</td>\n      <td>NaN</td>\n      <td>NaN</td>\n      <td>NaN</td>\n      <td>Mon-4A-11:35:00-12:30:00</td>\n      <td>NaN</td>\n      <td>NaN</td>\n      <td>NaN</td>\n    </tr>\n    <tr>\n      <td>11</td>\n      <td>2.0</td>\n      <td>NaN</td>\n      <td>NaN</td>\n      <td>NaN</td>\n      <td>NaN</td>\n      <td>NaN</td>\n      <td>Thu-4C-09:30:00-10:25:00</td>\n      <td>NaN</td>\n      <td>NaN</td>\n      <td>NaN</td>\n    </tr>\n    <tr>\n      <td>12</td>\n      <td>2.0</td>\n      <td>NaN</td>\n      <td>NaN</td>\n      <td>NaN</td>\n      <td>NaN</td>\n      <td>NaN</td>\n      <td>Tue-4B-08:30:00-09:25:00</td>\n      <td>NaN</td>\n      <td>NaN</td>\n      <td>NaN</td>\n    </tr>\n    <tr>\n      <td>13</td>\n      <td>3.0</td>\n      <td>timetable</td>\n      <td>EE 207</td>\n      <td>Electronic Devices &amp; Circuits</td>\n      <td>I - Dipankar Saha</td>\n      <td></td>\n      <td>4</td>\n      <td>S2</td>\n      <td>0</td>\n      <td>NaN</td>\n    </tr>\n    <tr>\n      <td>14</td>\n      <td>3.0</td>\n      <td>NaN</td>\n      <td>NaN</td>\n      <td>NaN</td>\n      <td>NaN</td>\n      <td>NaN</td>\n      <td>NaN</td>\n      <td>NaN</td>\n      <td>NaN</td>\n      <td>NaN</td>\n    </tr>\n  </tbody>\n</table>\n</div>"
     },
     "metadata": {},
     "execution_count": 615
    }
   ],
   "source": [
    "df.head(15)"
   ]
  },
  {
   "cell_type": "code",
   "execution_count": 616,
   "metadata": {},
   "outputs": [
    {
     "output_type": "execute_result",
     "data": {
      "text/plain": [
       "array([nan,  1.,  2.,  3.,  4.,  5.,  6.,  7.,  8.,  9., 10., 11., 12.,\n",
       "       13., 14., 15., 16., 17., 18., 19., 20., 21., 22., 23., 24., 25.,\n",
       "       26., 27., 28., 29., 30., 31., 32., 33., 34., 35., 36., 37., 38.,\n",
       "       39., 40., 41., 42., 43., 44., 45., 46., 47., 48., 49., 50., 51.,\n",
       "       52., 53., 54., 55., 56., 57., 58., 59., 60., 61., 62., 63.])"
      ]
     },
     "metadata": {},
     "execution_count": 616
    }
   ],
   "source": [
    "df[df.columns[0]].unique()"
   ]
  },
  {
   "cell_type": "code",
   "execution_count": 617,
   "metadata": {},
   "outputs": [],
   "source": [
    "def listify(col):\n",
    "    final = []\n",
    "    for s in col:\n",
    "        if s is np.NaN:\n",
    "            continue\n",
    "        else:\n",
    "            final.append(s)\n",
    "    string = str(final)\n",
    "    for ch in [\"[\", \"]\", \",\", \"'\", \"nan\"]:\n",
    "        string = string.replace(ch, \"\")\n",
    "    string = string.replace(u'\\\\xa0', u' ')\n",
    "    return string"
   ]
  },
  {
   "cell_type": "code",
   "execution_count": 618,
   "metadata": {},
   "outputs": [],
   "source": [
    "trial_col = ['32', 'sol', '####', np.NaN]"
   ]
  },
  {
   "cell_type": "code",
   "execution_count": 619,
   "metadata": {},
   "outputs": [
    {
     "output_type": "execute_result",
     "data": {
      "text/plain": [
       "'32 sol ####'"
      ]
     },
     "metadata": {},
     "execution_count": 619
    }
   ],
   "source": [
    "listify(trial_col)"
   ]
  },
  {
   "cell_type": "code",
   "execution_count": 620,
   "metadata": {},
   "outputs": [],
   "source": [
    "df_final = pd.DataFrame(df.groupby(df.columns[0]).agg(listify))"
   ]
  },
  {
   "cell_type": "code",
   "execution_count": 621,
   "metadata": {},
   "outputs": [
    {
     "output_type": "execute_result",
     "data": {
      "text/plain": [
       "             Type Course Code                    Course Name  \\\n",
       "Sr no.                                                         \n",
       "1.0     timetable      EE 114          Power Engineering - I   \n",
       "2.0     timetable      EE 207  Electronic Devices & Circuits   \n",
       "3.0     timetable      EE 207  Electronic Devices & Circuits   \n",
       "4.0     timetable      EE 214           Digital Circuits Lab   \n",
       "5.0     timetable      EE 221            Digital Electronics   \n",
       "\n",
       "                Instructor(s) Venue  \\\n",
       "Sr no.                                \n",
       "1.0            I - Soman S.A.         \n",
       "2.0           I - M. B. Patil         \n",
       "3.0         I - Dipankar Saha         \n",
       "4.0     I - M.Shojaei Baghini         \n",
       "5.0         I - Agarwal Vivek         \n",
       "\n",
       "                                                     Slot Division  \\\n",
       "Sr no.                                                               \n",
       "1.0     1 Mon-1A-08:30:00-09:25:00 Thu-1C-10:35:00-11:...       S2   \n",
       "2.0     4 Mon-4A-11:35:00-12:30:00 Thu-4C-09:30:00-10:...       S1   \n",
       "3.0     4 Mon-4A-11:35:00-12:30:00 Thu-4C-09:30:00-10:...       S2   \n",
       "4.0                              Thu-L3-14:00:00-16:55:00            \n",
       "5.0     5 Fri-5B-09:30:00-10:55:00 Wed-5A-09:30:00-10:...        M   \n",
       "\n",
       "       Registration Limit Division.1  \n",
       "Sr no.                                \n",
       "1.0                     0             \n",
       "2.0                     0             \n",
       "3.0                     0             \n",
       "4.0                     0             \n",
       "5.0                    60             "
      ],
      "text/html": "<div>\n<style scoped>\n    .dataframe tbody tr th:only-of-type {\n        vertical-align: middle;\n    }\n\n    .dataframe tbody tr th {\n        vertical-align: top;\n    }\n\n    .dataframe thead th {\n        text-align: right;\n    }\n</style>\n<table border=\"1\" class=\"dataframe\">\n  <thead>\n    <tr style=\"text-align: right;\">\n      <th></th>\n      <th>Type</th>\n      <th>Course Code</th>\n      <th>Course Name</th>\n      <th>Instructor(s)</th>\n      <th>Venue</th>\n      <th>Slot</th>\n      <th>Division</th>\n      <th>Registration Limit</th>\n      <th>Division.1</th>\n    </tr>\n    <tr>\n      <th>Sr no.</th>\n      <th></th>\n      <th></th>\n      <th></th>\n      <th></th>\n      <th></th>\n      <th></th>\n      <th></th>\n      <th></th>\n      <th></th>\n    </tr>\n  </thead>\n  <tbody>\n    <tr>\n      <td>1.0</td>\n      <td>timetable</td>\n      <td>EE 114</td>\n      <td>Power Engineering - I</td>\n      <td>I - Soman S.A.</td>\n      <td></td>\n      <td>1 Mon-1A-08:30:00-09:25:00 Thu-1C-10:35:00-11:...</td>\n      <td>S2</td>\n      <td>0</td>\n      <td></td>\n    </tr>\n    <tr>\n      <td>2.0</td>\n      <td>timetable</td>\n      <td>EE 207</td>\n      <td>Electronic Devices &amp; Circuits</td>\n      <td>I - M. B. Patil</td>\n      <td></td>\n      <td>4 Mon-4A-11:35:00-12:30:00 Thu-4C-09:30:00-10:...</td>\n      <td>S1</td>\n      <td>0</td>\n      <td></td>\n    </tr>\n    <tr>\n      <td>3.0</td>\n      <td>timetable</td>\n      <td>EE 207</td>\n      <td>Electronic Devices &amp; Circuits</td>\n      <td>I - Dipankar Saha</td>\n      <td></td>\n      <td>4 Mon-4A-11:35:00-12:30:00 Thu-4C-09:30:00-10:...</td>\n      <td>S2</td>\n      <td>0</td>\n      <td></td>\n    </tr>\n    <tr>\n      <td>4.0</td>\n      <td>timetable</td>\n      <td>EE 214</td>\n      <td>Digital Circuits Lab</td>\n      <td>I - M.Shojaei Baghini</td>\n      <td></td>\n      <td>Thu-L3-14:00:00-16:55:00</td>\n      <td></td>\n      <td>0</td>\n      <td></td>\n    </tr>\n    <tr>\n      <td>5.0</td>\n      <td>timetable</td>\n      <td>EE 221</td>\n      <td>Digital Electronics</td>\n      <td>I - Agarwal Vivek</td>\n      <td></td>\n      <td>5 Fri-5B-09:30:00-10:55:00 Wed-5A-09:30:00-10:...</td>\n      <td>M</td>\n      <td>60</td>\n      <td></td>\n    </tr>\n  </tbody>\n</table>\n</div>"
     },
     "metadata": {},
     "execution_count": 621
    }
   ],
   "source": [
    "df_final.head(5)"
   ]
  },
  {
   "cell_type": "code",
   "execution_count": 622,
   "metadata": {},
   "outputs": [],
   "source": [
    "# def time_picker(col):\n",
    "#     final_col = []\n",
    "#     for s in col:\n",
    "#         final_col.append(s[2:])\n",
    "#     return final_col"
   ]
  },
  {
   "cell_type": "code",
   "execution_count": 623,
   "metadata": {},
   "outputs": [],
   "source": [
    "# trial_col = ['2322323', 'chitag', 'ddjdj']\n",
    "# time_picker(df_final['Slot'])"
   ]
  },
  {
   "cell_type": "code",
   "execution_count": 624,
   "metadata": {},
   "outputs": [],
   "source": [
    "# for s in df['Slot']:\n",
    "#     print(s)"
   ]
  },
  {
   "cell_type": "code",
   "execution_count": 625,
   "metadata": {},
   "outputs": [],
   "source": [
    "df_final['Time'] = [s[2:] for s in df_final['Slot']]"
   ]
  },
  {
   "cell_type": "code",
   "execution_count": 626,
   "metadata": {},
   "outputs": [
    {
     "output_type": "execute_result",
     "data": {
      "text/plain": [
       "             Type Course Code                    Course Name  \\\n",
       "Sr no.                                                         \n",
       "1.0     timetable      EE 114          Power Engineering - I   \n",
       "2.0     timetable      EE 207  Electronic Devices & Circuits   \n",
       "3.0     timetable      EE 207  Electronic Devices & Circuits   \n",
       "4.0     timetable      EE 214           Digital Circuits Lab   \n",
       "5.0     timetable      EE 221            Digital Electronics   \n",
       "\n",
       "                Instructor(s) Venue  \\\n",
       "Sr no.                                \n",
       "1.0            I - Soman S.A.         \n",
       "2.0           I - M. B. Patil         \n",
       "3.0         I - Dipankar Saha         \n",
       "4.0     I - M.Shojaei Baghini         \n",
       "5.0         I - Agarwal Vivek         \n",
       "\n",
       "                                                     Slot Division  \\\n",
       "Sr no.                                                               \n",
       "1.0     1 Mon-1A-08:30:00-09:25:00 Thu-1C-10:35:00-11:...       S2   \n",
       "2.0     4 Mon-4A-11:35:00-12:30:00 Thu-4C-09:30:00-10:...       S1   \n",
       "3.0     4 Mon-4A-11:35:00-12:30:00 Thu-4C-09:30:00-10:...       S2   \n",
       "4.0                              Thu-L3-14:00:00-16:55:00            \n",
       "5.0     5 Fri-5B-09:30:00-10:55:00 Wed-5A-09:30:00-10:...        M   \n",
       "\n",
       "       Registration Limit Division.1  \\\n",
       "Sr no.                                 \n",
       "1.0                     0              \n",
       "2.0                     0              \n",
       "3.0                     0              \n",
       "4.0                     0              \n",
       "5.0                    60              \n",
       "\n",
       "                                                     Time  \n",
       "Sr no.                                                     \n",
       "1.0     Mon-1A-08:30:00-09:25:00 Thu-1C-10:35:00-11:30...  \n",
       "2.0     Mon-4A-11:35:00-12:30:00 Thu-4C-09:30:00-10:25...  \n",
       "3.0     Mon-4A-11:35:00-12:30:00 Thu-4C-09:30:00-10:25...  \n",
       "4.0                                u-L3-14:00:00-16:55:00  \n",
       "5.0     Fri-5B-09:30:00-10:55:00 Wed-5A-09:30:00-10:55:00  "
      ],
      "text/html": "<div>\n<style scoped>\n    .dataframe tbody tr th:only-of-type {\n        vertical-align: middle;\n    }\n\n    .dataframe tbody tr th {\n        vertical-align: top;\n    }\n\n    .dataframe thead th {\n        text-align: right;\n    }\n</style>\n<table border=\"1\" class=\"dataframe\">\n  <thead>\n    <tr style=\"text-align: right;\">\n      <th></th>\n      <th>Type</th>\n      <th>Course Code</th>\n      <th>Course Name</th>\n      <th>Instructor(s)</th>\n      <th>Venue</th>\n      <th>Slot</th>\n      <th>Division</th>\n      <th>Registration Limit</th>\n      <th>Division.1</th>\n      <th>Time</th>\n    </tr>\n    <tr>\n      <th>Sr no.</th>\n      <th></th>\n      <th></th>\n      <th></th>\n      <th></th>\n      <th></th>\n      <th></th>\n      <th></th>\n      <th></th>\n      <th></th>\n      <th></th>\n    </tr>\n  </thead>\n  <tbody>\n    <tr>\n      <td>1.0</td>\n      <td>timetable</td>\n      <td>EE 114</td>\n      <td>Power Engineering - I</td>\n      <td>I - Soman S.A.</td>\n      <td></td>\n      <td>1 Mon-1A-08:30:00-09:25:00 Thu-1C-10:35:00-11:...</td>\n      <td>S2</td>\n      <td>0</td>\n      <td></td>\n      <td>Mon-1A-08:30:00-09:25:00 Thu-1C-10:35:00-11:30...</td>\n    </tr>\n    <tr>\n      <td>2.0</td>\n      <td>timetable</td>\n      <td>EE 207</td>\n      <td>Electronic Devices &amp; Circuits</td>\n      <td>I - M. B. Patil</td>\n      <td></td>\n      <td>4 Mon-4A-11:35:00-12:30:00 Thu-4C-09:30:00-10:...</td>\n      <td>S1</td>\n      <td>0</td>\n      <td></td>\n      <td>Mon-4A-11:35:00-12:30:00 Thu-4C-09:30:00-10:25...</td>\n    </tr>\n    <tr>\n      <td>3.0</td>\n      <td>timetable</td>\n      <td>EE 207</td>\n      <td>Electronic Devices &amp; Circuits</td>\n      <td>I - Dipankar Saha</td>\n      <td></td>\n      <td>4 Mon-4A-11:35:00-12:30:00 Thu-4C-09:30:00-10:...</td>\n      <td>S2</td>\n      <td>0</td>\n      <td></td>\n      <td>Mon-4A-11:35:00-12:30:00 Thu-4C-09:30:00-10:25...</td>\n    </tr>\n    <tr>\n      <td>4.0</td>\n      <td>timetable</td>\n      <td>EE 214</td>\n      <td>Digital Circuits Lab</td>\n      <td>I - M.Shojaei Baghini</td>\n      <td></td>\n      <td>Thu-L3-14:00:00-16:55:00</td>\n      <td></td>\n      <td>0</td>\n      <td></td>\n      <td>u-L3-14:00:00-16:55:00</td>\n    </tr>\n    <tr>\n      <td>5.0</td>\n      <td>timetable</td>\n      <td>EE 221</td>\n      <td>Digital Electronics</td>\n      <td>I - Agarwal Vivek</td>\n      <td></td>\n      <td>5 Fri-5B-09:30:00-10:55:00 Wed-5A-09:30:00-10:...</td>\n      <td>M</td>\n      <td>60</td>\n      <td></td>\n      <td>Fri-5B-09:30:00-10:55:00 Wed-5A-09:30:00-10:55:00</td>\n    </tr>\n  </tbody>\n</table>\n</div>"
     },
     "metadata": {},
     "execution_count": 626
    }
   ],
   "source": [
    "df_final.head(5)"
   ]
  },
  {
   "cell_type": "code",
   "execution_count": 627,
   "metadata": {},
   "outputs": [],
   "source": [
    "# df_final['Slot'] = [s[0:1] for s in df_final['Slot']]"
   ]
  },
  {
   "cell_type": "code",
   "execution_count": 628,
   "metadata": {},
   "outputs": [],
   "source": [
    "# x='23'\n",
    "# if x is '':\n",
    "#     x=0\n",
    "# else:\n",
    "#     try:\n",
    "#         x=int(x)\n",
    "#     except:\n",
    "#         x=x\n",
    "# print(x)"
   ]
  },
  {
   "cell_type": "code",
   "execution_count": 629,
   "metadata": {},
   "outputs": [],
   "source": [
    "# def tryconvert(value):\n",
    "#     if value is '':\n",
    "#         final = 0\n",
    "#     else:\n",
    "#         try:\n",
    "#             final = int(value)\n",
    "#         except:\n",
    "#             final = value\n",
    "#     return final\n",
    "\n",
    "# tryconvert('LM')"
   ]
  },
  {
   "cell_type": "code",
   "execution_count": 630,
   "metadata": {},
   "outputs": [],
   "source": [
    "# df_final.columns"
   ]
  },
  {
   "cell_type": "code",
   "execution_count": 631,
   "metadata": {},
   "outputs": [],
   "source": [
    "# df_final['Slot'] = [tryconvert(s[0:2]) for s in df_final['Slot']]"
   ]
  },
  {
   "cell_type": "code",
   "execution_count": 634,
   "metadata": {},
   "outputs": [
    {
     "output_type": "execute_result",
     "data": {
      "text/plain": [
       "             Type Course Code  \\\n",
       "Sr no.                          \n",
       "1.0     timetable      EE 114   \n",
       "2.0     timetable      EE 207   \n",
       "3.0     timetable      EE 207   \n",
       "4.0     timetable      EE 214   \n",
       "5.0     timetable      EE 221   \n",
       "6.0     timetable      EE 238   \n",
       "7.0     timetable      EE 238   \n",
       "8.0     timetable      EE 240   \n",
       "9.0     timetable      EE 302   \n",
       "10.0    timetable      EE 302   \n",
       "11.0    timetable      EE 302   \n",
       "12.0    timetable      EE 302   \n",
       "13.0    timetable      EE 309   \n",
       "14.0    timetable      EE 324   \n",
       "15.0    timetable      EE 325   \n",
       "16.0    timetable      EE 328   \n",
       "17.0    timetable      EE 328   \n",
       "18.0    timetable      EE 334   \n",
       "19.0    timetable      EE 337   \n",
       "20.0    timetable      EE 340   \n",
       "21.0    timetable      EE 344   \n",
       "22.0    timetable      EE 605   \n",
       "23.0    timetable      EE 606   \n",
       "24.0    timetable      EE 614   \n",
       "25.0    timetable      EE 616   \n",
       "26.0    timetable      EE 620   \n",
       "27.0    timetable      EE 621   \n",
       "28.0    timetable      EE 622   \n",
       "29.0    timetable      EE 625   \n",
       "30.0    timetable      EE 636   \n",
       "31.0    timetable      EE 651   \n",
       "32.0    timetable      EE 654   \n",
       "33.0    timetable      EE 656   \n",
       "34.0    timetable      EE 672   \n",
       "35.0    timetable      EE 678   \n",
       "36.0    timetable      EE 699   \n",
       "37.0    timetable      EE 701   \n",
       "38.0    timetable      EE 705   \n",
       "39.0    timetable      EE 706   \n",
       "40.0    timetable      EE 708   \n",
       "\n",
       "                                              Course Name  \\\n",
       "Sr no.                                                      \n",
       "1.0                                 Power Engineering - I   \n",
       "2.0                         Electronic Devices & Circuits   \n",
       "3.0                         Electronic Devices & Circuits   \n",
       "4.0                                  Digital Circuits Lab   \n",
       "5.0                                   Digital Electronics   \n",
       "6.0                                Power Engineering - II   \n",
       "7.0                                Power Engineering - II   \n",
       "8.0                                 Power Engineering Lab   \n",
       "9.0                                       Control Systems   \n",
       "10.0                                      Control Systems   \n",
       "11.0                                      Control Systems   \n",
       "12.0                                      Control Systems   \n",
       "13.0                                      Microprocessors   \n",
       "14.0                                  Control Systems Lab   \n",
       "15.0                     Probability and Random Processes   \n",
       "16.0                               Digital Communications   \n",
       "17.0                               Digital Communications   \n",
       "18.0                                        Power Systems   \n",
       "19.0                           Microprocessors Laboratory   \n",
       "20.0                                   Communications Lab   \n",
       "21.0                                Electronic Design Lab   \n",
       "22.0                               Error Correcting Codes   \n",
       "23.0                           Fibre Optic Communications   \n",
       "24.0    Solid State Microwave Devices and their Applic...   \n",
       "25.0                            Electronic Systems Design   \n",
       "26.0                               Physics of Transistors   \n",
       "27.0                    Markov Chains and Queuing Systems   \n",
       "28.0                              Optimal Control Systems   \n",
       "29.0                                Bio Sensors & BioMEMS   \n",
       "30.0                                  Matrix Computations   \n",
       "31.0                  Digital Protection of Power Systems   \n",
       "32.0                               Power Electronics - II   \n",
       "33.0              Electrical Machine Analysis and Control   \n",
       "34.0                                 Microelectronics Lab   \n",
       "35.0                                             Wavelets   \n",
       "36.0    Delta Sigma Data Converters and their Applicat...   \n",
       "37.0                                 Introduction to MEMS   \n",
       "38.0                                   V L S I Design Lab   \n",
       "39.0                               Communication Networks   \n",
       "40.0                          Information Theory & Coding   \n",
       "\n",
       "                                            Instructor(s) Venue  \\\n",
       "Sr no.                                                            \n",
       "1.0                                        I - Soman S.A.         \n",
       "2.0                                       I - M. B. Patil         \n",
       "3.0                                     I - Dipankar Saha         \n",
       "4.0                                 I - M.Shojaei Baghini         \n",
       "5.0                                     I - Agarwal Vivek         \n",
       "6.0                                I - Chatterjee Kishore         \n",
       "7.0                                   I - Anshuman Shukla         \n",
       "8.0          A - Chatterjee Kishore I - Prashant Navalkar         \n",
       "9.0                                           I - M Belur         \n",
       "10.0                               I - Debraj Chakraborty         \n",
       "11.0                              I - Dwaipayan Mukherjee         \n",
       "12.0                                    I - Pillai Harish         \n",
       "13.0                                    I - Sharma Dinesh         \n",
       "14.0                       A - Debasattam Pal I - M Belur         \n",
       "15.0                             I - Nikhil Karamchandani         \n",
       "16.0                                    I - Kumar Appaiah         \n",
       "17.0                                     I - Merchant S N         \n",
       "18.0                                    I - Kulkarni A.M.         \n",
       "19.0    A - Patkar Sachin A - S. Vijayakumaran I - V R...         \n",
       "20.0                                   I - Jayakrish Nair         \n",
       "21.0    A - Debraj Chakraborty A - J.John I - J.Mukherjee         \n",
       "22.0                               I - Sibi Raj B. Pillai         \n",
       "23.0                                           I - J.John         \n",
       "24.0                                     I - Kumar Girish         \n",
       "25.0                                      I - Pandey P.C.         \n",
       "26.0                                 I - Souvik Mahapatra         \n",
       "27.0                                   I - Jayakrish Nair         \n",
       "28.0                                    I - Pillai Harish         \n",
       "29.0                                    I - S. Duttagupta         \n",
       "30.0                                   I - Debasattam Pal         \n",
       "31.0                                I - Prashant Navalkar         \n",
       "32.0                                    I - M. Chandorkar         \n",
       "33.0                                      I - Ferdes B.G.         \n",
       "34.0                  A - Apurba Laha I - Swaroop Ganguly         \n",
       "35.0                                       I - Gadre V.M.         \n",
       "36.0                                    I - Pramod Murali         \n",
       "37.0                                 I - Siddharth Tallur         \n",
       "38.0                                    I - Patkar Sachin         \n",
       "39.0                                  I - Sharayu Moharir         \n",
       "40.0                                          I - B.K.Dey         \n",
       "\n",
       "                                                     Slot Division  \\\n",
       "Sr no.                                                               \n",
       "1.0     1 Mon-1A-08:30:00-09:25:00 Thu-1C-10:35:00-11:...       S2   \n",
       "2.0     4 Mon-4A-11:35:00-12:30:00 Thu-4C-09:30:00-10:...       S1   \n",
       "3.0     4 Mon-4A-11:35:00-12:30:00 Thu-4C-09:30:00-10:...       S2   \n",
       "4.0                              Thu-L3-14:00:00-16:55:00            \n",
       "5.0     5 Fri-5B-09:30:00-10:55:00 Wed-5A-09:30:00-10:...        M   \n",
       "6.0     2 Mon-2A-09:30:00-10:25:00 Thu-2C-11:35:00-12:...       S1   \n",
       "7.0     2 Mon-2A-09:30:00-10:25:00 Thu-2C-11:35:00-12:...       S2   \n",
       "8.0                           L2 Tue-L2-14:00:00-16:55:00            \n",
       "9.0     3 Mon-3A-10:35:00-11:30:00 Thu-3C-08:30:00-09:...       S1   \n",
       "10.0    3 Mon-3A-10:35:00-11:30:00 Thu-3C-08:30:00-09:...       S2   \n",
       "11.0    3 Mon-3A-10:35:00-11:30:00 Thu-3C-08:30:00-09:...       S3   \n",
       "12.0    3 Mon-3A-10:35:00-11:30:00 Thu-3C-08:30:00-09:...       S4   \n",
       "13.0    1 Mon-1A-08:30:00-09:25:00 Thu-1C-10:35:00-11:...            \n",
       "14.0                          L1 Mon-L1-14:00:00-16:55:00            \n",
       "15.0    5 Fri-5B-09:30:00-10:55:00 Wed-5A-09:30:00-10:...        M   \n",
       "16.0    1 Mon-1A-08:30:00-09:25:00 Thu-1C-10:35:00-11:...       S1   \n",
       "17.0    1 Mon-1A-08:30:00-09:25:00 Thu-1C-10:35:00-11:...       S2   \n",
       "18.0    4 Mon-4A-11:35:00-12:30:00 Thu-4C-09:30:00-10:...            \n",
       "19.0                             Wed-LX-14:00:00-16:55:00            \n",
       "20.0                             Tue-L2-14:00:00-16:55:00            \n",
       "21.0                          LX Wed-LX-14:00:00-16:55:00            \n",
       "22.0    14 Fri-14B-17:30:00-18:55:00 Tue-14A-17:30:00-...            \n",
       "23.0    2 Mon-2A-09:30:00-10:25:00 Thu-2C-11:35:00-12:...            \n",
       "24.0    12 Mon-12A-17:30:00-18:55:00 Thu-12B-17:30:00-...            \n",
       "25.0    12 Mon-12A-17:30:00-18:55:00 Thu-12B-17:30:00-...            \n",
       "26.0    6 Fri-6B-11:05:00-12:30:00 Wed-6A-11:05:00-12:...            \n",
       "27.0    12 Mon-12A-17:30:00-18:55:00 Thu-12B-17:30:00-...            \n",
       "28.0    2 Mon-2A-09:30:00-10:25:00 Thu-2C-11:35:00-12:...            \n",
       "29.0    3 Mon-3A-10:35:00-11:30:00 Thu-3C-08:30:00-09:...            \n",
       "30.0    3 Mon-3A-10:35:00-11:30:00 Thu-3C-08:30:00-09:...            \n",
       "31.0    12 Mon-12A-17:30:00-18:55:00 Thu-12B-17:30:00-...            \n",
       "32.0    2 Mon-2A-09:30:00-10:25:00 Thu-2C-11:35:00-12:...            \n",
       "33.0    6 Fri-6B-11:05:00-12:30:00 Wed-6A-11:05:00-12:...            \n",
       "34.0                             Fri-L4-14:00:00-16:55:00            \n",
       "35.0    6 Fri-6B-11:05:00-12:30:00 Wed-6A-11:05:00-12:...            \n",
       "36.0    14 Fri-14B-17:30:00-18:55:00 Tue-14A-17:30:00-...            \n",
       "37.0    3 Mon-3A-10:35:00-11:30:00 Thu-3C-08:30:00-09:...            \n",
       "38.0                          LX Wed-LX-14:00:00-16:55:00            \n",
       "39.0    9 Mon-9A-15:30:00-16:55:00 Thu-9B-15:30:00-16:...            \n",
       "40.0    3 Mon-3A-10:35:00-11:30:00 Thu-3C-08:30:00-09:...            \n",
       "\n",
       "       Registration Limit Division.1  \\\n",
       "Sr no.                                 \n",
       "1.0                     0              \n",
       "2.0                     0              \n",
       "3.0                     0              \n",
       "4.0                     0              \n",
       "5.0                    60              \n",
       "6.0                     0              \n",
       "7.0                     0              \n",
       "8.0                     0              \n",
       "9.0                     0              \n",
       "10.0                    0              \n",
       "11.0                    0              \n",
       "12.0                    0              \n",
       "13.0                    0              \n",
       "14.0                    0              \n",
       "15.0                   60              \n",
       "16.0                    0              \n",
       "17.0                    0              \n",
       "18.0                    0              \n",
       "19.0                    0              \n",
       "20.0                    0              \n",
       "21.0                    0              \n",
       "22.0                    0              \n",
       "23.0                    0              \n",
       "24.0                    0              \n",
       "25.0                    0              \n",
       "26.0                    0              \n",
       "27.0                    0              \n",
       "28.0                    0              \n",
       "29.0                    0              \n",
       "30.0                    0              \n",
       "31.0                    0              \n",
       "32.0                    0              \n",
       "33.0                    0              \n",
       "34.0                    0              \n",
       "35.0                    0              \n",
       "36.0                   30              \n",
       "37.0                    0              \n",
       "38.0                    0              \n",
       "39.0                    0              \n",
       "40.0                    0              \n",
       "\n",
       "                                                     Time  \n",
       "Sr no.                                                     \n",
       "1.0     Mon-1A-08:30:00-09:25:00 Thu-1C-10:35:00-11:30...  \n",
       "2.0     Mon-4A-11:35:00-12:30:00 Thu-4C-09:30:00-10:25...  \n",
       "3.0     Mon-4A-11:35:00-12:30:00 Thu-4C-09:30:00-10:25...  \n",
       "4.0                                u-L3-14:00:00-16:55:00  \n",
       "5.0     Fri-5B-09:30:00-10:55:00 Wed-5A-09:30:00-10:55:00  \n",
       "6.0     Mon-2A-09:30:00-10:25:00 Thu-2C-11:35:00-12:30...  \n",
       "7.0     Mon-2A-09:30:00-10:25:00 Thu-2C-11:35:00-12:30...  \n",
       "8.0                              Tue-L2-14:00:00-16:55:00  \n",
       "9.0     Mon-3A-10:35:00-11:30:00 Thu-3C-08:30:00-09:25...  \n",
       "10.0    Mon-3A-10:35:00-11:30:00 Thu-3C-08:30:00-09:25...  \n",
       "11.0    Mon-3A-10:35:00-11:30:00 Thu-3C-08:30:00-09:25...  \n",
       "12.0    Mon-3A-10:35:00-11:30:00 Thu-3C-08:30:00-09:25...  \n",
       "13.0    Mon-1A-08:30:00-09:25:00 Thu-1C-10:35:00-11:30...  \n",
       "14.0                             Mon-L1-14:00:00-16:55:00  \n",
       "15.0    Fri-5B-09:30:00-10:55:00 Wed-5A-09:30:00-10:55:00  \n",
       "16.0    Mon-1A-08:30:00-09:25:00 Thu-1C-10:35:00-11:30...  \n",
       "17.0    Mon-1A-08:30:00-09:25:00 Thu-1C-10:35:00-11:30...  \n",
       "18.0    Mon-4A-11:35:00-12:30:00 Thu-4C-09:30:00-10:25...  \n",
       "19.0                               d-LX-14:00:00-16:55:00  \n",
       "20.0                               e-L2-14:00:00-16:55:00  \n",
       "21.0                             Wed-LX-14:00:00-16:55:00  \n",
       "22.0     Fri-14B-17:30:00-18:55:00 Tue-14A-17:30:00-18...  \n",
       "23.0    Mon-2A-09:30:00-10:25:00 Thu-2C-11:35:00-12:30...  \n",
       "24.0     Mon-12A-17:30:00-18:55:00 Thu-12B-17:30:00-18...  \n",
       "25.0     Mon-12A-17:30:00-18:55:00 Thu-12B-17:30:00-18...  \n",
       "26.0    Fri-6B-11:05:00-12:30:00 Wed-6A-11:05:00-12:30:00  \n",
       "27.0     Mon-12A-17:30:00-18:55:00 Thu-12B-17:30:00-18...  \n",
       "28.0    Mon-2A-09:30:00-10:25:00 Thu-2C-11:35:00-12:30...  \n",
       "29.0    Mon-3A-10:35:00-11:30:00 Thu-3C-08:30:00-09:25...  \n",
       "30.0    Mon-3A-10:35:00-11:30:00 Thu-3C-08:30:00-09:25...  \n",
       "31.0     Mon-12A-17:30:00-18:55:00 Thu-12B-17:30:00-18...  \n",
       "32.0    Mon-2A-09:30:00-10:25:00 Thu-2C-11:35:00-12:30...  \n",
       "33.0    Fri-6B-11:05:00-12:30:00 Wed-6A-11:05:00-12:30:00  \n",
       "34.0                               i-L4-14:00:00-16:55:00  \n",
       "35.0    Fri-6B-11:05:00-12:30:00 Wed-6A-11:05:00-12:30:00  \n",
       "36.0     Fri-14B-17:30:00-18:55:00 Tue-14A-17:30:00-18...  \n",
       "37.0    Mon-3A-10:35:00-11:30:00 Thu-3C-08:30:00-09:25...  \n",
       "38.0                             Wed-LX-14:00:00-16:55:00  \n",
       "39.0    Mon-9A-15:30:00-16:55:00 Thu-9B-15:30:00-16:55:00  \n",
       "40.0    Mon-3A-10:35:00-11:30:00 Thu-3C-08:30:00-09:25...  "
      ],
      "text/html": "<div>\n<style scoped>\n    .dataframe tbody tr th:only-of-type {\n        vertical-align: middle;\n    }\n\n    .dataframe tbody tr th {\n        vertical-align: top;\n    }\n\n    .dataframe thead th {\n        text-align: right;\n    }\n</style>\n<table border=\"1\" class=\"dataframe\">\n  <thead>\n    <tr style=\"text-align: right;\">\n      <th></th>\n      <th>Type</th>\n      <th>Course Code</th>\n      <th>Course Name</th>\n      <th>Instructor(s)</th>\n      <th>Venue</th>\n      <th>Slot</th>\n      <th>Division</th>\n      <th>Registration Limit</th>\n      <th>Division.1</th>\n      <th>Time</th>\n    </tr>\n    <tr>\n      <th>Sr no.</th>\n      <th></th>\n      <th></th>\n      <th></th>\n      <th></th>\n      <th></th>\n      <th></th>\n      <th></th>\n      <th></th>\n      <th></th>\n      <th></th>\n    </tr>\n  </thead>\n  <tbody>\n    <tr>\n      <td>1.0</td>\n      <td>timetable</td>\n      <td>EE 114</td>\n      <td>Power Engineering - I</td>\n      <td>I - Soman S.A.</td>\n      <td></td>\n      <td>1 Mon-1A-08:30:00-09:25:00 Thu-1C-10:35:00-11:...</td>\n      <td>S2</td>\n      <td>0</td>\n      <td></td>\n      <td>Mon-1A-08:30:00-09:25:00 Thu-1C-10:35:00-11:30...</td>\n    </tr>\n    <tr>\n      <td>2.0</td>\n      <td>timetable</td>\n      <td>EE 207</td>\n      <td>Electronic Devices &amp; Circuits</td>\n      <td>I - M. B. Patil</td>\n      <td></td>\n      <td>4 Mon-4A-11:35:00-12:30:00 Thu-4C-09:30:00-10:...</td>\n      <td>S1</td>\n      <td>0</td>\n      <td></td>\n      <td>Mon-4A-11:35:00-12:30:00 Thu-4C-09:30:00-10:25...</td>\n    </tr>\n    <tr>\n      <td>3.0</td>\n      <td>timetable</td>\n      <td>EE 207</td>\n      <td>Electronic Devices &amp; Circuits</td>\n      <td>I - Dipankar Saha</td>\n      <td></td>\n      <td>4 Mon-4A-11:35:00-12:30:00 Thu-4C-09:30:00-10:...</td>\n      <td>S2</td>\n      <td>0</td>\n      <td></td>\n      <td>Mon-4A-11:35:00-12:30:00 Thu-4C-09:30:00-10:25...</td>\n    </tr>\n    <tr>\n      <td>4.0</td>\n      <td>timetable</td>\n      <td>EE 214</td>\n      <td>Digital Circuits Lab</td>\n      <td>I - M.Shojaei Baghini</td>\n      <td></td>\n      <td>Thu-L3-14:00:00-16:55:00</td>\n      <td></td>\n      <td>0</td>\n      <td></td>\n      <td>u-L3-14:00:00-16:55:00</td>\n    </tr>\n    <tr>\n      <td>5.0</td>\n      <td>timetable</td>\n      <td>EE 221</td>\n      <td>Digital Electronics</td>\n      <td>I - Agarwal Vivek</td>\n      <td></td>\n      <td>5 Fri-5B-09:30:00-10:55:00 Wed-5A-09:30:00-10:...</td>\n      <td>M</td>\n      <td>60</td>\n      <td></td>\n      <td>Fri-5B-09:30:00-10:55:00 Wed-5A-09:30:00-10:55:00</td>\n    </tr>\n    <tr>\n      <td>6.0</td>\n      <td>timetable</td>\n      <td>EE 238</td>\n      <td>Power Engineering - II</td>\n      <td>I - Chatterjee Kishore</td>\n      <td></td>\n      <td>2 Mon-2A-09:30:00-10:25:00 Thu-2C-11:35:00-12:...</td>\n      <td>S1</td>\n      <td>0</td>\n      <td></td>\n      <td>Mon-2A-09:30:00-10:25:00 Thu-2C-11:35:00-12:30...</td>\n    </tr>\n    <tr>\n      <td>7.0</td>\n      <td>timetable</td>\n      <td>EE 238</td>\n      <td>Power Engineering - II</td>\n      <td>I - Anshuman Shukla</td>\n      <td></td>\n      <td>2 Mon-2A-09:30:00-10:25:00 Thu-2C-11:35:00-12:...</td>\n      <td>S2</td>\n      <td>0</td>\n      <td></td>\n      <td>Mon-2A-09:30:00-10:25:00 Thu-2C-11:35:00-12:30...</td>\n    </tr>\n    <tr>\n      <td>8.0</td>\n      <td>timetable</td>\n      <td>EE 240</td>\n      <td>Power Engineering Lab</td>\n      <td>A - Chatterjee Kishore I - Prashant Navalkar</td>\n      <td></td>\n      <td>L2 Tue-L2-14:00:00-16:55:00</td>\n      <td></td>\n      <td>0</td>\n      <td></td>\n      <td>Tue-L2-14:00:00-16:55:00</td>\n    </tr>\n    <tr>\n      <td>9.0</td>\n      <td>timetable</td>\n      <td>EE 302</td>\n      <td>Control Systems</td>\n      <td>I - M Belur</td>\n      <td></td>\n      <td>3 Mon-3A-10:35:00-11:30:00 Thu-3C-08:30:00-09:...</td>\n      <td>S1</td>\n      <td>0</td>\n      <td></td>\n      <td>Mon-3A-10:35:00-11:30:00 Thu-3C-08:30:00-09:25...</td>\n    </tr>\n    <tr>\n      <td>10.0</td>\n      <td>timetable</td>\n      <td>EE 302</td>\n      <td>Control Systems</td>\n      <td>I - Debraj Chakraborty</td>\n      <td></td>\n      <td>3 Mon-3A-10:35:00-11:30:00 Thu-3C-08:30:00-09:...</td>\n      <td>S2</td>\n      <td>0</td>\n      <td></td>\n      <td>Mon-3A-10:35:00-11:30:00 Thu-3C-08:30:00-09:25...</td>\n    </tr>\n    <tr>\n      <td>11.0</td>\n      <td>timetable</td>\n      <td>EE 302</td>\n      <td>Control Systems</td>\n      <td>I - Dwaipayan Mukherjee</td>\n      <td></td>\n      <td>3 Mon-3A-10:35:00-11:30:00 Thu-3C-08:30:00-09:...</td>\n      <td>S3</td>\n      <td>0</td>\n      <td></td>\n      <td>Mon-3A-10:35:00-11:30:00 Thu-3C-08:30:00-09:25...</td>\n    </tr>\n    <tr>\n      <td>12.0</td>\n      <td>timetable</td>\n      <td>EE 302</td>\n      <td>Control Systems</td>\n      <td>I - Pillai Harish</td>\n      <td></td>\n      <td>3 Mon-3A-10:35:00-11:30:00 Thu-3C-08:30:00-09:...</td>\n      <td>S4</td>\n      <td>0</td>\n      <td></td>\n      <td>Mon-3A-10:35:00-11:30:00 Thu-3C-08:30:00-09:25...</td>\n    </tr>\n    <tr>\n      <td>13.0</td>\n      <td>timetable</td>\n      <td>EE 309</td>\n      <td>Microprocessors</td>\n      <td>I - Sharma Dinesh</td>\n      <td></td>\n      <td>1 Mon-1A-08:30:00-09:25:00 Thu-1C-10:35:00-11:...</td>\n      <td></td>\n      <td>0</td>\n      <td></td>\n      <td>Mon-1A-08:30:00-09:25:00 Thu-1C-10:35:00-11:30...</td>\n    </tr>\n    <tr>\n      <td>14.0</td>\n      <td>timetable</td>\n      <td>EE 324</td>\n      <td>Control Systems Lab</td>\n      <td>A - Debasattam Pal I - M Belur</td>\n      <td></td>\n      <td>L1 Mon-L1-14:00:00-16:55:00</td>\n      <td></td>\n      <td>0</td>\n      <td></td>\n      <td>Mon-L1-14:00:00-16:55:00</td>\n    </tr>\n    <tr>\n      <td>15.0</td>\n      <td>timetable</td>\n      <td>EE 325</td>\n      <td>Probability and Random Processes</td>\n      <td>I - Nikhil Karamchandani</td>\n      <td></td>\n      <td>5 Fri-5B-09:30:00-10:55:00 Wed-5A-09:30:00-10:...</td>\n      <td>M</td>\n      <td>60</td>\n      <td></td>\n      <td>Fri-5B-09:30:00-10:55:00 Wed-5A-09:30:00-10:55:00</td>\n    </tr>\n    <tr>\n      <td>16.0</td>\n      <td>timetable</td>\n      <td>EE 328</td>\n      <td>Digital Communications</td>\n      <td>I - Kumar Appaiah</td>\n      <td></td>\n      <td>1 Mon-1A-08:30:00-09:25:00 Thu-1C-10:35:00-11:...</td>\n      <td>S1</td>\n      <td>0</td>\n      <td></td>\n      <td>Mon-1A-08:30:00-09:25:00 Thu-1C-10:35:00-11:30...</td>\n    </tr>\n    <tr>\n      <td>17.0</td>\n      <td>timetable</td>\n      <td>EE 328</td>\n      <td>Digital Communications</td>\n      <td>I - Merchant S N</td>\n      <td></td>\n      <td>1 Mon-1A-08:30:00-09:25:00 Thu-1C-10:35:00-11:...</td>\n      <td>S2</td>\n      <td>0</td>\n      <td></td>\n      <td>Mon-1A-08:30:00-09:25:00 Thu-1C-10:35:00-11:30...</td>\n    </tr>\n    <tr>\n      <td>18.0</td>\n      <td>timetable</td>\n      <td>EE 334</td>\n      <td>Power Systems</td>\n      <td>I - Kulkarni A.M.</td>\n      <td></td>\n      <td>4 Mon-4A-11:35:00-12:30:00 Thu-4C-09:30:00-10:...</td>\n      <td></td>\n      <td>0</td>\n      <td></td>\n      <td>Mon-4A-11:35:00-12:30:00 Thu-4C-09:30:00-10:25...</td>\n    </tr>\n    <tr>\n      <td>19.0</td>\n      <td>timetable</td>\n      <td>EE 337</td>\n      <td>Microprocessors Laboratory</td>\n      <td>A - Patkar Sachin A - S. Vijayakumaran I - V R...</td>\n      <td></td>\n      <td>Wed-LX-14:00:00-16:55:00</td>\n      <td></td>\n      <td>0</td>\n      <td></td>\n      <td>d-LX-14:00:00-16:55:00</td>\n    </tr>\n    <tr>\n      <td>20.0</td>\n      <td>timetable</td>\n      <td>EE 340</td>\n      <td>Communications Lab</td>\n      <td>I - Jayakrish Nair</td>\n      <td></td>\n      <td>Tue-L2-14:00:00-16:55:00</td>\n      <td></td>\n      <td>0</td>\n      <td></td>\n      <td>e-L2-14:00:00-16:55:00</td>\n    </tr>\n    <tr>\n      <td>21.0</td>\n      <td>timetable</td>\n      <td>EE 344</td>\n      <td>Electronic Design Lab</td>\n      <td>A - Debraj Chakraborty A - J.John I - J.Mukherjee</td>\n      <td></td>\n      <td>LX Wed-LX-14:00:00-16:55:00</td>\n      <td></td>\n      <td>0</td>\n      <td></td>\n      <td>Wed-LX-14:00:00-16:55:00</td>\n    </tr>\n    <tr>\n      <td>22.0</td>\n      <td>timetable</td>\n      <td>EE 605</td>\n      <td>Error Correcting Codes</td>\n      <td>I - Sibi Raj B. Pillai</td>\n      <td></td>\n      <td>14 Fri-14B-17:30:00-18:55:00 Tue-14A-17:30:00-...</td>\n      <td></td>\n      <td>0</td>\n      <td></td>\n      <td>Fri-14B-17:30:00-18:55:00 Tue-14A-17:30:00-18...</td>\n    </tr>\n    <tr>\n      <td>23.0</td>\n      <td>timetable</td>\n      <td>EE 606</td>\n      <td>Fibre Optic Communications</td>\n      <td>I - J.John</td>\n      <td></td>\n      <td>2 Mon-2A-09:30:00-10:25:00 Thu-2C-11:35:00-12:...</td>\n      <td></td>\n      <td>0</td>\n      <td></td>\n      <td>Mon-2A-09:30:00-10:25:00 Thu-2C-11:35:00-12:30...</td>\n    </tr>\n    <tr>\n      <td>24.0</td>\n      <td>timetable</td>\n      <td>EE 614</td>\n      <td>Solid State Microwave Devices and their Applic...</td>\n      <td>I - Kumar Girish</td>\n      <td></td>\n      <td>12 Mon-12A-17:30:00-18:55:00 Thu-12B-17:30:00-...</td>\n      <td></td>\n      <td>0</td>\n      <td></td>\n      <td>Mon-12A-17:30:00-18:55:00 Thu-12B-17:30:00-18...</td>\n    </tr>\n    <tr>\n      <td>25.0</td>\n      <td>timetable</td>\n      <td>EE 616</td>\n      <td>Electronic Systems Design</td>\n      <td>I - Pandey P.C.</td>\n      <td></td>\n      <td>12 Mon-12A-17:30:00-18:55:00 Thu-12B-17:30:00-...</td>\n      <td></td>\n      <td>0</td>\n      <td></td>\n      <td>Mon-12A-17:30:00-18:55:00 Thu-12B-17:30:00-18...</td>\n    </tr>\n    <tr>\n      <td>26.0</td>\n      <td>timetable</td>\n      <td>EE 620</td>\n      <td>Physics of Transistors</td>\n      <td>I - Souvik Mahapatra</td>\n      <td></td>\n      <td>6 Fri-6B-11:05:00-12:30:00 Wed-6A-11:05:00-12:...</td>\n      <td></td>\n      <td>0</td>\n      <td></td>\n      <td>Fri-6B-11:05:00-12:30:00 Wed-6A-11:05:00-12:30:00</td>\n    </tr>\n    <tr>\n      <td>27.0</td>\n      <td>timetable</td>\n      <td>EE 621</td>\n      <td>Markov Chains and Queuing Systems</td>\n      <td>I - Jayakrish Nair</td>\n      <td></td>\n      <td>12 Mon-12A-17:30:00-18:55:00 Thu-12B-17:30:00-...</td>\n      <td></td>\n      <td>0</td>\n      <td></td>\n      <td>Mon-12A-17:30:00-18:55:00 Thu-12B-17:30:00-18...</td>\n    </tr>\n    <tr>\n      <td>28.0</td>\n      <td>timetable</td>\n      <td>EE 622</td>\n      <td>Optimal Control Systems</td>\n      <td>I - Pillai Harish</td>\n      <td></td>\n      <td>2 Mon-2A-09:30:00-10:25:00 Thu-2C-11:35:00-12:...</td>\n      <td></td>\n      <td>0</td>\n      <td></td>\n      <td>Mon-2A-09:30:00-10:25:00 Thu-2C-11:35:00-12:30...</td>\n    </tr>\n    <tr>\n      <td>29.0</td>\n      <td>timetable</td>\n      <td>EE 625</td>\n      <td>Bio Sensors &amp; BioMEMS</td>\n      <td>I - S. Duttagupta</td>\n      <td></td>\n      <td>3 Mon-3A-10:35:00-11:30:00 Thu-3C-08:30:00-09:...</td>\n      <td></td>\n      <td>0</td>\n      <td></td>\n      <td>Mon-3A-10:35:00-11:30:00 Thu-3C-08:30:00-09:25...</td>\n    </tr>\n    <tr>\n      <td>30.0</td>\n      <td>timetable</td>\n      <td>EE 636</td>\n      <td>Matrix Computations</td>\n      <td>I - Debasattam Pal</td>\n      <td></td>\n      <td>3 Mon-3A-10:35:00-11:30:00 Thu-3C-08:30:00-09:...</td>\n      <td></td>\n      <td>0</td>\n      <td></td>\n      <td>Mon-3A-10:35:00-11:30:00 Thu-3C-08:30:00-09:25...</td>\n    </tr>\n    <tr>\n      <td>31.0</td>\n      <td>timetable</td>\n      <td>EE 651</td>\n      <td>Digital Protection of Power Systems</td>\n      <td>I - Prashant Navalkar</td>\n      <td></td>\n      <td>12 Mon-12A-17:30:00-18:55:00 Thu-12B-17:30:00-...</td>\n      <td></td>\n      <td>0</td>\n      <td></td>\n      <td>Mon-12A-17:30:00-18:55:00 Thu-12B-17:30:00-18...</td>\n    </tr>\n    <tr>\n      <td>32.0</td>\n      <td>timetable</td>\n      <td>EE 654</td>\n      <td>Power Electronics - II</td>\n      <td>I - M. Chandorkar</td>\n      <td></td>\n      <td>2 Mon-2A-09:30:00-10:25:00 Thu-2C-11:35:00-12:...</td>\n      <td></td>\n      <td>0</td>\n      <td></td>\n      <td>Mon-2A-09:30:00-10:25:00 Thu-2C-11:35:00-12:30...</td>\n    </tr>\n    <tr>\n      <td>33.0</td>\n      <td>timetable</td>\n      <td>EE 656</td>\n      <td>Electrical Machine Analysis and Control</td>\n      <td>I - Ferdes B.G.</td>\n      <td></td>\n      <td>6 Fri-6B-11:05:00-12:30:00 Wed-6A-11:05:00-12:...</td>\n      <td></td>\n      <td>0</td>\n      <td></td>\n      <td>Fri-6B-11:05:00-12:30:00 Wed-6A-11:05:00-12:30:00</td>\n    </tr>\n    <tr>\n      <td>34.0</td>\n      <td>timetable</td>\n      <td>EE 672</td>\n      <td>Microelectronics Lab</td>\n      <td>A - Apurba Laha I - Swaroop Ganguly</td>\n      <td></td>\n      <td>Fri-L4-14:00:00-16:55:00</td>\n      <td></td>\n      <td>0</td>\n      <td></td>\n      <td>i-L4-14:00:00-16:55:00</td>\n    </tr>\n    <tr>\n      <td>35.0</td>\n      <td>timetable</td>\n      <td>EE 678</td>\n      <td>Wavelets</td>\n      <td>I - Gadre V.M.</td>\n      <td></td>\n      <td>6 Fri-6B-11:05:00-12:30:00 Wed-6A-11:05:00-12:...</td>\n      <td></td>\n      <td>0</td>\n      <td></td>\n      <td>Fri-6B-11:05:00-12:30:00 Wed-6A-11:05:00-12:30:00</td>\n    </tr>\n    <tr>\n      <td>36.0</td>\n      <td>timetable</td>\n      <td>EE 699</td>\n      <td>Delta Sigma Data Converters and their Applicat...</td>\n      <td>I - Pramod Murali</td>\n      <td></td>\n      <td>14 Fri-14B-17:30:00-18:55:00 Tue-14A-17:30:00-...</td>\n      <td></td>\n      <td>30</td>\n      <td></td>\n      <td>Fri-14B-17:30:00-18:55:00 Tue-14A-17:30:00-18...</td>\n    </tr>\n    <tr>\n      <td>37.0</td>\n      <td>timetable</td>\n      <td>EE 701</td>\n      <td>Introduction to MEMS</td>\n      <td>I - Siddharth Tallur</td>\n      <td></td>\n      <td>3 Mon-3A-10:35:00-11:30:00 Thu-3C-08:30:00-09:...</td>\n      <td></td>\n      <td>0</td>\n      <td></td>\n      <td>Mon-3A-10:35:00-11:30:00 Thu-3C-08:30:00-09:25...</td>\n    </tr>\n    <tr>\n      <td>38.0</td>\n      <td>timetable</td>\n      <td>EE 705</td>\n      <td>V L S I Design Lab</td>\n      <td>I - Patkar Sachin</td>\n      <td></td>\n      <td>LX Wed-LX-14:00:00-16:55:00</td>\n      <td></td>\n      <td>0</td>\n      <td></td>\n      <td>Wed-LX-14:00:00-16:55:00</td>\n    </tr>\n    <tr>\n      <td>39.0</td>\n      <td>timetable</td>\n      <td>EE 706</td>\n      <td>Communication Networks</td>\n      <td>I - Sharayu Moharir</td>\n      <td></td>\n      <td>9 Mon-9A-15:30:00-16:55:00 Thu-9B-15:30:00-16:...</td>\n      <td></td>\n      <td>0</td>\n      <td></td>\n      <td>Mon-9A-15:30:00-16:55:00 Thu-9B-15:30:00-16:55:00</td>\n    </tr>\n    <tr>\n      <td>40.0</td>\n      <td>timetable</td>\n      <td>EE 708</td>\n      <td>Information Theory &amp; Coding</td>\n      <td>I - B.K.Dey</td>\n      <td></td>\n      <td>3 Mon-3A-10:35:00-11:30:00 Thu-3C-08:30:00-09:...</td>\n      <td></td>\n      <td>0</td>\n      <td></td>\n      <td>Mon-3A-10:35:00-11:30:00 Thu-3C-08:30:00-09:25...</td>\n    </tr>\n  </tbody>\n</table>\n</div>"
     },
     "metadata": {},
     "execution_count": 634
    }
   ],
   "source": [
    "df_final.head(40)"
   ]
  },
  {
   "cell_type": "code",
   "execution_count": 635,
   "metadata": {},
   "outputs": [],
   "source": [
    "# ' ' in df_final['Slot'].values[3]"
   ]
  },
  {
   "cell_type": "code",
   "execution_count": 653,
   "metadata": {},
   "outputs": [
    {
     "output_type": "execute_result",
     "data": {
      "text/plain": [
       "dict_keys(['1', '2', '3', '4', '5', '6', '7', '8', '9', '10', '11', '12', '13', '14', '15', 'L1', 'L2', 'L3', 'L4', 'LX'])"
      ]
     },
     "metadata": {},
     "execution_count": 653
    }
   ],
   "source": [
    "slot_map = {}\n",
    "for i in range(1, 16):\n",
    "    slot_map[str(i)] = i\n",
    "slot_map['L1'] = 'L1'\n",
    "slot_map['L2'] = 'L2'\n",
    "slot_map['L3'] = 'L3'\n",
    "slot_map['L4'] = 'L4'\n",
    "slot_map['LX'] = 'LX'\n",
    "\n",
    "slot_map.keys()"
   ]
  },
  {
   "cell_type": "code",
   "execution_count": 649,
   "metadata": {},
   "outputs": [],
   "source": [
    "# slot_map_1 = {}\n",
    "# slot_map_1['L1'] = 'L1'\n",
    "# slot_map_1['L2'] = 'L2'\n",
    "# slot_map_1['L3'] = 'L3'\n",
    "# slot_map_1['L4'] = 'L4'\n",
    "# slot_map_1['LX'] = 'LX'\n",
    "# slot_map_1\n",
    "# slots = ('L1', 'L2', 'L3', 'L4', 'LX')\n",
    "# slots"
   ]
  },
  {
   "cell_type": "code",
   "execution_count": 650,
   "metadata": {},
   "outputs": [],
   "source": [
    "# def tryconvert(value):\n",
    "#     final = 0\n",
    "#     if value[0:1] is '':\n",
    "#         final = 0\n",
    "#     else:\n",
    "#         try:\n",
    "#             final = int(value[0:1])\n",
    "#         except:\n",
    "#             gaatIt = 0\n",
    "#             for slot in slots:\n",
    "#                 if slot in value:\n",
    "#                     final = slot\n",
    "#                     gaatIt = 1\n",
    "#                 if gaatIt:\n",
    "#                     break\n",
    "#     return final\n",
    "\n",
    "# tryconvert('LX dwidwidiwdeikdbwbbe')"
   ]
  },
  {
   "cell_type": "code",
   "execution_count": 666,
   "metadata": {},
   "outputs": [],
   "source": [
    "lab_slots = ['L1', 'L2', 'L3', 'L4', 'LX']\n",
    "\n",
    "def slot_extract(value):\n",
    "    final_slot = 0\n",
    "    if value[0:1] is '':\n",
    "        final_slot = 0\n",
    "    else:\n",
    "        # gaatIt = 0\n",
    "        # for slot in slot_map.keys():\n",
    "        #     if slot in value:\n",
    "        #         final_slot = slot_map[slot]\n",
    "        #         gaatIt = 1\n",
    "        #     if gaatIt:\n",
    "        #         break\n",
    "        try:\n",
    "            final_slot = int(value[0:2].strip())\n",
    "        except:\n",
    "            gaatIt = 0\n",
    "            for slot in lab_slots:\n",
    "                if slot in value:\n",
    "                    final_slot=slot\n",
    "                    gaatIt = 1\n",
    "                \n",
    "                if gaatIt:\n",
    "                    break\n",
    "                \n",
    "\n",
    "    return final_slot"
   ]
  },
  {
   "cell_type": "code",
   "execution_count": 667,
   "metadata": {},
   "outputs": [
    {
     "output_type": "execute_result",
     "data": {
      "text/plain": [
       "'LX'"
      ]
     },
     "metadata": {},
     "execution_count": 667
    }
   ],
   "source": [
    "slot_extract('WednewsdayLX dnskj')"
   ]
  },
  {
   "cell_type": "code",
   "execution_count": 673,
   "metadata": {},
   "outputs": [
    {
     "output_type": "stream",
     "name": "stdout",
     "text": [
      "12 Mon-12A-17:30:00-18:55:00 Thu-12B-17:30:00-18:55:00\n"
     ]
    },
    {
     "output_type": "execute_result",
     "data": {
      "text/plain": [
       "12"
      ]
     },
     "metadata": {},
     "execution_count": 673
    }
   ],
   "source": [
    "# x=12\n",
    "print(df_final['Slot'].values[23])\n",
    "slot_extract(df_final['Slot'].values[23])"
   ]
  },
  {
   "cell_type": "code",
   "execution_count": 589,
   "metadata": {},
   "outputs": [],
   "source": [
    "df_final['Slot_code'] = [slot_extract(s) for s in df_final['Slot']]"
   ]
  },
  {
   "cell_type": "code",
   "execution_count": 590,
   "metadata": {},
   "outputs": [
    {
     "output_type": "execute_result",
     "data": {
      "text/plain": [
       "54.0                              timetable      HS 811   \n",
       "55.0                              timetable      HS 824   \n",
       "56.0                              timetable      HS 842   \n",
       "57.0                              timetable      HS 847   \n",
       "58.0                              timetable      HS 849   \n",
       "59.0                              timetable      HSS801   \n",
       "\n",
       "                                              Course Name  \\\n",
       "Sr no.                                                      \n",
       "1.0                                             Economics   \n",
       "2.0                                             Economics   \n",
       "3.0                                             Economics   \n",
       "4.0                                 Environmental Studies   \n",
       "5.0                                 Environmental Studies   \n",
       "6.0                         Intermediate Microeconomics I   \n",
       "7.0                         Intermediate Macroeconomics-I   \n",
       "8.0                             Mathematics for Economics   \n",
       "9.0                                          Statistics I   \n",
       "10.0                                           Philosophy   \n",
       "11.0                                           Psychology   \n",
       "12.0                                           Psychology   \n",
       "13.0                                   Reading Literature   \n",
       "14.0                                   Reading Literature   \n",
       "15.0                                   Reading Literature   \n",
       "16.0                                       Econometrics I   \n",
       "17.0                                            Sociology   \n",
       "18.0                                            Sociology   \n",
       "19.0                                   Econometrics I Lab   \n",
       "20.0                            International Economics I   \n",
       "21.0                              Development Economics I   \n",
       "22.0                                          Public Fice   \n",
       "23.0                    Game Theory and Economic Analysis   \n",
       "24.0                             Shakespearean Afterlives   \n",
       "25.0                             Shakespearean Afterlives   \n",
       "26.0    Social Movement and Social Change: Contemporar...   \n",
       "27.0                         Justice Ethics and Community   \n",
       "28.0                            Human Cognitive Processes   \n",
       "29.0                 Theory and Policy of Managerial Fice   \n",
       "30.0                         Indian Culture and Tradition   \n",
       "31.0                          Introduction to Linguistics   \n",
       "32.0                                    Indian Philosophy   \n",
       "33.0                                   BS Project Stage I   \n",
       "34.0            Vedanta Philosophy in the Vedic Tradition   \n",
       "35.0                  Philosophy in the Age of the Greeks   \n",
       "36.0    Western Philosophy and the Advent of Modern Sc...   \n",
       "37.0    Wittgenstein I: Wittgenstein’s Tractatus: The ...   \n",
       "38.0    Development Planning & Policies : Issues & Alt...   \n",
       "39.0    Socio-Psychological Perspectives in Developmen...   \n",
       "40.0                  Research Methods in Social Sciences   \n",
       "41.0                    Computer Aided Applied Statistics   \n",
       "42.0                  Development of Mathematics in India   \n",
       "43.0                            Anthropology and Disaster   \n",
       "44.0                                          Field Visit   \n",
       "45.0                                              Seminar   \n",
       "46.0                Communication and Presentation Skills   \n",
       "47.0             Classical Indian Thought in Modern Times   \n",
       "48.0                              Communication Skills -I   \n",
       "49.0                              Communication Skills -I   \n",
       "50.0                             Communication Skills -II   \n",
       "51.0                  Research Methods in Social Sciences   \n",
       "52.0                             Advanced Economic Theory   \n",
       "53.0                     Phenomenology and Existentialism   \n",
       "54.0                                      Literary Theory   \n",
       "55.0                                     Cultural Studies   \n",
       "56.0        Philosophy of Language in Sanskrit Literature   \n",
       "57.0                       Algorithms in Indian Astronomy   \n",
       "58.0                        Theories of Human Development   \n",
       "59.0                                              Seminar   \n",
       "\n",
       "                                            Instructor(s) Venue  \\\n",
       "Sr no.                                                            \n",
       "1.0               A - Pooja Padhi I - Haripriya Gundimeda         \n",
       "2.0                A - Surajit Bhattacharya I - Naraya K.         \n",
       "3.0                   A - Tara S. Shaw I - Trivedi Pushpa         \n",
       "4.0     A - Aditi Balkrishna Chaubal A - Parthasarathy...         \n",
       "5.0     A - Aditi Balkrishna Chaubal A - Parthasarathy...         \n",
       "6.0                A - Surajit Bhattacharya I - Naraya K.         \n",
       "7.0                                    I - Trivedi Pushpa         \n",
       "8.0                          I - Aditi Balkrishna Chaubal         \n",
       "9.0                                          I - Rama Pal         \n",
       "10.0                                       I - R.K. Panda         \n",
       "11.0                                     I - Pooja Purang         \n",
       "12.0                                          I - A. Khan         \n",
       "13.0    A - Sharmistha Saha A - Suddhaseel Sen I - Sha...         \n",
       "14.0    A - Sharmila A - Suddhaseel Sen I - Sharmistha...         \n",
       "15.0    A - Sharmila A - Sharmistha Saha I - Suddhasee...         \n",
       "16.0                                     I - Tara S. Shaw         \n",
       "17.0                                       I - Ahonaa Roy         \n",
       "18.0                               I - Suryakant Waghmore         \n",
       "19.0                                     I - Tara S. Shaw         \n",
       "20.0    A - Saptarshi Prosonno Ghosh I - Aditi Balkris...         \n",
       "21.0                              I - Haripriya Gundimeda         \n",
       "22.0                                         I - Rama Pal         \n",
       "23.0                         I - Saptarshi Prosonno Ghosh         \n",
       "24.0                                    I - Shastri Sudha         \n",
       "25.0                                    I - Shastri Sudha         \n",
       "26.0                              I - Sarmistha Pattanaik         \n",
       "27.0                                  I - Amrita Banerjee         \n",
       "28.0                                     I - Rashmi Gupta         \n",
       "29.0                                      I - Pooja Padhi         \n",
       "30.0                                I - Kulkarni A Malhar         \n",
       "31.0                                I - Sarma Vaijayanthi         \n",
       "32.0                                  I - Ratikanta Panda         \n",
       "33.0                                                              \n",
       "34.0                                   I - C.D. Sebastian         \n",
       "35.0                                     I - Arun A. Iyer         \n",
       "36.0                              I - Vikram Singh Sirola         \n",
       "37.0                               I - Pravesh Jung Golay         \n",
       "38.0                      A - Anush Kapadia I - Naraya K.         \n",
       "39.0                                       I - Kushal Deb         \n",
       "40.0    A - Parthasarathy D. A - Sarmistha Pattanaik I...         \n",
       "41.0           I - Mrinmoyi Kulkarni I - Parthasarathy D.         \n",
       "42.0                               I - K. Ramasubramanian         \n",
       "43.0                                  I - Robinson Rowena         \n",
       "44.0                                                              \n",
       "45.0                                                              \n",
       "46.0                                                              \n",
       "47.0                                  I - Rajkishore Nath         \n",
       "48.0                                                              \n",
       "49.0                                                              \n",
       "50.0    A - Paulomi Chakraborty A - Ramesh Bairy A - S...         \n",
       "51.0                                     I - Ramesh Bairy         \n",
       "52.0                             I - Surajit Bhattacharya         \n",
       "53.0                                    I - Siby K.George         \n",
       "54.0                              I - Paulomi Chakraborty         \n",
       "55.0                                      I - Ratheesh R.         \n",
       "56.0                                I - Kulkarni A Malhar         \n",
       "57.0                               I - K. Ramasubramanian         \n",
       "58.0                                I - Mrinmoyi Kulkarni         \n",
       "59.0                                     I - Ramesh Bairy         \n",
       "\n",
       "                                                     Slot Division  \\\n",
       "Sr no.                                                               \n",
       "1.0     2 Mon-2A-09:30:00-10:25:00 Thu-2C-11:35:00-12:...       S1   \n",
       "2.0     2 Mon-2A-09:30:00-10:25:00 Thu-2C-11:35:00-12:...       S2   \n",
       "3.0     2 Mon-2A-09:30:00-10:25:00 Thu-2C-11:35:00-12:...       S3   \n",
       "4.0     3 Mon-3A-10:35:00-11:30:00 Thu-3C-08:30:00-09:...       S1   \n",
       "5.0     2 Mon-2A-09:30:00-10:25:00 Thu-2C-11:35:00-12:...       S2   \n",
       "6.0     8 Mon-8A-14:00:00-15:25:00 Thu-8B-14:00:00-15:...            \n",
       "7.0     10 Fri-10B-14:00:00-15:25:00 Tue-10A-14:00:00-...            \n",
       "8.0     12 Mon-12A-17:30:00-18:55:00 Thu-12B-17:30:00-...            \n",
       "9.0     11 Fri-11B-15:30:00-16:55:00 Tue-11A-15:30:00-...            \n",
       "10.0    3 Mon-3A-10:35:00-11:30:00 Thu-3C-08:30:00-09:...            \n",
       "11.0    3 Mon-3A-10:35:00-11:30:00 Thu-3C-08:30:00-09:...       S1   \n",
       "12.0    3 Mon-3A-10:35:00-11:30:00 Thu-3C-08:30:00-09:...       S2   \n",
       "13.0    3 Mon-3A-10:35:00-11:30:00 Thu-3C-08:30:00-09:...       S1   \n",
       "14.0    3 Mon-3A-10:35:00-11:30:00 Thu-3C-08:30:00-09:...       S2   \n",
       "15.0    3 Mon-3A-10:35:00-11:30:00 Thu-3C-08:30:00-09:...       S3   \n",
       "16.0    11 Fri-11B-15:30:00-16:55:00 Tue-11A-15:30:00-...            \n",
       "17.0    3 Mon-3A-10:35:00-11:30:00 Thu-3C-08:30:00-09:...       S1   \n",
       "18.0    3 Mon-3A-10:35:00-11:30:00 Thu-3C-08:30:00-09:...       S2   \n",
       "19.0    13 Mon-13A-19:00:00-20:25:00 Thu-13B-19:00:00-...            \n",
       "20.0    6 Fri-6B-11:05:00-12:30:00 Wed-6A-11:05:00-12:...            \n",
       "21.0    9 Mon-9A-15:30:00-16:55:00 Thu-9B-15:30:00-16:...            \n",
       "22.0    1 Mon-1A-08:30:00-09:25:00 Thu-1C-10:35:00-11:...            \n",
       "23.0    10 Fri-10B-14:00:00-15:25:00 Tue-10A-14:00:00-...            \n",
       "24.0    5 Fri-5B-09:30:00-10:55:00 Wed-5A-09:30:00-10:...            \n",
       "25.0    5 Fri-5B-09:30:00-10:55:00 Wed-5A-09:30:00-10:...        M   \n",
       "26.0    2 Mon-2A-09:30:00-10:25:00 Thu-2C-11:35:00-12:...            \n",
       "27.0    2 Mon-2A-09:30:00-10:25:00 Thu-2C-11:35:00-12:...            \n",
       "28.0    2 Mon-2A-09:30:00-10:25:00 Thu-2C-11:35:00-12:...            \n",
       "29.0    15 Fri-15B-19:00:00-20:25:00 Tue-15A-19:00:00-...            \n",
       "30.0    2 Mon-2A-09:30:00-10:25:00 Thu-2C-11:35:00-12:...            \n",
       "31.0    2 Mon-2A-09:30:00-10:25:00 Thu-2C-11:35:00-12:...            \n",
       "32.0    2 Mon-2A-09:30:00-10:25:00 Thu-2C-11:35:00-12:...            \n",
       "33.0                                                                 \n",
       "34.0    9 Mon-9A-15:30:00-16:55:00 Thu-9B-15:30:00-16:...            \n",
       "35.0    11 Fri-11B-15:30:00-16:55:00 Tue-11A-15:30:00-...            \n",
       "36.0    10 Fri-10B-14:00:00-15:25:00 Tue-10A-14:00:00-...            \n",
       "37.0    6 Fri-6B-11:05:00-12:30:00 Wed-6A-11:05:00-12:...            \n",
       "38.0    14 Fri-14B-17:30:00-18:55:00 Tue-14A-17:30:00-...            \n",
       "39.0    11 Fri-11B-15:30:00-16:55:00 Tue-11A-15:30:00-...            \n",
       "40.0    10 Fri-10B-14:00:00-15:25:00 Tue-10A-14:00:00-...            \n",
       "41.0    9 Mon-9A-15:30:00-16:55:00 Thu-9B-15:30:00-16:...            \n",
       "42.0    6 Fri-6B-11:05:00-12:30:00 Wed-6A-11:05:00-12:...            \n",
       "43.0                                                    5            \n",
       "44.0                                                                 \n",
       "45.0                                                                 \n",
       "46.0                                                                 \n",
       "47.0    6 Fri-6B-11:05:00-12:30:00 Wed-6A-11:05:00-12:...            \n",
       "48.0                                                                 \n",
       "49.0                                                            S1   \n",
       "50.0    4 Mon-4A-11:35:00-12:30:00 Thu-4C-09:30:00-10:...            \n",
       "51.0    10 Fri-10B-14:00:00-15:25:00 Tue-10A-14:00:00-...            \n",
       "52.0    11 Fri-11B-15:30:00-16:55:00 Tue-11A-15:30:00-...            \n",
       "53.0    9 Mon-9A-15:30:00-16:55:00 Thu-9B-15:30:00-16:...            \n",
       "54.0    11 Fri-11B-15:30:00-16:55:00 Tue-11A-15:30:00-...            \n",
       "55.0    8 Mon-8A-14:00:00-15:25:00 Thu-8B-14:00:00-15:...            \n",
       "56.0    9 Mon-9A-15:30:00-16:55:00 Thu-9B-15:30:00-16:...            \n",
       "57.0    11 Fri-11B-15:30:00-16:55:00 Tue-11A-15:30:00-...            \n",
       "58.0    12 Mon-12A-17:30:00-18:55:00 Thu-12B-17:30:00-...            \n",
       "59.0                                                                 \n",
       "\n",
       "       Registration Limit Restrictions Division.1  \\\n",
       "Sr no.                                              \n",
       "1.0                     0                    View   \n",
       "2.0                     0                    View   \n",
       "3.0                     0                    View   \n",
       "4.0                     0                    View   \n",
       "5.0                     0                    View   \n",
       "6.0                     0         View              \n",
       "7.0                     0         View              \n",
       "8.0                     0         View              \n",
       "9.0                     0         View              \n",
       "10.0                  250                           \n",
       "11.0                  126                           \n",
       "12.0                  125                           \n",
       "13.0                   55                           \n",
       "14.0                   55                           \n",
       "15.0                   55                           \n",
       "16.0                    0         View              \n",
       "17.0                  204                           \n",
       "18.0                  213                           \n",
       "19.0                    0         View              \n",
       "20.0                    0         View              \n",
       "21.0                    0         View              \n",
       "22.0                    0         View              \n",
       "23.0                   60                           \n",
       "24.0                   40                           \n",
       "25.0                   40                           \n",
       "26.0                   50                           \n",
       "27.0                   50                           \n",
       "28.0                   52                           \n",
       "29.0                   50         View              \n",
       "30.0                   62                           \n",
       "31.0                   50                           \n",
       "32.0                   50                           \n",
       "33.0                    0                           \n",
       "34.0                    0         View              \n",
       "35.0                    0         View              \n",
       "36.0                    0         View              \n",
       "37.0                    0         View              \n",
       "38.0                    0                           \n",
       "39.0                    0                           \n",
       "40.0                    0         View              \n",
       "41.0                    0                           \n",
       "42.0                   50                           \n",
       "43.0                    0         View              \n",
       "44.0                    0                           \n",
       "45.0                    0                           \n",
       "46.0                    0                           \n",
       "47.0                   50                           \n",
       "48.0                    0                           \n",
       "49.0                    0                           \n",
       "50.0                    0                           \n",
       "51.0                    0                           \n",
       "52.0                    0                           \n",
       "53.0                    0                           \n",
       "54.0                    0                           \n",
       "55.0                    0                           \n",
       "56.0                    0                           \n",
       "57.0                    0                           \n",
       "58.0                    0                           \n",
       "59.0                    0                           \n",
       "\n",
       "                                                     Time  Slot_code  \n",
       "Sr no.                                                                \n",
       "1.0     Mon-2A-09:30:00-10:25:00 Thu-2C-11:35:00-12:30...          2  \n",
       "2.0     Mon-2A-09:30:00-10:25:00 Thu-2C-11:35:00-12:30...          2  \n",
       "3.0     Mon-2A-09:30:00-10:25:00 Thu-2C-11:35:00-12:30...          2  \n",
       "4.0     Mon-3A-10:35:00-11:30:00 Thu-3C-08:30:00-09:25...          3  \n",
       "5.0     Mon-2A-09:30:00-10:25:00 Thu-2C-11:35:00-12:30...          2  \n",
       "6.0     Mon-8A-14:00:00-15:25:00 Thu-8B-14:00:00-15:25:00          8  \n",
       "7.0      Fri-10B-14:00:00-15:25:00 Tue-10A-14:00:00-15...          1  \n",
       "8.0      Mon-12A-17:30:00-18:55:00 Thu-12B-17:30:00-18...          1  \n",
       "9.0      Fri-11B-15:30:00-16:55:00 Tue-11A-15:30:00-16...          1  \n",
       "10.0    Mon-3A-10:35:00-11:30:00 Thu-3C-08:30:00-09:25...          3  \n",
       "11.0    Mon-3A-10:35:00-11:30:00 Thu-3C-08:30:00-09:25...          3  \n",
       "12.0    Mon-3A-10:35:00-11:30:00 Thu-3C-08:30:00-09:25...          3  \n",
       "13.0    Mon-3A-10:35:00-11:30:00 Thu-3C-08:30:00-09:25...          3  \n",
       "14.0    Mon-3A-10:35:00-11:30:00 Thu-3C-08:30:00-09:25...          3  \n",
       "15.0    Mon-3A-10:35:00-11:30:00 Thu-3C-08:30:00-09:25...          3  \n",
       "16.0     Fri-11B-15:30:00-16:55:00 Tue-11A-15:30:00-16...          1  \n",
       "17.0    Mon-3A-10:35:00-11:30:00 Thu-3C-08:30:00-09:25...          3  \n",
       "18.0    Mon-3A-10:35:00-11:30:00 Thu-3C-08:30:00-09:25...          3  \n",
       "19.0     Mon-13A-19:00:00-20:25:00 Thu-13B-19:00:00-20...          1  \n",
       "20.0    Fri-6B-11:05:00-12:30:00 Wed-6A-11:05:00-12:30:00          6  \n",
       "21.0    Mon-9A-15:30:00-16:55:00 Thu-9B-15:30:00-16:55:00          9  \n",
       "22.0    Mon-1A-08:30:00-09:25:00 Thu-1C-10:35:00-11:30...          1  \n",
       "23.0     Fri-10B-14:00:00-15:25:00 Tue-10A-14:00:00-15...          1  \n",
       "24.0    Fri-5B-09:30:00-10:55:00 Wed-5A-09:30:00-10:55:00          5  \n",
       "25.0    Fri-5B-09:30:00-10:55:00 Wed-5A-09:30:00-10:55:00          5  \n",
       "26.0    Mon-2A-09:30:00-10:25:00 Thu-2C-11:35:00-12:30...          2  \n",
       "27.0    Mon-2A-09:30:00-10:25:00 Thu-2C-11:35:00-12:30...          2  \n",
       "28.0    Mon-2A-09:30:00-10:25:00 Thu-2C-11:35:00-12:30...          2  \n",
       "29.0     Fri-15B-19:00:00-20:25:00 Tue-15A-19:00:00-20...          1  \n",
       "30.0    Mon-2A-09:30:00-10:25:00 Thu-2C-11:35:00-12:30...          2  \n",
       "31.0    Mon-2A-09:30:00-10:25:00 Thu-2C-11:35:00-12:30...          2  \n",
       "32.0    Mon-2A-09:30:00-10:25:00 Thu-2C-11:35:00-12:30...          2  \n",
       "33.0                                                               0  \n",
       "34.0    Mon-9A-15:30:00-16:55:00 Thu-9B-15:30:00-16:55:00          9  \n",
       "35.0     Fri-11B-15:30:00-16:55:00 Tue-11A-15:30:00-16...          1  \n",
       "36.0     Fri-10B-14:00:00-15:25:00 Tue-10A-14:00:00-15...          1  \n",
       "37.0    Fri-6B-11:05:00-12:30:00 Wed-6A-11:05:00-12:30:00          6  \n",
       "38.0     Fri-14B-17:30:00-18:55:00 Tue-14A-17:30:00-18...          1  \n",
       "39.0     Fri-11B-15:30:00-16:55:00 Tue-11A-15:30:00-16...          1  \n",
       "40.0     Fri-10B-14:00:00-15:25:00 Tue-10A-14:00:00-15...          1  \n",
       "41.0    Mon-9A-15:30:00-16:55:00 Thu-9B-15:30:00-16:55:00          9  \n",
       "42.0    Fri-6B-11:05:00-12:30:00 Wed-6A-11:05:00-12:30:00          6  \n",
       "43.0                                                               5  \n",
       "44.0                                                               0  \n",
       "45.0                                                               0  \n",
       "46.0                                                               0  \n",
       "47.0    Fri-6B-11:05:00-12:30:00 Wed-6A-11:05:00-12:30:00          6  \n",
       "48.0                                                               0  \n",
       "49.0                                                               0  \n",
       "50.0    Mon-4A-11:35:00-12:30:00 Thu-4C-09:30:00-10:25...          4  \n",
       "51.0     Fri-10B-14:00:00-15:25:00 Tue-10A-14:00:00-15...          1  \n",
       "52.0     Fri-11B-15:30:00-16:55:00 Tue-11A-15:30:00-16...          1  \n",
       "53.0    Mon-9A-15:30:00-16:55:00 Thu-9B-15:30:00-16:55:00          9  \n",
       "54.0     Fri-11B-15:30:00-16:55:00 Tue-11A-15:30:00-16...          1  \n",
       "55.0    Mon-8A-14:00:00-15:25:00 Thu-8B-14:00:00-15:25:00          8  \n",
       "56.0    Mon-9A-15:30:00-16:55:00 Thu-9B-15:30:00-16:55:00          9  \n",
       "57.0     Fri-11B-15:30:00-16:55:00 Tue-11A-15:30:00-16...          1  \n",
       "58.0     Mon-12A-17:30:00-18:55:00 Thu-12B-17:30:00-18...          1  \n",
       "59.0                                                               0  "
      ],
      "text/html": "<div>\n<style scoped>\n    .dataframe tbody tr th:only-of-type {\n        vertical-align: middle;\n    }\n\n    .dataframe tbody tr th {\n        vertical-align: top;\n    }\n\n    .dataframe thead th {\n        text-align: right;\n    }\n</style>\n<table border=\"1\" class=\"dataframe\">\n  <thead>\n    <tr style=\"text-align: right;\">\n      <th></th>\n      <th>Type</th>\n      <th>Course Code</th>\n      <th>Course Name</th>\n      <th>Instructor(s)</th>\n      <th>Venue</th>\n      <th>Slot</th>\n      <th>Division</th>\n      <th>Registration Limit</th>\n      <th>Restrictions</th>\n      <th>Division.1</th>\n      <th>Time</th>\n      <th>Slot_code</th>\n    </tr>\n    <tr>\n      <th>Sr no.</th>\n      <th></th>\n      <th></th>\n      <th></th>\n      <th></th>\n      <th></th>\n      <th></th>\n      <th></th>\n      <th></th>\n      <th></th>\n      <th></th>\n      <th></th>\n      <th></th>\n    </tr>\n  </thead>\n  <tbody>\n    <tr>\n      <td>1.0</td>\n      <td>timetable</td>\n      <td>HS 101</td>\n      <td>Economics</td>\n      <td>A - Pooja Padhi I - Haripriya Gundimeda</td>\n      <td></td>\n      <td>2 Mon-2A-09:30:00-10:25:00 Thu-2C-11:35:00-12:...</td>\n      <td>S1</td>\n      <td>0</td>\n      <td></td>\n      <td>View</td>\n      <td>Mon-2A-09:30:00-10:25:00 Thu-2C-11:35:00-12:30...</td>\n      <td>2</td>\n    </tr>\n    <tr>\n      <td>2.0</td>\n      <td>timetable</td>\n      <td>HS 101</td>\n      <td>Economics</td>\n      <td>A - Surajit Bhattacharya I - Naraya K.</td>\n      <td></td>\n      <td>2 Mon-2A-09:30:00-10:25:00 Thu-2C-11:35:00-12:...</td>\n      <td>S2</td>\n      <td>0</td>\n      <td></td>\n      <td>View</td>\n      <td>Mon-2A-09:30:00-10:25:00 Thu-2C-11:35:00-12:30...</td>\n      <td>2</td>\n    </tr>\n    <tr>\n      <td>3.0</td>\n      <td>timetable</td>\n      <td>HS 101</td>\n      <td>Economics</td>\n      <td>A - Tara S. Shaw I - Trivedi Pushpa</td>\n      <td></td>\n      <td>2 Mon-2A-09:30:00-10:25:00 Thu-2C-11:35:00-12:...</td>\n      <td>S3</td>\n      <td>0</td>\n      <td></td>\n      <td>View</td>\n      <td>Mon-2A-09:30:00-10:25:00 Thu-2C-11:35:00-12:30...</td>\n      <td>2</td>\n    </tr>\n    <tr>\n      <td>4.0</td>\n      <td>timetable</td>\n      <td>HS 200</td>\n      <td>Environmental Studies</td>\n      <td>A - Aditi Balkrishna Chaubal A - Parthasarathy...</td>\n      <td></td>\n      <td>3 Mon-3A-10:35:00-11:30:00 Thu-3C-08:30:00-09:...</td>\n      <td>S1</td>\n      <td>0</td>\n      <td></td>\n      <td>View</td>\n      <td>Mon-3A-10:35:00-11:30:00 Thu-3C-08:30:00-09:25...</td>\n      <td>3</td>\n    </tr>\n    <tr>\n      <td>5.0</td>\n      <td>timetable</td>\n      <td>HS 200</td>\n      <td>Environmental Studies</td>\n      <td>A - Aditi Balkrishna Chaubal A - Parthasarathy...</td>\n      <td></td>\n      <td>2 Mon-2A-09:30:00-10:25:00 Thu-2C-11:35:00-12:...</td>\n      <td>S2</td>\n      <td>0</td>\n      <td></td>\n      <td>View</td>\n      <td>Mon-2A-09:30:00-10:25:00 Thu-2C-11:35:00-12:30...</td>\n      <td>2</td>\n    </tr>\n    <tr>\n      <td>6.0</td>\n      <td>timetable</td>\n      <td>HS 221</td>\n      <td>Intermediate Microeconomics I</td>\n      <td>A - Surajit Bhattacharya I - Naraya K.</td>\n      <td></td>\n      <td>8 Mon-8A-14:00:00-15:25:00 Thu-8B-14:00:00-15:...</td>\n      <td></td>\n      <td>0</td>\n      <td>View</td>\n      <td></td>\n      <td>Mon-8A-14:00:00-15:25:00 Thu-8B-14:00:00-15:25:00</td>\n      <td>8</td>\n    </tr>\n    <tr>\n      <td>7.0</td>\n      <td>timetable</td>\n      <td>HS 223</td>\n      <td>Intermediate Macroeconomics-I</td>\n      <td>I - Trivedi Pushpa</td>\n      <td></td>\n      <td>10 Fri-10B-14:00:00-15:25:00 Tue-10A-14:00:00-...</td>\n      <td></td>\n      <td>0</td>\n      <td>View</td>\n      <td></td>\n      <td>Fri-10B-14:00:00-15:25:00 Tue-10A-14:00:00-15...</td>\n      <td>1</td>\n    </tr>\n    <tr>\n      <td>8.0</td>\n      <td>timetable</td>\n      <td>HS 225</td>\n      <td>Mathematics for Economics</td>\n      <td>I - Aditi Balkrishna Chaubal</td>\n      <td></td>\n      <td>12 Mon-12A-17:30:00-18:55:00 Thu-12B-17:30:00-...</td>\n      <td></td>\n      <td>0</td>\n      <td>View</td>\n      <td></td>\n      <td>Mon-12A-17:30:00-18:55:00 Thu-12B-17:30:00-18...</td>\n      <td>1</td>\n    </tr>\n    <tr>\n      <td>9.0</td>\n      <td>timetable</td>\n      <td>HS 227</td>\n      <td>Statistics I</td>\n      <td>I - Rama Pal</td>\n      <td></td>\n      <td>11 Fri-11B-15:30:00-16:55:00 Tue-11A-15:30:00-...</td>\n      <td></td>\n      <td>0</td>\n      <td>View</td>\n      <td></td>\n      <td>Fri-11B-15:30:00-16:55:00 Tue-11A-15:30:00-16...</td>\n      <td>1</td>\n    </tr>\n    <tr>\n      <td>10.0</td>\n      <td>timetable</td>\n      <td>HS 301</td>\n      <td>Philosophy</td>\n      <td>I - R.K. Panda</td>\n      <td></td>\n      <td>3 Mon-3A-10:35:00-11:30:00 Thu-3C-08:30:00-09:...</td>\n      <td></td>\n      <td>250</td>\n      <td></td>\n      <td></td>\n      <td>Mon-3A-10:35:00-11:30:00 Thu-3C-08:30:00-09:25...</td>\n      <td>3</td>\n    </tr>\n    <tr>\n      <td>11.0</td>\n      <td>timetable</td>\n      <td>HS 303</td>\n      <td>Psychology</td>\n      <td>I - Pooja Purang</td>\n      <td></td>\n      <td>3 Mon-3A-10:35:00-11:30:00 Thu-3C-08:30:00-09:...</td>\n      <td>S1</td>\n      <td>126</td>\n      <td></td>\n      <td></td>\n      <td>Mon-3A-10:35:00-11:30:00 Thu-3C-08:30:00-09:25...</td>\n      <td>3</td>\n    </tr>\n    <tr>\n      <td>12.0</td>\n      <td>timetable</td>\n      <td>HS 303</td>\n      <td>Psychology</td>\n      <td>I - A. Khan</td>\n      <td></td>\n      <td>3 Mon-3A-10:35:00-11:30:00 Thu-3C-08:30:00-09:...</td>\n      <td>S2</td>\n      <td>125</td>\n      <td></td>\n      <td></td>\n      <td>Mon-3A-10:35:00-11:30:00 Thu-3C-08:30:00-09:25...</td>\n      <td>3</td>\n    </tr>\n    <tr>\n      <td>13.0</td>\n      <td>timetable</td>\n      <td>HS 305</td>\n      <td>Reading Literature</td>\n      <td>A - Sharmistha Saha A - Suddhaseel Sen I - Sha...</td>\n      <td></td>\n      <td>3 Mon-3A-10:35:00-11:30:00 Thu-3C-08:30:00-09:...</td>\n      <td>S1</td>\n      <td>55</td>\n      <td></td>\n      <td></td>\n      <td>Mon-3A-10:35:00-11:30:00 Thu-3C-08:30:00-09:25...</td>\n      <td>3</td>\n    </tr>\n    <tr>\n      <td>14.0</td>\n      <td>timetable</td>\n      <td>HS 305</td>\n      <td>Reading Literature</td>\n      <td>A - Sharmila A - Suddhaseel Sen I - Sharmistha...</td>\n      <td></td>\n      <td>3 Mon-3A-10:35:00-11:30:00 Thu-3C-08:30:00-09:...</td>\n      <td>S2</td>\n      <td>55</td>\n      <td></td>\n      <td></td>\n      <td>Mon-3A-10:35:00-11:30:00 Thu-3C-08:30:00-09:25...</td>\n      <td>3</td>\n    </tr>\n    <tr>\n      <td>15.0</td>\n      <td>timetable</td>\n      <td>HS 305</td>\n      <td>Reading Literature</td>\n      <td>A - Sharmila A - Sharmistha Saha I - Suddhasee...</td>\n      <td></td>\n      <td>3 Mon-3A-10:35:00-11:30:00 Thu-3C-08:30:00-09:...</td>\n      <td>S3</td>\n      <td>55</td>\n      <td></td>\n      <td></td>\n      <td>Mon-3A-10:35:00-11:30:00 Thu-3C-08:30:00-09:25...</td>\n      <td>3</td>\n    </tr>\n    <tr>\n      <td>16.0</td>\n      <td>timetable</td>\n      <td>HS 306</td>\n      <td>Econometrics I</td>\n      <td>I - Tara S. Shaw</td>\n      <td></td>\n      <td>11 Fri-11B-15:30:00-16:55:00 Tue-11A-15:30:00-...</td>\n      <td></td>\n      <td>0</td>\n      <td>View</td>\n      <td></td>\n      <td>Fri-11B-15:30:00-16:55:00 Tue-11A-15:30:00-16...</td>\n      <td>1</td>\n    </tr>\n    <tr>\n      <td>17.0</td>\n      <td>timetable</td>\n      <td>HS 307</td>\n      <td>Sociology</td>\n      <td>I - Ahonaa Roy</td>\n      <td></td>\n      <td>3 Mon-3A-10:35:00-11:30:00 Thu-3C-08:30:00-09:...</td>\n      <td>S1</td>\n      <td>204</td>\n      <td></td>\n      <td></td>\n      <td>Mon-3A-10:35:00-11:30:00 Thu-3C-08:30:00-09:25...</td>\n      <td>3</td>\n    </tr>\n    <tr>\n      <td>18.0</td>\n      <td>timetable</td>\n      <td>HS 307</td>\n      <td>Sociology</td>\n      <td>I - Suryakant Waghmore</td>\n      <td></td>\n      <td>3 Mon-3A-10:35:00-11:30:00 Thu-3C-08:30:00-09:...</td>\n      <td>S2</td>\n      <td>213</td>\n      <td></td>\n      <td></td>\n      <td>Mon-3A-10:35:00-11:30:00 Thu-3C-08:30:00-09:25...</td>\n      <td>3</td>\n    </tr>\n    <tr>\n      <td>19.0</td>\n      <td>timetable</td>\n      <td>HS 308</td>\n      <td>Econometrics I Lab</td>\n      <td>I - Tara S. Shaw</td>\n      <td></td>\n      <td>13 Mon-13A-19:00:00-20:25:00 Thu-13B-19:00:00-...</td>\n      <td></td>\n      <td>0</td>\n      <td>View</td>\n      <td></td>\n      <td>Mon-13A-19:00:00-20:25:00 Thu-13B-19:00:00-20...</td>\n      <td>1</td>\n    </tr>\n    <tr>\n      <td>20.0</td>\n      <td>timetable</td>\n      <td>HS 311</td>\n      <td>International Economics I</td>\n      <td>A - Saptarshi Prosonno Ghosh I - Aditi Balkris...</td>\n      <td></td>\n      <td>6 Fri-6B-11:05:00-12:30:00 Wed-6A-11:05:00-12:...</td>\n      <td></td>\n      <td>0</td>\n      <td>View</td>\n      <td></td>\n      <td>Fri-6B-11:05:00-12:30:00 Wed-6A-11:05:00-12:30:00</td>\n      <td>6</td>\n    </tr>\n    <tr>\n      <td>21.0</td>\n      <td>timetable</td>\n      <td>HS 313</td>\n      <td>Development Economics I</td>\n      <td>I - Haripriya Gundimeda</td>\n      <td></td>\n      <td>9 Mon-9A-15:30:00-16:55:00 Thu-9B-15:30:00-16:...</td>\n      <td></td>\n      <td>0</td>\n      <td>View</td>\n      <td></td>\n      <td>Mon-9A-15:30:00-16:55:00 Thu-9B-15:30:00-16:55:00</td>\n      <td>9</td>\n    </tr>\n    <tr>\n      <td>22.0</td>\n      <td>timetable</td>\n      <td>HS 315</td>\n      <td>Public Fice</td>\n      <td>I - Rama Pal</td>\n      <td></td>\n      <td>1 Mon-1A-08:30:00-09:25:00 Thu-1C-10:35:00-11:...</td>\n      <td></td>\n      <td>0</td>\n      <td>View</td>\n      <td></td>\n      <td>Mon-1A-08:30:00-09:25:00 Thu-1C-10:35:00-11:30...</td>\n      <td>1</td>\n    </tr>\n    <tr>\n      <td>23.0</td>\n      <td>timetable</td>\n      <td>HS 402</td>\n      <td>Game Theory and Economic Analysis</td>\n      <td>I - Saptarshi Prosonno Ghosh</td>\n      <td></td>\n      <td>10 Fri-10B-14:00:00-15:25:00 Tue-10A-14:00:00-...</td>\n      <td></td>\n      <td>60</td>\n      <td></td>\n      <td></td>\n      <td>Fri-10B-14:00:00-15:25:00 Tue-10A-14:00:00-15...</td>\n      <td>1</td>\n    </tr>\n    <tr>\n      <td>24.0</td>\n      <td>timetable</td>\n      <td>HS 408</td>\n      <td>Shakespearean Afterlives</td>\n      <td>I - Shastri Sudha</td>\n      <td></td>\n      <td>5 Fri-5B-09:30:00-10:55:00 Wed-5A-09:30:00-10:...</td>\n      <td></td>\n      <td>40</td>\n      <td></td>\n      <td></td>\n      <td>Fri-5B-09:30:00-10:55:00 Wed-5A-09:30:00-10:55:00</td>\n      <td>5</td>\n    </tr>\n    <tr>\n      <td>25.0</td>\n      <td>timetable</td>\n      <td>HS 408</td>\n      <td>Shakespearean Afterlives</td>\n      <td>I - Shastri Sudha</td>\n      <td></td>\n      <td>5 Fri-5B-09:30:00-10:55:00 Wed-5A-09:30:00-10:...</td>\n      <td>M</td>\n      <td>40</td>\n      <td></td>\n      <td></td>\n      <td>Fri-5B-09:30:00-10:55:00 Wed-5A-09:30:00-10:55:00</td>\n      <td>5</td>\n    </tr>\n    <tr>\n      <td>26.0</td>\n      <td>timetable</td>\n      <td>HS 412</td>\n      <td>Social Movement and Social Change: Contemporar...</td>\n      <td>I - Sarmistha Pattanaik</td>\n      <td></td>\n      <td>2 Mon-2A-09:30:00-10:25:00 Thu-2C-11:35:00-12:...</td>\n      <td></td>\n      <td>50</td>\n      <td></td>\n      <td></td>\n      <td>Mon-2A-09:30:00-10:25:00 Thu-2C-11:35:00-12:30...</td>\n      <td>2</td>\n    </tr>\n    <tr>\n      <td>27.0</td>\n      <td>timetable</td>\n      <td>HS 414</td>\n      <td>Justice Ethics and Community</td>\n      <td>I - Amrita Banerjee</td>\n      <td></td>\n      <td>2 Mon-2A-09:30:00-10:25:00 Thu-2C-11:35:00-12:...</td>\n      <td></td>\n      <td>50</td>\n      <td></td>\n      <td></td>\n      <td>Mon-2A-09:30:00-10:25:00 Thu-2C-11:35:00-12:30...</td>\n      <td>2</td>\n    </tr>\n    <tr>\n      <td>28.0</td>\n      <td>timetable</td>\n      <td>HS 418</td>\n      <td>Human Cognitive Processes</td>\n      <td>I - Rashmi Gupta</td>\n      <td></td>\n      <td>2 Mon-2A-09:30:00-10:25:00 Thu-2C-11:35:00-12:...</td>\n      <td></td>\n      <td>52</td>\n      <td></td>\n      <td></td>\n      <td>Mon-2A-09:30:00-10:25:00 Thu-2C-11:35:00-12:30...</td>\n      <td>2</td>\n    </tr>\n    <tr>\n      <td>29.0</td>\n      <td>timetable</td>\n      <td>HS 426</td>\n      <td>Theory and Policy of Managerial Fice</td>\n      <td>I - Pooja Padhi</td>\n      <td></td>\n      <td>15 Fri-15B-19:00:00-20:25:00 Tue-15A-19:00:00-...</td>\n      <td></td>\n      <td>50</td>\n      <td>View</td>\n      <td></td>\n      <td>Fri-15B-19:00:00-20:25:00 Tue-15A-19:00:00-20...</td>\n      <td>1</td>\n    </tr>\n    <tr>\n      <td>30.0</td>\n      <td>timetable</td>\n      <td>HS 436</td>\n      <td>Indian Culture and Tradition</td>\n      <td>I - Kulkarni A Malhar</td>\n      <td></td>\n      <td>2 Mon-2A-09:30:00-10:25:00 Thu-2C-11:35:00-12:...</td>\n      <td></td>\n      <td>62</td>\n      <td></td>\n      <td></td>\n      <td>Mon-2A-09:30:00-10:25:00 Thu-2C-11:35:00-12:30...</td>\n      <td>2</td>\n    </tr>\n    <tr>\n      <td>31.0</td>\n      <td>timetable</td>\n      <td>HS 466</td>\n      <td>Introduction to Linguistics</td>\n      <td>I - Sarma Vaijayanthi</td>\n      <td></td>\n      <td>2 Mon-2A-09:30:00-10:25:00 Thu-2C-11:35:00-12:...</td>\n      <td></td>\n      <td>50</td>\n      <td></td>\n      <td></td>\n      <td>Mon-2A-09:30:00-10:25:00 Thu-2C-11:35:00-12:30...</td>\n      <td>2</td>\n    </tr>\n    <tr>\n      <td>32.0</td>\n      <td>timetable</td>\n      <td>HS 467</td>\n      <td>Indian Philosophy</td>\n      <td>I - Ratikanta Panda</td>\n      <td></td>\n      <td>2 Mon-2A-09:30:00-10:25:00 Thu-2C-11:35:00-12:...</td>\n      <td></td>\n      <td>50</td>\n      <td></td>\n      <td></td>\n      <td>Mon-2A-09:30:00-10:25:00 Thu-2C-11:35:00-12:30...</td>\n      <td>2</td>\n    </tr>\n    <tr>\n      <td>33.0</td>\n      <td>Instructor information not avilable</td>\n      <td>HS 495</td>\n      <td>BS Project Stage I</td>\n      <td></td>\n      <td></td>\n      <td></td>\n      <td></td>\n      <td>0</td>\n      <td></td>\n      <td></td>\n      <td></td>\n      <td>0</td>\n    </tr>\n    <tr>\n      <td>34.0</td>\n      <td>timetable</td>\n      <td>HS 501</td>\n      <td>Vedanta Philosophy in the Vedic Tradition</td>\n      <td>I - C.D. Sebastian</td>\n      <td></td>\n      <td>9 Mon-9A-15:30:00-16:55:00 Thu-9B-15:30:00-16:...</td>\n      <td></td>\n      <td>0</td>\n      <td>View</td>\n      <td></td>\n      <td>Mon-9A-15:30:00-16:55:00 Thu-9B-15:30:00-16:55:00</td>\n      <td>9</td>\n    </tr>\n    <tr>\n      <td>35.0</td>\n      <td>timetable</td>\n      <td>HS 503</td>\n      <td>Philosophy in the Age of the Greeks</td>\n      <td>I - Arun A. Iyer</td>\n      <td></td>\n      <td>11 Fri-11B-15:30:00-16:55:00 Tue-11A-15:30:00-...</td>\n      <td></td>\n      <td>0</td>\n      <td>View</td>\n      <td></td>\n      <td>Fri-11B-15:30:00-16:55:00 Tue-11A-15:30:00-16...</td>\n      <td>1</td>\n    </tr>\n    <tr>\n      <td>36.0</td>\n      <td>timetable</td>\n      <td>HS 505</td>\n      <td>Western Philosophy and the Advent of Modern Sc...</td>\n      <td>I - Vikram Singh Sirola</td>\n      <td></td>\n      <td>10 Fri-10B-14:00:00-15:25:00 Tue-10A-14:00:00-...</td>\n      <td></td>\n      <td>0</td>\n      <td>View</td>\n      <td></td>\n      <td>Fri-10B-14:00:00-15:25:00 Tue-10A-14:00:00-15...</td>\n      <td>1</td>\n    </tr>\n    <tr>\n      <td>37.0</td>\n      <td>timetable</td>\n      <td>HS 557</td>\n      <td>Wittgenstein I: Wittgenstein’s Tractatus: The ...</td>\n      <td>I - Pravesh Jung Golay</td>\n      <td></td>\n      <td>6 Fri-6B-11:05:00-12:30:00 Wed-6A-11:05:00-12:...</td>\n      <td></td>\n      <td>0</td>\n      <td>View</td>\n      <td></td>\n      <td>Fri-6B-11:05:00-12:30:00 Wed-6A-11:05:00-12:30:00</td>\n      <td>6</td>\n    </tr>\n    <tr>\n      <td>38.0</td>\n      <td>timetable</td>\n      <td>HS 601</td>\n      <td>Development Planning &amp; Policies : Issues &amp; Alt...</td>\n      <td>A - Anush Kapadia I - Naraya K.</td>\n      <td></td>\n      <td>14 Fri-14B-17:30:00-18:55:00 Tue-14A-17:30:00-...</td>\n      <td></td>\n      <td>0</td>\n      <td></td>\n      <td></td>\n      <td>Fri-14B-17:30:00-18:55:00 Tue-14A-17:30:00-18...</td>\n      <td>1</td>\n    </tr>\n    <tr>\n      <td>39.0</td>\n      <td>timetable</td>\n      <td>HS 603</td>\n      <td>Socio-Psychological Perspectives in Developmen...</td>\n      <td>I - Kushal Deb</td>\n      <td></td>\n      <td>11 Fri-11B-15:30:00-16:55:00 Tue-11A-15:30:00-...</td>\n      <td></td>\n      <td>0</td>\n      <td></td>\n      <td></td>\n      <td>Fri-11B-15:30:00-16:55:00 Tue-11A-15:30:00-16...</td>\n      <td>1</td>\n    </tr>\n    <tr>\n      <td>40.0</td>\n      <td>timetable</td>\n      <td>HS 605</td>\n      <td>Research Methods in Social Sciences</td>\n      <td>A - Parthasarathy D. A - Sarmistha Pattanaik I...</td>\n      <td></td>\n      <td>10 Fri-10B-14:00:00-15:25:00 Tue-10A-14:00:00-...</td>\n      <td></td>\n      <td>0</td>\n      <td>View</td>\n      <td></td>\n      <td>Fri-10B-14:00:00-15:25:00 Tue-10A-14:00:00-15...</td>\n      <td>1</td>\n    </tr>\n    <tr>\n      <td>41.0</td>\n      <td>timetable</td>\n      <td>HS 615</td>\n      <td>Computer Aided Applied Statistics</td>\n      <td>I - Mrinmoyi Kulkarni I - Parthasarathy D.</td>\n      <td></td>\n      <td>9 Mon-9A-15:30:00-16:55:00 Thu-9B-15:30:00-16:...</td>\n      <td></td>\n      <td>0</td>\n      <td></td>\n      <td></td>\n      <td>Mon-9A-15:30:00-16:55:00 Thu-9B-15:30:00-16:55:00</td>\n      <td>9</td>\n    </tr>\n    <tr>\n      <td>42.0</td>\n      <td>timetable</td>\n      <td>HS 636</td>\n      <td>Development of Mathematics in India</td>\n      <td>I - K. Ramasubramanian</td>\n      <td></td>\n      <td>6 Fri-6B-11:05:00-12:30:00 Wed-6A-11:05:00-12:...</td>\n      <td></td>\n      <td>50</td>\n      <td></td>\n      <td></td>\n      <td>Fri-6B-11:05:00-12:30:00 Wed-6A-11:05:00-12:30:00</td>\n      <td>6</td>\n    </tr>\n    <tr>\n      <td>43.0</td>\n      <td>timetable</td>\n      <td>HS 637</td>\n      <td>Anthropology and Disaster</td>\n      <td>I - Robinson Rowena</td>\n      <td></td>\n      <td>5</td>\n      <td></td>\n      <td>0</td>\n      <td>View</td>\n      <td></td>\n      <td></td>\n      <td>5</td>\n    </tr>\n    <tr>\n      <td>44.0</td>\n      <td>Instructor information not avilable</td>\n      <td>HS 691</td>\n      <td>Field Visit</td>\n      <td></td>\n      <td></td>\n      <td></td>\n      <td></td>\n      <td>0</td>\n      <td></td>\n      <td></td>\n      <td></td>\n      <td>0</td>\n    </tr>\n    <tr>\n      <td>45.0</td>\n      <td>Instructor information not avilable</td>\n      <td>HS 694</td>\n      <td>Seminar</td>\n      <td></td>\n      <td></td>\n      <td></td>\n      <td></td>\n      <td>0</td>\n      <td></td>\n      <td></td>\n      <td></td>\n      <td>0</td>\n    </tr>\n    <tr>\n      <td>46.0</td>\n      <td>Instructor information not avilable</td>\n      <td>HS 699</td>\n      <td>Communication and Presentation Skills</td>\n      <td></td>\n      <td></td>\n      <td></td>\n      <td></td>\n      <td>0</td>\n      <td></td>\n      <td></td>\n      <td></td>\n      <td>0</td>\n    </tr>\n    <tr>\n      <td>47.0</td>\n      <td>timetable</td>\n      <td>HS 706</td>\n      <td>Classical Indian Thought in Modern Times</td>\n      <td>I - Rajkishore Nath</td>\n      <td></td>\n      <td>6 Fri-6B-11:05:00-12:30:00 Wed-6A-11:05:00-12:...</td>\n      <td></td>\n      <td>50</td>\n      <td></td>\n      <td></td>\n      <td>Fri-6B-11:05:00-12:30:00 Wed-6A-11:05:00-12:30:00</td>\n      <td>6</td>\n    </tr>\n    <tr>\n      <td>48.0</td>\n      <td>Instructor information not avilable</td>\n      <td>HS 791</td>\n      <td>Communication Skills -I</td>\n      <td></td>\n      <td></td>\n      <td></td>\n      <td></td>\n      <td>0</td>\n      <td></td>\n      <td></td>\n      <td></td>\n      <td>0</td>\n    </tr>\n    <tr>\n      <td>49.0</td>\n      <td>Instructor information not avilable</td>\n      <td>HS 791</td>\n      <td>Communication Skills -I</td>\n      <td></td>\n      <td></td>\n      <td></td>\n      <td>S1</td>\n      <td>0</td>\n      <td></td>\n      <td></td>\n      <td></td>\n      <td>0</td>\n    </tr>\n    <tr>\n      <td>50.0</td>\n      <td>timetable</td>\n      <td>HS 792</td>\n      <td>Communication Skills -II</td>\n      <td>A - Paulomi Chakraborty A - Ramesh Bairy A - S...</td>\n      <td></td>\n      <td>4 Mon-4A-11:35:00-12:30:00 Thu-4C-09:30:00-10:...</td>\n      <td></td>\n      <td>0</td>\n      <td></td>\n      <td></td>\n      <td>Mon-4A-11:35:00-12:30:00 Thu-4C-09:30:00-10:25...</td>\n      <td>4</td>\n    </tr>\n    <tr>\n      <td>51.0</td>\n      <td>timetable</td>\n      <td>HS 800</td>\n      <td>Research Methods in Social Sciences</td>\n      <td>I - Ramesh Bairy</td>\n      <td></td>\n      <td>10 Fri-10B-14:00:00-15:25:00 Tue-10A-14:00:00-...</td>\n      <td></td>\n      <td>0</td>\n      <td></td>\n      <td></td>\n      <td>Fri-10B-14:00:00-15:25:00 Tue-10A-14:00:00-15...</td>\n      <td>1</td>\n    </tr>\n    <tr>\n      <td>52.0</td>\n      <td>timetable</td>\n      <td>HS 802</td>\n      <td>Advanced Economic Theory</td>\n      <td>I - Surajit Bhattacharya</td>\n      <td></td>\n      <td>11 Fri-11B-15:30:00-16:55:00 Tue-11A-15:30:00-...</td>\n      <td></td>\n      <td>0</td>\n      <td></td>\n      <td></td>\n      <td>Fri-11B-15:30:00-16:55:00 Tue-11A-15:30:00-16...</td>\n      <td>1</td>\n    </tr>\n    <tr>\n      <td>53.0</td>\n      <td>timetable</td>\n      <td>HS 807</td>\n      <td>Phenomenology and Existentialism</td>\n      <td>I - Siby K.George</td>\n      <td></td>\n      <td>9 Mon-9A-15:30:00-16:55:00 Thu-9B-15:30:00-16:...</td>\n      <td></td>\n      <td>0</td>\n      <td></td>\n      <td></td>\n      <td>Mon-9A-15:30:00-16:55:00 Thu-9B-15:30:00-16:55:00</td>\n      <td>9</td>\n    </tr>\n    <tr>\n      <td>54.0</td>\n      <td>timetable</td>\n      <td>HS 811</td>\n      <td>Literary Theory</td>\n      <td>I - Paulomi Chakraborty</td>\n      <td></td>\n      <td>11 Fri-11B-15:30:00-16:55:00 Tue-11A-15:30:00-...</td>\n      <td></td>\n      <td>0</td>\n      <td></td>\n      <td></td>\n      <td>Fri-11B-15:30:00-16:55:00 Tue-11A-15:30:00-16...</td>\n      <td>1</td>\n    </tr>\n    <tr>\n      <td>55.0</td>\n      <td>timetable</td>\n      <td>HS 824</td>\n      <td>Cultural Studies</td>\n      <td>I - Ratheesh R.</td>\n      <td></td>\n      <td>8 Mon-8A-14:00:00-15:25:00 Thu-8B-14:00:00-15:...</td>\n      <td></td>\n      <td>0</td>\n      <td></td>\n      <td></td>\n      <td>Mon-8A-14:00:00-15:25:00 Thu-8B-14:00:00-15:25:00</td>\n      <td>8</td>\n    </tr>\n    <tr>\n      <td>56.0</td>\n      <td>timetable</td>\n      <td>HS 842</td>\n      <td>Philosophy of Language in Sanskrit Literature</td>\n      <td>I - Kulkarni A Malhar</td>\n      <td></td>\n      <td>9 Mon-9A-15:30:00-16:55:00 Thu-9B-15:30:00-16:...</td>\n      <td></td>\n      <td>0</td>\n      <td></td>\n      <td></td>\n      <td>Mon-9A-15:30:00-16:55:00 Thu-9B-15:30:00-16:55:00</td>\n      <td>9</td>\n    </tr>\n    <tr>\n      <td>57.0</td>\n      <td>timetable</td>\n      <td>HS 847</td>\n      <td>Algorithms in Indian Astronomy</td>\n      <td>I - K. Ramasubramanian</td>\n      <td></td>\n      <td>11 Fri-11B-15:30:00-16:55:00 Tue-11A-15:30:00-...</td>\n      <td></td>\n      <td>0</td>\n      <td></td>\n      <td></td>\n      <td>Fri-11B-15:30:00-16:55:00 Tue-11A-15:30:00-16...</td>\n      <td>1</td>\n    </tr>\n    <tr>\n      <td>58.0</td>\n      <td>timetable</td>\n      <td>HS 849</td>\n      <td>Theories of Human Development</td>\n      <td>I - Mrinmoyi Kulkarni</td>\n      <td></td>\n      <td>12 Mon-12A-17:30:00-18:55:00 Thu-12B-17:30:00-...</td>\n      <td></td>\n      <td>0</td>\n      <td></td>\n      <td></td>\n      <td>Mon-12A-17:30:00-18:55:00 Thu-12B-17:30:00-18...</td>\n      <td>1</td>\n    </tr>\n    <tr>\n      <td>59.0</td>\n      <td>timetable</td>\n      <td>HSS801</td>\n      <td>Seminar</td>\n      <td>I - Ramesh Bairy</td>\n      <td></td>\n      <td></td>\n      <td></td>\n      <td>0</td>\n      <td></td>\n      <td></td>\n      <td></td>\n      <td>0</td>\n    </tr>\n  </tbody>\n</table>\n</div>"
     },
     "metadata": {},
     "execution_count": 590
    }
   ],
   "source": [
    "df_final"
   ]
  },
  {
   "cell_type": "code",
   "execution_count": 591,
   "metadata": {},
   "outputs": [
    {
     "output_type": "execute_result",
     "data": {
      "text/plain": [
       "array([2, 2, 2, 3, 2, 8, 1, 1, 1, 3, 3, 3, 3, 3, 3, 1, 3, 3, 1, 6, 9, 1,\n",
       "       1, 5, 5, 2, 2, 2, 1, 2, 2, 2, 0, 9, 1, 1, 6, 1, 1, 1, 9, 6, 5, 0,\n",
       "       0, 0, 6, 0, 0, 4, 1, 1, 9, 1, 8, 9, 1, 1, 0], dtype=int64)"
      ]
     },
     "metadata": {},
     "execution_count": 591
    }
   ],
   "source": [
    "df_final['Slot_code'].values"
   ]
  },
  {
   "cell_type": "code",
   "execution_count": 683,
   "metadata": {},
   "outputs": [
    {
     "output_type": "execute_result",
     "data": {
      "text/plain": [
       "'NR'"
      ]
     },
     "metadata": {},
     "execution_count": 683
    }
   ],
   "source": [
    "ini_string = '43 NR 05'\n",
    "\"\".join(re.split(\"[^a-zA-Z]*\", ini_string)) "
   ]
  }
 ]
}