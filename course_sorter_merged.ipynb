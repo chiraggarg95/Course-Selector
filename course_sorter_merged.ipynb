{
 "metadata": {
  "language_info": {
   "codemirror_mode": {
    "name": "ipython",
    "version": 3
   },
   "file_extension": ".py",
   "mimetype": "text/x-python",
   "name": "python",
   "nbconvert_exporter": "python",
   "pygments_lexer": "ipython3",
   "version": "3.7.4-final"
  },
  "orig_nbformat": 2,
  "kernelspec": {
   "name": "python3",
   "display_name": "Python 3",
   "language": "python"
  }
 },
 "nbformat": 4,
 "nbformat_minor": 2,
 "cells": [
  {
   "cell_type": "code",
   "execution_count": 1,
   "metadata": {},
   "outputs": [],
   "source": [
    "import pandas as pd\n",
    "import numpy as np\n",
    "import os\n",
    "import itertools\n",
    "import re"
   ]
  },
  {
   "cell_type": "code",
   "execution_count": 2,
   "metadata": {},
   "outputs": [],
   "source": [
    "def listify(col):\n",
    "    final = []\n",
    "    for s in col:\n",
    "        if s is np.NaN:\n",
    "            continue\n",
    "        else:\n",
    "            final.append(s)\n",
    "    string = str(final)\n",
    "    for ch in [\"[\", \"]\", \",\", \"'\", \"nan\"]:\n",
    "        string = string.replace(ch, \"\")\n",
    "    string = string.replace(u'\\\\xa0', u' ')\n",
    "    return string"
   ]
  },
  {
   "cell_type": "code",
   "execution_count": 3,
   "metadata": {},
   "outputs": [],
   "source": [
    "lab_slots = ['L1', 'L2', 'L3', 'L4', 'LX']\n",
    "\n",
    "def slot_extract(value):\n",
    "    final_slot = 0\n",
    "    if value[0:1] is '':\n",
    "        final_slot = 0\n",
    "    else:\n",
    "        try:\n",
    "            final_slot = int(value[0:2].strip())\n",
    "        except:\n",
    "            gaatIt = 0\n",
    "            for slot in lab_slots:\n",
    "                if slot in value:\n",
    "                    final_slot=slot\n",
    "                    gaatIt = 1\n",
    "                \n",
    "                if gaatIt:\n",
    "                    break\n",
    "                \n",
    "\n",
    "    return final_slot"
   ]
  },
  {
   "cell_type": "code",
   "execution_count": 4,
   "metadata": {},
   "outputs": [],
   "source": [
    "def csv_to_df_gen(path_csv):\n",
    "    return pd.read_csv(path_csv, encoding='cp1252')"
   ]
  },
  {
   "cell_type": "code",
   "execution_count": 5,
   "metadata": {},
   "outputs": [],
   "source": [
    "def df_converter(df_dept):\n",
    "\n",
    "    # drop useless cols\n",
    "    cols_to_be_dropped = []\n",
    "    for col in df_dept.columns:\n",
    "        if (df_dept.isna().sum()[col]==df_dept.shape[0]):\n",
    "            cols_to_be_dropped.append(col)\n",
    "\n",
    "    df_dept = df_dept.drop(columns=cols_to_be_dropped)\n",
    "\n",
    "    # drop useless rows\n",
    "    row_toBe_dropped = []\n",
    "    for row in df_dept.index:\n",
    "        if (df_dept.isna().sum(axis=1)[row]==df_dept.shape[1]):\n",
    "            row_toBe_dropped.append(row)\n",
    "    df_dept=df_dept.drop(row_toBe_dropped)\n",
    "\n",
    "    # correct indexing (bit redundant step)\n",
    "    df_dept = df_dept.reset_index().drop(columns='index')\n",
    "\n",
    "    # forward filling NaNs in Sr. No.\n",
    "    df_dept[df_dept.columns[0]] = df_dept[df_dept.columns[0]].ffill()\n",
    "\n",
    "    # getting final df\n",
    "    df_final = pd.DataFrame(df_dept.groupby(df_dept.columns[0]).agg(listify))\n",
    "\n",
    "    # processing final df\n",
    "    df_final['Time'] = [s[2:] for s in df_final[df_dept.columns[6]]]\n",
    "    df_final['Slot_code'] = [slot_extract(s) for s in df_final[df_dept.columns[6]]]\n",
    "    df_final['Dept'] = [''.join(re.split('[^a-zA-Z]*', s)) for s in df_final[df_dept.columns[2]]]\n",
    "    df_final['Yxx ka Y'] = [int(s[3:4]) for s in df_final[df_dept.columns[2]]]\n",
    "\n",
    "\n",
    "    return df_final\n"
   ]
  },
  {
   "cell_type": "code",
   "execution_count": 6,
   "metadata": {},
   "outputs": [],
   "source": [
    "def path_to_final_df_conv(dept_path):\n",
    "    dept_df = csv_to_df_gen(dept_path)\n",
    "    dept_df_final = df_converter(dept_df)\n",
    "    return dept_df_final"
   ]
  },
  {
   "cell_type": "code",
   "execution_count": 7,
   "metadata": {},
   "outputs": [],
   "source": [
    "def get_merged_df(path_list):\n",
    "    df_list = []\n",
    "    for path_dept in path_list:\n",
    "        dept_csv_path = './' + path + '/' + path_dept\n",
    "        df_list.append(path_to_final_df_conv(dept_csv_path))\n",
    "    \n",
    "    return pd.concat(df_list, ignore_index=True)"
   ]
  },
  {
   "cell_type": "code",
   "execution_count": 8,
   "metadata": {},
   "outputs": [
    {
     "output_type": "stream",
     "name": "stdout",
     "text": [
      "['AE.csv', 'BB.csv', 'CE.csv', 'CH.csv', 'CL.csv', 'CM.csv', 'CSE.csv', 'DE.csv', 'EE.csv', 'EN.csv', 'ENT.csv', 'ES.csv', 'ET.csv', 'GNR.csv', 'GP.csv', 'HS.csv', 'IE.csv', 'MA.csv', 'ME.csv', 'MG.csv', 'MM.csv', 'PH.csv', 'PS.csv', 'SC.csv', 'TD.csv', 'US.csv']\n"
     ]
    }
   ],
   "source": [
    "path = './dept_courses_csv'\n",
    "dept_csv_names = os.listdir(path)\n",
    "print(dept_csv_names)"
   ]
  },
  {
   "cell_type": "code",
   "execution_count": 9,
   "metadata": {},
   "outputs": [
    {
     "output_type": "execute_result",
     "data": {
      "text/plain": [
       "(798, 14)"
      ]
     },
     "metadata": {},
     "execution_count": 9
    }
   ],
   "source": [
    "# dept_csv_names1 = ['IE.csv', 'SC.csv', 'EE.csv', 'DE.csv', 'HS.csv']\n",
    "\n",
    "df_merged = get_merged_df(dept_csv_names)\n",
    "df_merged.shape"
   ]
  },
  {
   "cell_type": "code",
   "execution_count": 20,
   "metadata": {},
   "outputs": [],
   "source": [
    "# df_merged.to_csv('all_dept_merged.csv')"
   ]
  },
  {
   "cell_type": "code",
   "execution_count": null,
   "metadata": {},
   "outputs": [],
   "source": []
  },
  {
   "cell_type": "code",
   "execution_count": null,
   "metadata": {},
   "outputs": [],
   "source": []
  },
  {
   "cell_type": "code",
   "execution_count": null,
   "metadata": {},
   "outputs": [],
   "source": []
  },
  {
   "cell_type": "code",
   "execution_count": 10,
   "metadata": {},
   "outputs": [],
   "source": [
    "#Filters"
   ]
  },
  {
   "cell_type": "code",
   "execution_count": 11,
   "metadata": {},
   "outputs": [],
   "source": [
    "def get_filtered_df(filters, filter_values, req_attr, df_all):\n",
    "    \n",
    "    df_filter_lst = []\n",
    "    combs_not_found = []\n",
    "    \n",
    "    combs = list(itertools.product(*filter_values))\n",
    "\n",
    "    for comb in combs:\n",
    "        try:\n",
    "            df_filter_lst.append(pd.DataFrame(df_all.groupby(filters).get_group(comb)[req_attr]))\n",
    "        except:\n",
    "            combs_not_found.append(comb)\n",
    "    \n",
    "    return pd.concat(df_filter_lst, ignore_index=True), combs_not_found"
   ]
  },
  {
   "cell_type": "code",
   "execution_count": 12,
   "metadata": {},
   "outputs": [
    {
     "output_type": "execute_result",
     "data": {
      "text/plain": [
       "array(['AE', 'BB', 'CE', 'CH', 'CL', 'CM', 'CS', 'DE', 'EE', 'EN', 'ENT',\n",
       "       'ES', 'ET', 'GNR', 'GP', 'GS', 'HS', 'IE', 'MA', 'SI', 'ME', 'MGT',\n",
       "       'SOM', 'MM', 'PH', 'PS', 'SC', 'TD', 'US'], dtype=object)"
      ]
     },
     "metadata": {},
     "execution_count": 12
    }
   ],
   "source": [
    "df_merged['Dept'].unique()"
   ]
  },
  {
   "cell_type": "code",
   "execution_count": 13,
   "metadata": {},
   "outputs": [],
   "source": [
    "filter_obo = [\n",
    "    'Dept', \n",
    "    'Slot_code',\n",
    "    'Yxx ka Y',\n",
    "    ]\n",
    "\n",
    "get_attr = [\n",
    "    'Course Code',\n",
    "    'Course Name', \n",
    "    'Dept', \n",
    "    'Division',\n",
    "    'Instructor(s)',\n",
    "    'Slot_code', \n",
    "    'Time', \n",
    "    'Yxx ka Y',\n",
    "    ]\n",
    "\n",
    "dept_list = ['CS', 'EE', 'ENT', 'ET', 'GNR', 'HS', 'IE', 'SI', 'MGT', 'SOM', 'MM', 'SC',]\n",
    "\n",
    "slot_list = [6, 7, 12, 13, 14, 15]\n",
    "\n",
    "year_list = [6, 7]\n",
    "\n",
    "req_filter_value = [\n",
    "    dept_list, \n",
    "    slot_list,\n",
    "    year_list,\n",
    "    ]"
   ]
  },
  {
   "cell_type": "code",
   "execution_count": 14,
   "metadata": {},
   "outputs": [],
   "source": [
    "df_req_fil, inv_filt = get_filtered_df(filter_obo, req_filter_value, get_attr, df_merged)"
   ]
  },
  {
   "cell_type": "code",
   "execution_count": 15,
   "metadata": {},
   "outputs": [
    {
     "output_type": "stream",
     "name": "stdout",
     "text": [
      "107\n"
     ]
    }
   ],
   "source": [
    "print(len(inv_filt))"
   ]
  },
  {
   "cell_type": "code",
   "execution_count": 16,
   "metadata": {},
   "outputs": [
    {
     "output_type": "execute_result",
     "data": {
      "text/plain": [
       "   Course Code                                  Course Name Dept Division  \\\n",
       "0       CS 620          New Trend in Information Technology   CS            \n",
       "1       CS 748  Advances in Intelligent and Learning Agents   CS            \n",
       "2       CS 754                    Advanced Image Processing   CS            \n",
       "3       CS 736                      Medical Image Computing   CS            \n",
       "4       CS 741   Advanced Network Security and Cryptography   CS            \n",
       "..         ...                                          ...  ...      ...   \n",
       "75      SC 702               Linear Systems Theory for PDEs   SC        M   \n",
       "76      SC 630  Variable Structure and Sliding Mode Control   SC            \n",
       "77      SC 630  Variable Structure and Sliding Mode Control   SC        M   \n",
       "78      SC 602       Control of Nonlinear Dynamical Systems   SC            \n",
       "79      SC 602       Control of Nonlinear Dynamical Systems   SC        M   \n",
       "\n",
       "                Instructor(s) Slot_code  \\\n",
       "0    I - Supratik Chakraborty        12   \n",
       "1   I - Shivaram Kalyanakrish        13   \n",
       "2         I - Ajit V. Rajwade        13   \n",
       "3         I - Suyash P. Awate        14   \n",
       "4           I - B. L. Menezes        14   \n",
       "..                        ...       ...   \n",
       "75        I - Vivek Natarajan         6   \n",
       "76       I - Bandyopadhyay B.        13   \n",
       "77       I - Bandyopadhyay B.        13   \n",
       "78        I - Sukumar Srikant        14   \n",
       "79        I - Sukumar Srikant        14   \n",
       "\n",
       "                                                 Time  Yxx ka Y  \n",
       "0    Mon-12A-17:30:00-18:55:00 Thu-12B-17:30:00-18...         6  \n",
       "1    Mon-13A-19:00:00-20:25:00 Thu-13B-19:00:00-20...         7  \n",
       "2    Mon-13A-19:00:00-20:25:00 Thu-13B-19:00:00-20...         7  \n",
       "3    Fri-14B-17:30:00-18:55:00 Tue-14A-17:30:00-18...         7  \n",
       "4    Fri-14B-17:30:00-18:55:00 Tue-14A-17:30:00-18...         7  \n",
       "..                                                ...       ...  \n",
       "75  Fri-6B-11:05:00-12:30:00 Wed-6A-11:05:00-12:30:00         7  \n",
       "76   Mon-13A-19:00:00-20:25:00 Thu-13B-19:00:00-20...         6  \n",
       "77   Mon-13A-19:00:00-20:25:00 Thu-13B-19:00:00-20...         6  \n",
       "78   Fri-14B-17:30:00-18:55:00 Tue-14A-17:30:00-18...         6  \n",
       "79   Fri-14B-17:30:00-18:55:00 Tue-14A-17:30:00-18...         6  \n",
       "\n",
       "[80 rows x 8 columns]"
      ],
      "text/html": "<div>\n<style scoped>\n    .dataframe tbody tr th:only-of-type {\n        vertical-align: middle;\n    }\n\n    .dataframe tbody tr th {\n        vertical-align: top;\n    }\n\n    .dataframe thead th {\n        text-align: right;\n    }\n</style>\n<table border=\"1\" class=\"dataframe\">\n  <thead>\n    <tr style=\"text-align: right;\">\n      <th></th>\n      <th>Course Code</th>\n      <th>Course Name</th>\n      <th>Dept</th>\n      <th>Division</th>\n      <th>Instructor(s)</th>\n      <th>Slot_code</th>\n      <th>Time</th>\n      <th>Yxx ka Y</th>\n    </tr>\n  </thead>\n  <tbody>\n    <tr>\n      <td>0</td>\n      <td>CS 620</td>\n      <td>New Trend in Information Technology</td>\n      <td>CS</td>\n      <td></td>\n      <td>I - Supratik Chakraborty</td>\n      <td>12</td>\n      <td>Mon-12A-17:30:00-18:55:00 Thu-12B-17:30:00-18...</td>\n      <td>6</td>\n    </tr>\n    <tr>\n      <td>1</td>\n      <td>CS 748</td>\n      <td>Advances in Intelligent and Learning Agents</td>\n      <td>CS</td>\n      <td></td>\n      <td>I - Shivaram Kalyanakrish</td>\n      <td>13</td>\n      <td>Mon-13A-19:00:00-20:25:00 Thu-13B-19:00:00-20...</td>\n      <td>7</td>\n    </tr>\n    <tr>\n      <td>2</td>\n      <td>CS 754</td>\n      <td>Advanced Image Processing</td>\n      <td>CS</td>\n      <td></td>\n      <td>I - Ajit V. Rajwade</td>\n      <td>13</td>\n      <td>Mon-13A-19:00:00-20:25:00 Thu-13B-19:00:00-20...</td>\n      <td>7</td>\n    </tr>\n    <tr>\n      <td>3</td>\n      <td>CS 736</td>\n      <td>Medical Image Computing</td>\n      <td>CS</td>\n      <td></td>\n      <td>I - Suyash P. Awate</td>\n      <td>14</td>\n      <td>Fri-14B-17:30:00-18:55:00 Tue-14A-17:30:00-18...</td>\n      <td>7</td>\n    </tr>\n    <tr>\n      <td>4</td>\n      <td>CS 741</td>\n      <td>Advanced Network Security and Cryptography</td>\n      <td>CS</td>\n      <td></td>\n      <td>I - B. L. Menezes</td>\n      <td>14</td>\n      <td>Fri-14B-17:30:00-18:55:00 Tue-14A-17:30:00-18...</td>\n      <td>7</td>\n    </tr>\n    <tr>\n      <td>...</td>\n      <td>...</td>\n      <td>...</td>\n      <td>...</td>\n      <td>...</td>\n      <td>...</td>\n      <td>...</td>\n      <td>...</td>\n      <td>...</td>\n    </tr>\n    <tr>\n      <td>75</td>\n      <td>SC 702</td>\n      <td>Linear Systems Theory for PDEs</td>\n      <td>SC</td>\n      <td>M</td>\n      <td>I - Vivek Natarajan</td>\n      <td>6</td>\n      <td>Fri-6B-11:05:00-12:30:00 Wed-6A-11:05:00-12:30:00</td>\n      <td>7</td>\n    </tr>\n    <tr>\n      <td>76</td>\n      <td>SC 630</td>\n      <td>Variable Structure and Sliding Mode Control</td>\n      <td>SC</td>\n      <td></td>\n      <td>I - Bandyopadhyay B.</td>\n      <td>13</td>\n      <td>Mon-13A-19:00:00-20:25:00 Thu-13B-19:00:00-20...</td>\n      <td>6</td>\n    </tr>\n    <tr>\n      <td>77</td>\n      <td>SC 630</td>\n      <td>Variable Structure and Sliding Mode Control</td>\n      <td>SC</td>\n      <td>M</td>\n      <td>I - Bandyopadhyay B.</td>\n      <td>13</td>\n      <td>Mon-13A-19:00:00-20:25:00 Thu-13B-19:00:00-20...</td>\n      <td>6</td>\n    </tr>\n    <tr>\n      <td>78</td>\n      <td>SC 602</td>\n      <td>Control of Nonlinear Dynamical Systems</td>\n      <td>SC</td>\n      <td></td>\n      <td>I - Sukumar Srikant</td>\n      <td>14</td>\n      <td>Fri-14B-17:30:00-18:55:00 Tue-14A-17:30:00-18...</td>\n      <td>6</td>\n    </tr>\n    <tr>\n      <td>79</td>\n      <td>SC 602</td>\n      <td>Control of Nonlinear Dynamical Systems</td>\n      <td>SC</td>\n      <td>M</td>\n      <td>I - Sukumar Srikant</td>\n      <td>14</td>\n      <td>Fri-14B-17:30:00-18:55:00 Tue-14A-17:30:00-18...</td>\n      <td>6</td>\n    </tr>\n  </tbody>\n</table>\n<p>80 rows × 8 columns</p>\n</div>"
     },
     "metadata": {},
     "execution_count": 16
    }
   ],
   "source": [
    "df_req_fil"
   ]
  },
  {
   "cell_type": "code",
   "execution_count": 48,
   "metadata": {},
   "outputs": [],
   "source": [
    "# len(list(df_merged['Dept'].unique()))"
   ]
  },
  {
   "cell_type": "code",
   "execution_count": 18,
   "metadata": {},
   "outputs": [],
   "source": [
    "df_merged.to_csv('all_dept_course_list.csv')"
   ]
  },
  {
   "cell_type": "code",
   "execution_count": 19,
   "metadata": {},
   "outputs": [
    {
     "output_type": "execute_result",
     "data": {
      "text/plain": [
       "    Course Code            Course Name Dept Division Division.1  \\\n",
       "246      EE 114  Power Engineering - I   EE       S2              \n",
       "\n",
       "      Instructor(s) Registration Limit Restrictions  \\\n",
       "246  I - Soman S.A.                  0          NaN   \n",
       "\n",
       "                                                  Slot Slot_code  \\\n",
       "246  1 Mon-1A-08:30:00-09:25:00 Thu-1C-10:35:00-11:...         1   \n",
       "\n",
       "                                                  Time       Type Venue  \\\n",
       "246  Mon-1A-08:30:00-09:25:00 Thu-1C-10:35:00-11:30...  timetable         \n",
       "\n",
       "     Yxx ka Y  \n",
       "246         1  "
      ],
      "text/html": "<div>\n<style scoped>\n    .dataframe tbody tr th:only-of-type {\n        vertical-align: middle;\n    }\n\n    .dataframe tbody tr th {\n        vertical-align: top;\n    }\n\n    .dataframe thead th {\n        text-align: right;\n    }\n</style>\n<table border=\"1\" class=\"dataframe\">\n  <thead>\n    <tr style=\"text-align: right;\">\n      <th></th>\n      <th>Course Code</th>\n      <th>Course Name</th>\n      <th>Dept</th>\n      <th>Division</th>\n      <th>Division.1</th>\n      <th>Instructor(s)</th>\n      <th>Registration Limit</th>\n      <th>Restrictions</th>\n      <th>Slot</th>\n      <th>Slot_code</th>\n      <th>Time</th>\n      <th>Type</th>\n      <th>Venue</th>\n      <th>Yxx ka Y</th>\n    </tr>\n  </thead>\n  <tbody>\n    <tr>\n      <td>246</td>\n      <td>EE 114</td>\n      <td>Power Engineering - I</td>\n      <td>EE</td>\n      <td>S2</td>\n      <td></td>\n      <td>I - Soman S.A.</td>\n      <td>0</td>\n      <td>NaN</td>\n      <td>1 Mon-1A-08:30:00-09:25:00 Thu-1C-10:35:00-11:...</td>\n      <td>1</td>\n      <td>Mon-1A-08:30:00-09:25:00 Thu-1C-10:35:00-11:30...</td>\n      <td>timetable</td>\n      <td></td>\n      <td>1</td>\n    </tr>\n  </tbody>\n</table>\n</div>"
     },
     "metadata": {},
     "execution_count": 19
    }
   ],
   "source": [
    "df_merged.groupby(['Dept', 'Slot_code', 'Yxx ka Y']).get_group(('EE', 1, 1))\n",
    "# df.groupby(filter_obo).get_group(('EE', 9, 7))[get_attr]"
   ]
  },
  {
   "cell_type": "code",
   "execution_count": 273,
   "metadata": {},
   "outputs": [],
   "source": [
    "df_merged.to_csv('merged_csv_1.csv')"
   ]
  },
  {
   "cell_type": "code",
   "execution_count": null,
   "metadata": {},
   "outputs": [],
   "source": []
  },
  {
   "cell_type": "code",
   "execution_count": null,
   "metadata": {},
   "outputs": [],
   "source": []
  },
  {
   "cell_type": "code",
   "execution_count": 246,
   "metadata": {},
   "outputs": [
    {
     "output_type": "execute_result",
     "data": {
      "text/plain": [
       "array(['AE', 'BB', 'CE', 'CH', 'CS', 'DE', 'EE', 'EN', 'ET', 'GN', 'HS',\n",
       "       'IE', 'MA', 'SI', 'MG', 'SO', 'SC'], dtype=object)"
      ]
     },
     "metadata": {},
     "execution_count": 246
    }
   ],
   "source": [
    "df_merged['Dept'].unique()"
   ]
  },
  {
   "cell_type": "code",
   "execution_count": 210,
   "metadata": {},
   "outputs": [
    {
     "output_type": "stream",
     "name": "stdout",
     "text": [
      "Slot: 5\n   Course Code                                Course Name\n76      EE 709  Testing and Verification of VLSI Circuits\n84      EE 737         Introduction to Stochastic Control\n96      EE 793                       Topics in Cryptology\n\nSlot: 6\n    Course Code                                      Course Name\n14       IE 714  Quantitative Models for Supply Chain Management\n33       SC 702                   Linear Systems Theory for PDEs\n34       SC 702                   Linear Systems Theory for PDEs\n97       EE 799                                Advanced Antennas\n157      HS 710                              Consumer Psychology\n\nSlot: 7\nEither some error occured or No courses were found :((( \n\nSlot: 12\n   Course Code                                       Course Name\n79      EE 724                                   Nanoelectronics\n92      EE 786  Developments Trends and Economic Frontiers in EE\n\nSlot: 13\n   Course Code                        Course Name\n80      EE 727  Physics of Nanoscale Devices - II\n\nSlot: 14\n   Course Code                                       Course Name\n89      EE 769                  Introduction to Machine Learning\n94      EE 791  Power Electronic Converters for Renewable Energy\n\nSlot: 15\n   Course Code                            Course Name\n91      EE 780  Terahertz : Technology & Applications\n\n"
     ]
    }
   ],
   "source": [
    "free_slots = [5, 6, 7, 12, 13, 14, 15]\n",
    "\n",
    "for slot in free_slots:\n",
    "    print('Slot: ' + str(slot))\n",
    "    try:\n",
    "        print((df_merged.groupby(['Slot_code', 'Yxx ka Y']).get_group((slot, 7))[['Course Code', 'Course Name']]))\n",
    "    except:\n",
    "        print('Either some error occured or No courses were found :((( ')\n",
    "    print()"
   ]
  },
  {
   "cell_type": "code",
   "execution_count": 161,
   "metadata": {},
   "outputs": [
    {
     "output_type": "execute_result",
     "data": {
      "text/plain": [
       "'IE'"
      ]
     },
     "metadata": {},
     "execution_count": 161
    }
   ],
   "source": [
    "(df_merged['Course Code'][15][0:2])"
   ]
  },
  {
   "cell_type": "code",
   "execution_count": 226,
   "metadata": {},
   "outputs": [
    {
     "output_type": "execute_result",
     "data": {
      "text/plain": [
       "Index(['Course Code', 'Course Name', 'Dept', 'Division', 'Division.1',\n",
       "       'Instructor(s)', 'Registration Limit', 'Restrictions', 'Slot',\n",
       "       'Slot_code', 'Time', 'Type', 'Venue', 'Yxx ka Y'],\n",
       "      dtype='object')"
      ]
     },
     "metadata": {},
     "execution_count": 226
    }
   ],
   "source": [
    "df_merged.columns"
   ]
  },
  {
   "cell_type": "code",
   "execution_count": 237,
   "metadata": {},
   "outputs": [],
   "source": [
    "col_map = {\n",
    "    'Course Code': 'Course Code',\n",
    "    'Course Name': 'Course Name',\n",
    "    'Course Dept': 'Dept',\n",
    "    'Course Division': 'Division',\n",
    "    'Division.1': 'Division.1',\n",
    "    'Instructor': 'Instructor(s)',\n",
    "    'Reg Limit': 'Registration Limit',\n",
    "    'Restrictions': 'Restrictions',\n",
    "    'Course Slot': 'Slot',\n",
    "    'Course Slot Code': 'Slot_code',\n",
    "    'Course Timing': 'Time',\n",
    "    'Course Type': 'Type',\n",
    "    'Course Venue': 'Venue',\n",
    "    'Course Year': 'Yxx ka Y', \n",
    "}"
   ]
  },
  {
   "cell_type": "code",
   "execution_count": 244,
   "metadata": {},
   "outputs": [
    {
     "output_type": "execute_result",
     "data": {
      "text/plain": [
       "[('EE', 4, 5),\n",
       " ('EE', 4, 3),\n",
       " ('EE', 4, 6),\n",
       " ('EE', 6, 5),\n",
       " ('EE', 6, 3),\n",
       " ('EE', 6, 6),\n",
       " ('EE', 7, 5),\n",
       " ('EE', 7, 3),\n",
       " ('EE', 7, 6),\n",
       " ('HS', 4, 5),\n",
       " ('HS', 4, 3),\n",
       " ('HS', 4, 6),\n",
       " ('HS', 6, 5),\n",
       " ('HS', 6, 3),\n",
       " ('HS', 6, 6),\n",
       " ('HS', 7, 5),\n",
       " ('HS', 7, 3),\n",
       " ('HS', 7, 6),\n",
       " ('MA', 4, 5),\n",
       " ('MA', 4, 3),\n",
       " ('MA', 4, 6),\n",
       " ('MA', 6, 5),\n",
       " ('MA', 6, 3),\n",
       " ('MA', 6, 6),\n",
       " ('MA', 7, 5),\n",
       " ('MA', 7, 3),\n",
       " ('MA', 7, 6),\n",
       " ('ME', 4, 5),\n",
       " ('ME', 4, 3),\n",
       " ('ME', 4, 6),\n",
       " ('ME', 6, 5),\n",
       " ('ME', 6, 3),\n",
       " ('ME', 6, 6),\n",
       " ('ME', 7, 5),\n",
       " ('ME', 7, 3),\n",
       " ('ME', 7, 6)]"
      ]
     },
     "metadata": {},
     "execution_count": 244
    }
   ],
   "source": [
    "dept_list = ['EE', 'HS', 'MA', 'ME']\n",
    "year_list = [4, 6, 7]\n",
    "slot_list = [5, 3, 6]\n",
    "\n",
    "filter_list = [dept_list, year_list, slot_list]\n",
    "list(itertools.product(*filter_list))"
   ]
  }
 ]
}