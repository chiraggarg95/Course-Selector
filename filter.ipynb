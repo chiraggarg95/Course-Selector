{
 "metadata": {
  "language_info": {
   "codemirror_mode": {
    "name": "ipython",
    "version": 3
   },
   "file_extension": ".py",
   "mimetype": "text/x-python",
   "name": "python",
   "nbconvert_exporter": "python",
   "pygments_lexer": "ipython3",
   "version": "3.7.4-final"
  },
  "orig_nbformat": 2,
  "kernelspec": {
   "name": "python3",
   "display_name": "Python 3",
   "language": "python"
  }
 },
 "nbformat": 4,
 "nbformat_minor": 2,
 "cells": [
  {
   "cell_type": "code",
   "execution_count": 1,
   "metadata": {},
   "outputs": [],
   "source": [
    "import pandas as pd\n",
    "import numpy as np\n",
    "import os\n",
    "import itertools"
   ]
  },
  {
   "cell_type": "code",
   "execution_count": 2,
   "metadata": {},
   "outputs": [
    {
     "output_type": "execute_result",
     "data": {
      "text/plain": [
       "(798, 14)"
      ]
     },
     "metadata": {},
     "execution_count": 2
    }
   ],
   "source": [
    "merged_csv_path = './all_dept_course_list.csv'\n",
    "df = pd.read_csv(merged_csv_path, index_col=0)\n",
    "df.shape"
   ]
  },
  {
   "cell_type": "code",
   "execution_count": 3,
   "metadata": {},
   "outputs": [],
   "source": [
    "def get_filtered_df(filters, filter_values, req_attr, df_all):\n",
    "    \n",
    "    df_filter_lst = []\n",
    "    combs_not_found = []\n",
    "    \n",
    "    combs = list(itertools.product(*filter_values))\n",
    "\n",
    "    for comb in combs:\n",
    "        try:\n",
    "            df_filter_lst.append(pd.DataFrame(df_all.groupby(filters).get_group(comb)[req_attr]))\n",
    "        except:\n",
    "            combs_not_found.append(comb)\n",
    "    \n",
    "    return pd.concat(df_filter_lst, ignore_index=True), combs_not_found"
   ]
  },
  {
   "cell_type": "code",
   "execution_count": 4,
   "metadata": {},
   "outputs": [],
   "source": [
    "# get filters\n",
    "filter_obo = []\n",
    "\n",
    "req_filt_values = []\n",
    "\n",
    "filter_op_map = {\n",
    "    'Course Dept': 'Dept',\n",
    "    'Course Division': 'Division',\n",
    "    'Course Slot Code': 'Slot_code',\n",
    "    'Course Year': 'Yxx ka Y', \n",
    "}\n",
    "\n",
    "for filt_op in filter_op_map.keys():\n",
    "    filt_yn = input('Do you want to filter OBO ' + filt_op + '? (y/n)')\n",
    "    \n",
    "    if (filt_yn.strip()=='n'):\n",
    "        continue\n",
    "    else:\n",
    "        filt_values = []\n",
    "        filter_obo.append(filter_op_map[filt_op])\n",
    "        d = input('Please enter the required values of filter. Press \"x\" to end.')\n",
    "        while(d.strip()!='x'):\n",
    "            if (filt_op=='Course Year'):\n",
    "                filt_values.append(int(d.strip()))\n",
    "            else:\n",
    "                filt_values.append(d.strip().upper())\n",
    "            \n",
    "            d=input('Enter next value')\n",
    "\n",
    "        req_filt_values.append(filt_values)\n",
    "\n",
    "get_attr_lst = [\n",
    "    'Course Code',\n",
    "    'Course Name', \n",
    "    'Dept', \n",
    "    'Division',\n",
    "    'Instructor(s)',\n",
    "    'Slot_code', \n",
    "    'Time', \n",
    "    'Yxx ka Y',\n",
    "    ]\n",
    "\n",
    "df_filt, not_found = get_filtered_df(filter_obo, req_filt_values, get_attr_lst, df)"
   ]
  },
  {
   "cell_type": "code",
   "execution_count": 5,
   "metadata": {},
   "outputs": [
    {
     "output_type": "stream",
     "name": "stdout",
     "text": [
      "[['EE'], ['1', '2', '3', '4']]\n"
     ]
    },
    {
     "output_type": "execute_result",
     "data": {
      "text/plain": [
       "   Course Code                                        Course Name Dept  \\\n",
       "0       EE 114                              Power Engineering - I   EE   \n",
       "1       EE 309                                    Microprocessors   EE   \n",
       "2       EE 328                             Digital Communications   EE   \n",
       "3       EE 328                             Digital Communications   EE   \n",
       "4       EE 719                           Mixed-Signal VLSI Design   EE   \n",
       "5       EE 764                    Wireless & Mobile Communication   EE   \n",
       "6       EE 790              Solar Photovoltaics: Photons to Farms   EE   \n",
       "7       EE 238                             Power Engineering - II   EE   \n",
       "8       EE 238                             Power Engineering - II   EE   \n",
       "9       EE 606                         Fibre Optic Communications   EE   \n",
       "10      EE 622                            Optimal Control Systems   EE   \n",
       "11      EE 654                             Power Electronics - II   EE   \n",
       "12      EE 728  Growth and Characterization of Nano-electronic...   EE   \n",
       "13      EE 302                                    Control Systems   EE   \n",
       "14      EE 302                                    Control Systems   EE   \n",
       "15      EE 302                                    Control Systems   EE   \n",
       "16      EE 302                                    Control Systems   EE   \n",
       "17      EE 625                              Bio Sensors & BioMEMS   EE   \n",
       "18      EE 636                                Matrix Computations   EE   \n",
       "19      EE 701                               Introduction to MEMS   EE   \n",
       "20      EE 708                        Information Theory & Coding   EE   \n",
       "21      EE 207                      Electronic Devices & Circuits   EE   \n",
       "22      EE 207                      Electronic Devices & Circuits   EE   \n",
       "23      EE 334                                      Power Systems   EE   \n",
       "24      EE 739                                   Processor Design   EE   \n",
       "25      EE 777                                   Network Security   EE   \n",
       "26      EE 792                           Communication Skills -II   EE   \n",
       "\n",
       "   Division            Instructor(s) Slot_code  \\\n",
       "0        S2           I - Soman S.A.         1   \n",
       "1       NaN        I - Sharma Dinesh         1   \n",
       "2        S1        I - Kumar Appaiah         1   \n",
       "3        S2         I - Merchant S N         1   \n",
       "4       NaN       I - Rajesh H. Zele         1   \n",
       "5       NaN          I - P.Chaporkar         1   \n",
       "6       NaN      I - Pradeep R. Nair         1   \n",
       "7        S1   I - Chatterjee Kishore         2   \n",
       "8        S2      I - Anshuman Shukla         2   \n",
       "9       NaN               I - J.John         2   \n",
       "10      NaN        I - Pillai Harish         2   \n",
       "11      NaN        I - M. Chandorkar         2   \n",
       "12      NaN       I - S. Chakrabarti         2   \n",
       "13       S1              I - M Belur         3   \n",
       "14       S2   I - Debraj Chakraborty         3   \n",
       "15       S3  I - Dwaipayan Mukherjee         3   \n",
       "16       S4        I - Pillai Harish         3   \n",
       "17      NaN        I - S. Duttagupta         3   \n",
       "18      NaN       I - Debasattam Pal         3   \n",
       "19      NaN     I - Siddharth Tallur         3   \n",
       "20      NaN              I - B.K.Dey         3   \n",
       "21       S1          I - M. B. Patil         4   \n",
       "22       S2        I - Dipankar Saha         4   \n",
       "23      NaN        I - Kulkarni A.M.         4   \n",
       "24      NaN       I - Virendra Singh         4   \n",
       "25      NaN   I - Gaurav S. Kasbekar         4   \n",
       "26      NaN   I - Narendra Shiradkar         4   \n",
       "\n",
       "                                                 Time  Yxx ka Y  \n",
       "0   Mon-1A-08:30:00-09:25:00 Thu-1C-10:35:00-11:30...         1  \n",
       "1   Mon-1A-08:30:00-09:25:00 Thu-1C-10:35:00-11:30...         3  \n",
       "2   Mon-1A-08:30:00-09:25:00 Thu-1C-10:35:00-11:30...         3  \n",
       "3   Mon-1A-08:30:00-09:25:00 Thu-1C-10:35:00-11:30...         3  \n",
       "4   Mon-1A-08:30:00-09:25:00 Thu-1C-10:35:00-11:30...         7  \n",
       "5   Mon-1A-08:30:00-09:25:00 Thu-1C-10:35:00-11:30...         7  \n",
       "6   Mon-1A-08:30:00-09:25:00 Thu-1C-10:35:00-11:30...         7  \n",
       "7   Mon-2A-09:30:00-10:25:00 Thu-2C-11:35:00-12:30...         2  \n",
       "8   Mon-2A-09:30:00-10:25:00 Thu-2C-11:35:00-12:30...         2  \n",
       "9   Mon-2A-09:30:00-10:25:00 Thu-2C-11:35:00-12:30...         6  \n",
       "10  Mon-2A-09:30:00-10:25:00 Thu-2C-11:35:00-12:30...         6  \n",
       "11  Mon-2A-09:30:00-10:25:00 Thu-2C-11:35:00-12:30...         6  \n",
       "12  Mon-2A-09:30:00-10:25:00 Thu-2C-11:35:00-12:30...         7  \n",
       "13  Mon-3A-10:35:00-11:30:00 Thu-3C-08:30:00-09:25...         3  \n",
       "14  Mon-3A-10:35:00-11:30:00 Thu-3C-08:30:00-09:25...         3  \n",
       "15  Mon-3A-10:35:00-11:30:00 Thu-3C-08:30:00-09:25...         3  \n",
       "16  Mon-3A-10:35:00-11:30:00 Thu-3C-08:30:00-09:25...         3  \n",
       "17  Mon-3A-10:35:00-11:30:00 Thu-3C-08:30:00-09:25...         6  \n",
       "18  Mon-3A-10:35:00-11:30:00 Thu-3C-08:30:00-09:25...         6  \n",
       "19  Mon-3A-10:35:00-11:30:00 Thu-3C-08:30:00-09:25...         7  \n",
       "20  Mon-3A-10:35:00-11:30:00 Thu-3C-08:30:00-09:25...         7  \n",
       "21  Mon-4A-11:35:00-12:30:00 Thu-4C-09:30:00-10:25...         2  \n",
       "22  Mon-4A-11:35:00-12:30:00 Thu-4C-09:30:00-10:25...         2  \n",
       "23  Mon-4A-11:35:00-12:30:00 Thu-4C-09:30:00-10:25...         3  \n",
       "24  Mon-4A-11:35:00-12:30:00 Thu-4C-09:30:00-10:25...         7  \n",
       "25  Mon-4A-11:35:00-12:30:00 Thu-4C-09:30:00-10:25...         7  \n",
       "26                           Tue-4B-08:30:00-09:25:00         7  "
      ],
      "text/html": "<div>\n<style scoped>\n    .dataframe tbody tr th:only-of-type {\n        vertical-align: middle;\n    }\n\n    .dataframe tbody tr th {\n        vertical-align: top;\n    }\n\n    .dataframe thead th {\n        text-align: right;\n    }\n</style>\n<table border=\"1\" class=\"dataframe\">\n  <thead>\n    <tr style=\"text-align: right;\">\n      <th></th>\n      <th>Course Code</th>\n      <th>Course Name</th>\n      <th>Dept</th>\n      <th>Division</th>\n      <th>Instructor(s)</th>\n      <th>Slot_code</th>\n      <th>Time</th>\n      <th>Yxx ka Y</th>\n    </tr>\n  </thead>\n  <tbody>\n    <tr>\n      <td>0</td>\n      <td>EE 114</td>\n      <td>Power Engineering - I</td>\n      <td>EE</td>\n      <td>S2</td>\n      <td>I - Soman S.A.</td>\n      <td>1</td>\n      <td>Mon-1A-08:30:00-09:25:00 Thu-1C-10:35:00-11:30...</td>\n      <td>1</td>\n    </tr>\n    <tr>\n      <td>1</td>\n      <td>EE 309</td>\n      <td>Microprocessors</td>\n      <td>EE</td>\n      <td>NaN</td>\n      <td>I - Sharma Dinesh</td>\n      <td>1</td>\n      <td>Mon-1A-08:30:00-09:25:00 Thu-1C-10:35:00-11:30...</td>\n      <td>3</td>\n    </tr>\n    <tr>\n      <td>2</td>\n      <td>EE 328</td>\n      <td>Digital Communications</td>\n      <td>EE</td>\n      <td>S1</td>\n      <td>I - Kumar Appaiah</td>\n      <td>1</td>\n      <td>Mon-1A-08:30:00-09:25:00 Thu-1C-10:35:00-11:30...</td>\n      <td>3</td>\n    </tr>\n    <tr>\n      <td>3</td>\n      <td>EE 328</td>\n      <td>Digital Communications</td>\n      <td>EE</td>\n      <td>S2</td>\n      <td>I - Merchant S N</td>\n      <td>1</td>\n      <td>Mon-1A-08:30:00-09:25:00 Thu-1C-10:35:00-11:30...</td>\n      <td>3</td>\n    </tr>\n    <tr>\n      <td>4</td>\n      <td>EE 719</td>\n      <td>Mixed-Signal VLSI Design</td>\n      <td>EE</td>\n      <td>NaN</td>\n      <td>I - Rajesh H. Zele</td>\n      <td>1</td>\n      <td>Mon-1A-08:30:00-09:25:00 Thu-1C-10:35:00-11:30...</td>\n      <td>7</td>\n    </tr>\n    <tr>\n      <td>5</td>\n      <td>EE 764</td>\n      <td>Wireless &amp; Mobile Communication</td>\n      <td>EE</td>\n      <td>NaN</td>\n      <td>I - P.Chaporkar</td>\n      <td>1</td>\n      <td>Mon-1A-08:30:00-09:25:00 Thu-1C-10:35:00-11:30...</td>\n      <td>7</td>\n    </tr>\n    <tr>\n      <td>6</td>\n      <td>EE 790</td>\n      <td>Solar Photovoltaics: Photons to Farms</td>\n      <td>EE</td>\n      <td>NaN</td>\n      <td>I - Pradeep R. Nair</td>\n      <td>1</td>\n      <td>Mon-1A-08:30:00-09:25:00 Thu-1C-10:35:00-11:30...</td>\n      <td>7</td>\n    </tr>\n    <tr>\n      <td>7</td>\n      <td>EE 238</td>\n      <td>Power Engineering - II</td>\n      <td>EE</td>\n      <td>S1</td>\n      <td>I - Chatterjee Kishore</td>\n      <td>2</td>\n      <td>Mon-2A-09:30:00-10:25:00 Thu-2C-11:35:00-12:30...</td>\n      <td>2</td>\n    </tr>\n    <tr>\n      <td>8</td>\n      <td>EE 238</td>\n      <td>Power Engineering - II</td>\n      <td>EE</td>\n      <td>S2</td>\n      <td>I - Anshuman Shukla</td>\n      <td>2</td>\n      <td>Mon-2A-09:30:00-10:25:00 Thu-2C-11:35:00-12:30...</td>\n      <td>2</td>\n    </tr>\n    <tr>\n      <td>9</td>\n      <td>EE 606</td>\n      <td>Fibre Optic Communications</td>\n      <td>EE</td>\n      <td>NaN</td>\n      <td>I - J.John</td>\n      <td>2</td>\n      <td>Mon-2A-09:30:00-10:25:00 Thu-2C-11:35:00-12:30...</td>\n      <td>6</td>\n    </tr>\n    <tr>\n      <td>10</td>\n      <td>EE 622</td>\n      <td>Optimal Control Systems</td>\n      <td>EE</td>\n      <td>NaN</td>\n      <td>I - Pillai Harish</td>\n      <td>2</td>\n      <td>Mon-2A-09:30:00-10:25:00 Thu-2C-11:35:00-12:30...</td>\n      <td>6</td>\n    </tr>\n    <tr>\n      <td>11</td>\n      <td>EE 654</td>\n      <td>Power Electronics - II</td>\n      <td>EE</td>\n      <td>NaN</td>\n      <td>I - M. Chandorkar</td>\n      <td>2</td>\n      <td>Mon-2A-09:30:00-10:25:00 Thu-2C-11:35:00-12:30...</td>\n      <td>6</td>\n    </tr>\n    <tr>\n      <td>12</td>\n      <td>EE 728</td>\n      <td>Growth and Characterization of Nano-electronic...</td>\n      <td>EE</td>\n      <td>NaN</td>\n      <td>I - S. Chakrabarti</td>\n      <td>2</td>\n      <td>Mon-2A-09:30:00-10:25:00 Thu-2C-11:35:00-12:30...</td>\n      <td>7</td>\n    </tr>\n    <tr>\n      <td>13</td>\n      <td>EE 302</td>\n      <td>Control Systems</td>\n      <td>EE</td>\n      <td>S1</td>\n      <td>I - M Belur</td>\n      <td>3</td>\n      <td>Mon-3A-10:35:00-11:30:00 Thu-3C-08:30:00-09:25...</td>\n      <td>3</td>\n    </tr>\n    <tr>\n      <td>14</td>\n      <td>EE 302</td>\n      <td>Control Systems</td>\n      <td>EE</td>\n      <td>S2</td>\n      <td>I - Debraj Chakraborty</td>\n      <td>3</td>\n      <td>Mon-3A-10:35:00-11:30:00 Thu-3C-08:30:00-09:25...</td>\n      <td>3</td>\n    </tr>\n    <tr>\n      <td>15</td>\n      <td>EE 302</td>\n      <td>Control Systems</td>\n      <td>EE</td>\n      <td>S3</td>\n      <td>I - Dwaipayan Mukherjee</td>\n      <td>3</td>\n      <td>Mon-3A-10:35:00-11:30:00 Thu-3C-08:30:00-09:25...</td>\n      <td>3</td>\n    </tr>\n    <tr>\n      <td>16</td>\n      <td>EE 302</td>\n      <td>Control Systems</td>\n      <td>EE</td>\n      <td>S4</td>\n      <td>I - Pillai Harish</td>\n      <td>3</td>\n      <td>Mon-3A-10:35:00-11:30:00 Thu-3C-08:30:00-09:25...</td>\n      <td>3</td>\n    </tr>\n    <tr>\n      <td>17</td>\n      <td>EE 625</td>\n      <td>Bio Sensors &amp; BioMEMS</td>\n      <td>EE</td>\n      <td>NaN</td>\n      <td>I - S. Duttagupta</td>\n      <td>3</td>\n      <td>Mon-3A-10:35:00-11:30:00 Thu-3C-08:30:00-09:25...</td>\n      <td>6</td>\n    </tr>\n    <tr>\n      <td>18</td>\n      <td>EE 636</td>\n      <td>Matrix Computations</td>\n      <td>EE</td>\n      <td>NaN</td>\n      <td>I - Debasattam Pal</td>\n      <td>3</td>\n      <td>Mon-3A-10:35:00-11:30:00 Thu-3C-08:30:00-09:25...</td>\n      <td>6</td>\n    </tr>\n    <tr>\n      <td>19</td>\n      <td>EE 701</td>\n      <td>Introduction to MEMS</td>\n      <td>EE</td>\n      <td>NaN</td>\n      <td>I - Siddharth Tallur</td>\n      <td>3</td>\n      <td>Mon-3A-10:35:00-11:30:00 Thu-3C-08:30:00-09:25...</td>\n      <td>7</td>\n    </tr>\n    <tr>\n      <td>20</td>\n      <td>EE 708</td>\n      <td>Information Theory &amp; Coding</td>\n      <td>EE</td>\n      <td>NaN</td>\n      <td>I - B.K.Dey</td>\n      <td>3</td>\n      <td>Mon-3A-10:35:00-11:30:00 Thu-3C-08:30:00-09:25...</td>\n      <td>7</td>\n    </tr>\n    <tr>\n      <td>21</td>\n      <td>EE 207</td>\n      <td>Electronic Devices &amp; Circuits</td>\n      <td>EE</td>\n      <td>S1</td>\n      <td>I - M. B. Patil</td>\n      <td>4</td>\n      <td>Mon-4A-11:35:00-12:30:00 Thu-4C-09:30:00-10:25...</td>\n      <td>2</td>\n    </tr>\n    <tr>\n      <td>22</td>\n      <td>EE 207</td>\n      <td>Electronic Devices &amp; Circuits</td>\n      <td>EE</td>\n      <td>S2</td>\n      <td>I - Dipankar Saha</td>\n      <td>4</td>\n      <td>Mon-4A-11:35:00-12:30:00 Thu-4C-09:30:00-10:25...</td>\n      <td>2</td>\n    </tr>\n    <tr>\n      <td>23</td>\n      <td>EE 334</td>\n      <td>Power Systems</td>\n      <td>EE</td>\n      <td>NaN</td>\n      <td>I - Kulkarni A.M.</td>\n      <td>4</td>\n      <td>Mon-4A-11:35:00-12:30:00 Thu-4C-09:30:00-10:25...</td>\n      <td>3</td>\n    </tr>\n    <tr>\n      <td>24</td>\n      <td>EE 739</td>\n      <td>Processor Design</td>\n      <td>EE</td>\n      <td>NaN</td>\n      <td>I - Virendra Singh</td>\n      <td>4</td>\n      <td>Mon-4A-11:35:00-12:30:00 Thu-4C-09:30:00-10:25...</td>\n      <td>7</td>\n    </tr>\n    <tr>\n      <td>25</td>\n      <td>EE 777</td>\n      <td>Network Security</td>\n      <td>EE</td>\n      <td>NaN</td>\n      <td>I - Gaurav S. Kasbekar</td>\n      <td>4</td>\n      <td>Mon-4A-11:35:00-12:30:00 Thu-4C-09:30:00-10:25...</td>\n      <td>7</td>\n    </tr>\n    <tr>\n      <td>26</td>\n      <td>EE 792</td>\n      <td>Communication Skills -II</td>\n      <td>EE</td>\n      <td>NaN</td>\n      <td>I - Narendra Shiradkar</td>\n      <td>4</td>\n      <td>Tue-4B-08:30:00-09:25:00</td>\n      <td>7</td>\n    </tr>\n  </tbody>\n</table>\n</div>"
     },
     "metadata": {},
     "execution_count": 5
    }
   ],
   "source": [
    "print(req_filt_values)\n",
    "df_filt"
   ]
  },
  {
   "cell_type": "code",
   "execution_count": null,
   "metadata": {},
   "outputs": [],
   "source": []
  }
 ]
}