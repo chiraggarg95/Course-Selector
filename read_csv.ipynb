{
 "metadata": {
  "language_info": {
   "codemirror_mode": {
    "name": "ipython",
    "version": 3
   },
   "file_extension": ".py",
   "mimetype": "text/x-python",
   "name": "python",
   "nbconvert_exporter": "python",
   "pygments_lexer": "ipython3",
   "version": "3.7.4-final"
  },
  "orig_nbformat": 2,
  "kernelspec": {
   "name": "python3",
   "display_name": "Python 3",
   "language": "python"
  }
 },
 "nbformat": 4,
 "nbformat_minor": 2,
 "cells": [
  {
   "cell_type": "code",
   "execution_count": 256,
   "metadata": {},
   "outputs": [],
   "source": [
    "import pandas as pd\n",
    "import numpy as np"
   ]
  },
  {
   "cell_type": "code",
   "execution_count": 257,
   "metadata": {},
   "outputs": [],
   "source": [
    "df = pd.read_csv('HS_courses.csv', encoding='cp1252')\n"
   ]
  },
  {
   "cell_type": "code",
   "execution_count": 258,
   "metadata": {},
   "outputs": [
    {
     "output_type": "execute_result",
     "data": {
      "text/plain": [
       "(305, 25)"
      ]
     },
     "metadata": {},
     "execution_count": 258
    }
   ],
   "source": [
    "df.shape"
   ]
  },
  {
   "cell_type": "code",
   "execution_count": 259,
   "metadata": {},
   "outputs": [
    {
     "output_type": "execute_result",
     "data": {
      "text/plain": [
       "Index(['Sr no.', 'Type', 'Course Code', 'Course Name', 'Instructor(s)',\n",
       "       'Venue', 'Slot', 'Division', 'Biometric Attendance Enabled?',\n",
       "       'Registration Limit', 'Restrictions', 'Unnamed: 11', 'Unnamed: 12',\n",
       "       'Unnamed: 13', 'Unnamed: 14', 'Unnamed: 15', 'Unnamed: 16',\n",
       "       'Division.1', 'Unnamed: 18', 'Unnamed: 19', 'Unnamed: 20',\n",
       "       'Unnamed: 21', 'Unnamed: 22', 'Unnamed: 23', 'Unnamed: 24'],\n",
       "      dtype='object')"
      ]
     },
     "metadata": {},
     "execution_count": 259
    }
   ],
   "source": [
    "df.columns"
   ]
  },
  {
   "cell_type": "code",
   "execution_count": 260,
   "metadata": {},
   "outputs": [
    {
     "output_type": "execute_result",
     "data": {
      "text/plain": [
       "297"
      ]
     },
     "metadata": {},
     "execution_count": 260
    }
   ],
   "source": [
    "df.isna().sum()[df.columns[7]]"
   ]
  },
  {
   "cell_type": "code",
   "execution_count": 261,
   "metadata": {},
   "outputs": [
    {
     "output_type": "stream",
     "name": "stdout",
     "text": [
      "Biometric Attendance Enabled? will be dropped\nUnnamed: 11 will be dropped\nUnnamed: 12 will be dropped\nUnnamed: 13 will be dropped\nUnnamed: 14 will be dropped\nUnnamed: 15 will be dropped\nUnnamed: 16 will be dropped\nUnnamed: 18 will be dropped\nUnnamed: 19 will be dropped\nUnnamed: 20 will be dropped\nUnnamed: 21 will be dropped\nUnnamed: 22 will be dropped\nUnnamed: 23 will be dropped\nUnnamed: 24 will be dropped\n"
     ]
    }
   ],
   "source": [
    "to_be_dropped = []\n",
    "for col in df.columns:\n",
    "    # print('start')\n",
    "    if (df.isna().sum()[col]==df.shape[0]):\n",
    "        to_be_dropped.append(col)\n",
    "        print(col+' will be dropped')"
   ]
  },
  {
   "cell_type": "code",
   "execution_count": null,
   "metadata": {},
   "outputs": [],
   "source": []
  },
  {
   "cell_type": "code",
   "execution_count": 215,
   "metadata": {},
   "outputs": [],
   "source": [
    "df = df.drop(columns=to_be_dropped)"
   ]
  },
  {
   "cell_type": "code",
   "execution_count": 216,
   "metadata": {},
   "outputs": [
    {
     "output_type": "execute_result",
     "data": {
      "text/plain": [
       "(365, 11)"
      ]
     },
     "metadata": {},
     "execution_count": 216
    }
   ],
   "source": [
    "df.shape"
   ]
  },
  {
   "cell_type": "code",
   "execution_count": 217,
   "metadata": {},
   "outputs": [
    {
     "output_type": "execute_result",
     "data": {
      "text/plain": [
       "10"
      ]
     },
     "metadata": {},
     "execution_count": 217
    }
   ],
   "source": [
    "(df.isna().sum(axis=1))[df.index[0]]"
   ]
  },
  {
   "cell_type": "code",
   "execution_count": 218,
   "metadata": {},
   "outputs": [
    {
     "output_type": "stream",
     "name": "stdout",
     "text": [
      "Row number 3 will be dropped\n",
      "Row number 7 will be dropped\n",
      "Row number 8 will be dropped\n",
      "Row number 9 will be dropped\n",
      "Row number 10 will be dropped\n",
      "Row number 11 will be dropped\n",
      "Row number 12 will be dropped\n",
      "Row number 13 will be dropped\n",
      "Row number 14 will be dropped\n",
      "Row number 15 will be dropped\n",
      "Row number 16 will be dropped\n",
      "Row number 17 will be dropped\n",
      "Row number 18 will be dropped\n",
      "Row number 21 will be dropped\n",
      "Row number 25 will be dropped\n",
      "Row number 26 will be dropped\n",
      "Row number 27 will be dropped\n",
      "Row number 28 will be dropped\n",
      "Row number 29 will be dropped\n",
      "Row number 30 will be dropped\n",
      "Row number 31 will be dropped\n",
      "Row number 32 will be dropped\n",
      "Row number 33 will be dropped\n",
      "Row number 34 will be dropped\n",
      "Row number 35 will be dropped\n",
      "Row number 36 will be dropped\n",
      "Row number 39 will be dropped\n",
      "Row number 43 will be dropped\n",
      "Row number 44 will be dropped\n",
      "Row number 45 will be dropped\n",
      "Row number 46 will be dropped\n",
      "Row number 47 will be dropped\n",
      "Row number 48 will be dropped\n",
      "Row number 49 will be dropped\n",
      "Row number 50 will be dropped\n",
      "Row number 51 will be dropped\n",
      "Row number 52 will be dropped\n",
      "Row number 53 will be dropped\n",
      "Row number 54 will be dropped\n",
      "Row number 61 will be dropped\n",
      "Row number 62 will be dropped\n",
      "Row number 63 will be dropped\n",
      "Row number 64 will be dropped\n",
      "Row number 65 will be dropped\n",
      "Row number 66 will be dropped\n",
      "Row number 67 will be dropped\n",
      "Row number 68 will be dropped\n",
      "Row number 75 will be dropped\n",
      "Row number 76 will be dropped\n",
      "Row number 77 will be dropped\n",
      "Row number 78 will be dropped\n",
      "Row number 79 will be dropped\n",
      "Row number 80 will be dropped\n",
      "Row number 81 will be dropped\n",
      "Row number 82 will be dropped\n",
      "Row number 85 will be dropped\n",
      "Row number 88 will be dropped\n",
      "Row number 90 will be dropped\n",
      "Row number 91 will be dropped\n",
      "Row number 94 will be dropped\n",
      "Row number 96 will be dropped\n",
      "Row number 97 will be dropped\n",
      "Row number 100 will be dropped\n",
      "Row number 102 will be dropped\n",
      "Row number 103 will be dropped\n",
      "Row number 106 will be dropped\n",
      "Row number 108 will be dropped\n",
      "Row number 109 will be dropped\n",
      "Row number 114 will be dropped\n",
      "Row number 115 will be dropped\n",
      "Row number 120 will be dropped\n",
      "Row number 121 will be dropped\n",
      "Row number 144 will be dropped\n",
      "Row number 145 will be dropped\n",
      "Row number 148 will be dropped\n",
      "Row number 150 will be dropped\n",
      "Row number 151 will be dropped\n",
      "Row number 156 will be dropped\n",
      "Row number 157 will be dropped\n",
      "Row number 162 will be dropped\n",
      "Row number 163 will be dropped\n",
      "Row number 166 will be dropped\n",
      "Row number 169 will be dropped\n",
      "Row number 172 will be dropped\n",
      "Row number 174 will be dropped\n",
      "Row number 175 will be dropped\n",
      "Row number 178 will be dropped\n",
      "Row number 180 will be dropped\n",
      "Row number 181 will be dropped\n",
      "Row number 186 will be dropped\n",
      "Row number 187 will be dropped\n",
      "Row number 191 will be dropped\n",
      "Row number 192 will be dropped\n",
      "Row number 196 will be dropped\n",
      "Row number 197 will be dropped\n",
      "Row number 201 will be dropped\n",
      "Row number 202 will be dropped\n",
      "Row number 207 will be dropped\n",
      "Row number 208 will be dropped\n",
      "Row number 213 will be dropped\n",
      "Row number 214 will be dropped\n",
      "Row number 219 will be dropped\n",
      "Row number 220 will be dropped\n",
      "Row number 223 will be dropped\n",
      "Row number 225 will be dropped\n",
      "Row number 226 will be dropped\n",
      "Row number 231 will be dropped\n",
      "Row number 232 will be dropped\n",
      "Row number 237 will be dropped\n",
      "Row number 238 will be dropped\n",
      "Row number 243 will be dropped\n",
      "Row number 245 will be dropped\n",
      "Row number 246 will be dropped\n",
      "Row number 249 will be dropped\n",
      "Row number 251 will be dropped\n",
      "Row number 252 will be dropped\n",
      "Row number 255 will be dropped\n",
      "Row number 257 will be dropped\n",
      "Row number 258 will be dropped\n",
      "Row number 261 will be dropped\n",
      "Row number 263 will be dropped\n",
      "Row number 264 will be dropped\n",
      "Row number 267 will be dropped\n",
      "Row number 270 will be dropped\n",
      "Row number 274 will be dropped\n",
      "Row number 275 will be dropped\n",
      "Row number 283 will be dropped\n",
      "Row number 284 will be dropped\n",
      "Row number 285 will be dropped\n",
      "Row number 286 will be dropped\n",
      "Row number 289 will be dropped\n",
      "Row number 293 will be dropped\n",
      "Row number 294 will be dropped\n",
      "Row number 298 will be dropped\n",
      "Row number 299 will be dropped\n",
      "Row number 300 will be dropped\n",
      "Row number 301 will be dropped\n",
      "Row number 303 will be dropped\n",
      "Row number 305 will be dropped\n",
      "Row number 307 will be dropped\n",
      "Row number 309 will be dropped\n",
      "Row number 310 will be dropped\n",
      "Row number 314 will be dropped\n",
      "Row number 316 will be dropped\n",
      "Row number 324 will be dropped\n",
      "Row number 325 will be dropped\n",
      "Row number 329 will be dropped\n",
      "Row number 330 will be dropped\n",
      "Row number 334 will be dropped\n",
      "Row number 335 will be dropped\n",
      "Row number 339 will be dropped\n",
      "Row number 340 will be dropped\n",
      "Row number 344 will be dropped\n",
      "Row number 345 will be dropped\n",
      "Row number 349 will be dropped\n",
      "Row number 350 will be dropped\n",
      "Row number 354 will be dropped\n",
      "Row number 355 will be dropped\n",
      "Row number 359 will be dropped\n",
      "Row number 360 will be dropped\n",
      "Row number 364 will be dropped\n"
     ]
    }
   ],
   "source": [
    "row_toBe_dropped = []\n",
    "for row in df.index:\n",
    "    if (df.isna().sum(axis=1)[row]==11):\n",
    "        row_toBe_dropped.append(row)\n",
    "        print('Row number ' + str(row) + ' will be dropped')\n"
   ]
  },
  {
   "cell_type": "code",
   "execution_count": 219,
   "metadata": {},
   "outputs": [],
   "source": [
    "df=df.drop(row_toBe_dropped)"
   ]
  },
  {
   "cell_type": "code",
   "execution_count": 220,
   "metadata": {},
   "outputs": [
    {
     "output_type": "execute_result",
     "data": {
      "text/plain": [
       "(204, 11)"
      ]
     },
     "metadata": {},
     "execution_count": 220
    }
   ],
   "source": [
    "df.shape"
   ]
  },
  {
   "cell_type": "code",
   "execution_count": 221,
   "metadata": {},
   "outputs": [
    {
     "output_type": "execute_result",
     "data": {
      "text/plain": [
       "Index(['Sr no.', 'Type', 'Course Code', 'Course Name', 'Instructor(s)',\n",
       "       'Venue', 'Slot', 'Division', 'Registration Limit', 'Restrictions',\n",
       "       'Division.1'],\n",
       "      dtype='object')"
      ]
     },
     "metadata": {},
     "execution_count": 221
    }
   ],
   "source": [
    "df.columns"
   ]
  },
  {
   "cell_type": "code",
   "execution_count": 222,
   "metadata": {},
   "outputs": [
    {
     "output_type": "execute_result",
     "data": {
      "text/plain": [
       "     Sr no.       Type Course Code                    Course Name  \\\n",
       "0       NaN        NaN         NaN                            NaN   \n",
       "1       1.0  timetable      HS 101                      Economics   \n",
       "2       NaN        NaN         NaN                            NaN   \n",
       "4       NaN        NaN         NaN                            NaN   \n",
       "5       NaN        NaN         NaN                            NaN   \n",
       "..      ...        ...         ...                            ...   \n",
       "357     NaN        NaN         NaN                            NaN   \n",
       "358    58.0  timetable      HS 849  Theories of Human Development   \n",
       "361     NaN        NaN         NaN                            NaN   \n",
       "362     NaN        NaN         NaN                            NaN   \n",
       "363    59.0  timetable      HSS801                        Seminar   \n",
       "\n",
       "               Instructor(s) Venue                       Slot Division  \\\n",
       "0                        NaN   NaN                        NaN      NaN   \n",
       "1            A - Pooja Padhi                                2       S1   \n",
       "2    I - Haripriya Gundimeda   NaN                        NaN      NaN   \n",
       "4                        NaN   NaN   Mon-2A-09:30:00-10:25:00      NaN   \n",
       "5                        NaN   NaN   Thu-2C-11:35:00-12:30:00      NaN   \n",
       "..                       ...   ...                        ...      ...   \n",
       "357                      NaN   NaN  Tue-11A-15:30:00-16:55:00      NaN   \n",
       "358    I - Mrinmoyi Kulkarni                               12      NaN   \n",
       "361                      NaN   NaN  Mon-12A-17:30:00-18:55:00      NaN   \n",
       "362                      NaN   NaN  Thu-12B-17:30:00-18:55:00      NaN   \n",
       "363         I - Ramesh Bairy                              NaN      NaN   \n",
       "\n",
       "    Registration Limit Restrictions  Division.1  \n",
       "0                  NaN          NaN  Definition  \n",
       "1                    0          NaN        View  \n",
       "2                  NaN          NaN         NaN  \n",
       "4                  NaN          NaN         NaN  \n",
       "5                  NaN          NaN         NaN  \n",
       "..                 ...          ...         ...  \n",
       "357                NaN          NaN         NaN  \n",
       "358                  0          NaN         NaN  \n",
       "361                NaN          NaN         NaN  \n",
       "362                NaN          NaN         NaN  \n",
       "363                  0          NaN         NaN  \n",
       "\n",
       "[204 rows x 11 columns]"
      ],
      "text/html": "<div>\n<style scoped>\n    .dataframe tbody tr th:only-of-type {\n        vertical-align: middle;\n    }\n\n    .dataframe tbody tr th {\n        vertical-align: top;\n    }\n\n    .dataframe thead th {\n        text-align: right;\n    }\n</style>\n<table border=\"1\" class=\"dataframe\">\n  <thead>\n    <tr style=\"text-align: right;\">\n      <th></th>\n      <th>Sr no.</th>\n      <th>Type</th>\n      <th>Course Code</th>\n      <th>Course Name</th>\n      <th>Instructor(s)</th>\n      <th>Venue</th>\n      <th>Slot</th>\n      <th>Division</th>\n      <th>Registration Limit</th>\n      <th>Restrictions</th>\n      <th>Division.1</th>\n    </tr>\n  </thead>\n  <tbody>\n    <tr>\n      <td>0</td>\n      <td>NaN</td>\n      <td>NaN</td>\n      <td>NaN</td>\n      <td>NaN</td>\n      <td>NaN</td>\n      <td>NaN</td>\n      <td>NaN</td>\n      <td>NaN</td>\n      <td>NaN</td>\n      <td>NaN</td>\n      <td>Definition</td>\n    </tr>\n    <tr>\n      <td>1</td>\n      <td>1.0</td>\n      <td>timetable</td>\n      <td>HS 101</td>\n      <td>Economics</td>\n      <td>A - Pooja Padhi</td>\n      <td></td>\n      <td>2</td>\n      <td>S1</td>\n      <td>0</td>\n      <td>NaN</td>\n      <td>View</td>\n    </tr>\n    <tr>\n      <td>2</td>\n      <td>NaN</td>\n      <td>NaN</td>\n      <td>NaN</td>\n      <td>NaN</td>\n      <td>I - Haripriya Gundimeda</td>\n      <td>NaN</td>\n      <td>NaN</td>\n      <td>NaN</td>\n      <td>NaN</td>\n      <td>NaN</td>\n      <td>NaN</td>\n    </tr>\n    <tr>\n      <td>4</td>\n      <td>NaN</td>\n      <td>NaN</td>\n      <td>NaN</td>\n      <td>NaN</td>\n      <td>NaN</td>\n      <td>NaN</td>\n      <td>Mon-2A-09:30:00-10:25:00</td>\n      <td>NaN</td>\n      <td>NaN</td>\n      <td>NaN</td>\n      <td>NaN</td>\n    </tr>\n    <tr>\n      <td>5</td>\n      <td>NaN</td>\n      <td>NaN</td>\n      <td>NaN</td>\n      <td>NaN</td>\n      <td>NaN</td>\n      <td>NaN</td>\n      <td>Thu-2C-11:35:00-12:30:00</td>\n      <td>NaN</td>\n      <td>NaN</td>\n      <td>NaN</td>\n      <td>NaN</td>\n    </tr>\n    <tr>\n      <td>...</td>\n      <td>...</td>\n      <td>...</td>\n      <td>...</td>\n      <td>...</td>\n      <td>...</td>\n      <td>...</td>\n      <td>...</td>\n      <td>...</td>\n      <td>...</td>\n      <td>...</td>\n      <td>...</td>\n    </tr>\n    <tr>\n      <td>357</td>\n      <td>NaN</td>\n      <td>NaN</td>\n      <td>NaN</td>\n      <td>NaN</td>\n      <td>NaN</td>\n      <td>NaN</td>\n      <td>Tue-11A-15:30:00-16:55:00</td>\n      <td>NaN</td>\n      <td>NaN</td>\n      <td>NaN</td>\n      <td>NaN</td>\n    </tr>\n    <tr>\n      <td>358</td>\n      <td>58.0</td>\n      <td>timetable</td>\n      <td>HS 849</td>\n      <td>Theories of Human Development</td>\n      <td>I - Mrinmoyi Kulkarni</td>\n      <td></td>\n      <td>12</td>\n      <td>NaN</td>\n      <td>0</td>\n      <td>NaN</td>\n      <td>NaN</td>\n    </tr>\n    <tr>\n      <td>361</td>\n      <td>NaN</td>\n      <td>NaN</td>\n      <td>NaN</td>\n      <td>NaN</td>\n      <td>NaN</td>\n      <td>NaN</td>\n      <td>Mon-12A-17:30:00-18:55:00</td>\n      <td>NaN</td>\n      <td>NaN</td>\n      <td>NaN</td>\n      <td>NaN</td>\n    </tr>\n    <tr>\n      <td>362</td>\n      <td>NaN</td>\n      <td>NaN</td>\n      <td>NaN</td>\n      <td>NaN</td>\n      <td>NaN</td>\n      <td>NaN</td>\n      <td>Thu-12B-17:30:00-18:55:00</td>\n      <td>NaN</td>\n      <td>NaN</td>\n      <td>NaN</td>\n      <td>NaN</td>\n    </tr>\n    <tr>\n      <td>363</td>\n      <td>59.0</td>\n      <td>timetable</td>\n      <td>HSS801</td>\n      <td>Seminar</td>\n      <td>I - Ramesh Bairy</td>\n      <td></td>\n      <td>NaN</td>\n      <td>NaN</td>\n      <td>0</td>\n      <td>NaN</td>\n      <td>NaN</td>\n    </tr>\n  </tbody>\n</table>\n<p>204 rows × 11 columns</p>\n</div>"
     },
     "metadata": {},
     "execution_count": 222
    }
   ],
   "source": [
    "df"
   ]
  },
  {
   "cell_type": "code",
   "execution_count": 223,
   "metadata": {},
   "outputs": [
    {
     "output_type": "execute_result",
     "data": {
      "text/plain": [
       "    Sr no.       Type Course Code Course Name             Instructor(s) Venue  \\\n",
       "0      NaN        NaN         NaN         NaN                       NaN   NaN   \n",
       "1      1.0  timetable      HS 101   Economics           A - Pooja Padhi         \n",
       "2      NaN        NaN         NaN         NaN   I - Haripriya Gundimeda   NaN   \n",
       "4      NaN        NaN         NaN         NaN                       NaN   NaN   \n",
       "5      NaN        NaN         NaN         NaN                       NaN   NaN   \n",
       "6      NaN        NaN         NaN         NaN                       NaN   NaN   \n",
       "19     2.0  timetable      HS 101   Economics  A - Surajit Bhattacharya         \n",
       "20     NaN        NaN         NaN         NaN          I - Narayanan K.   NaN   \n",
       "22     NaN        NaN         NaN         NaN                       NaN   NaN   \n",
       "23     NaN        NaN         NaN         NaN                       NaN   NaN   \n",
       "24     NaN        NaN         NaN         NaN                       NaN   NaN   \n",
       "37     3.0  timetable      HS 101   Economics          A - Tara S. Shaw         \n",
       "38     NaN        NaN         NaN         NaN        I - Trivedi Pushpa   NaN   \n",
       "40     NaN        NaN         NaN         NaN                       NaN   NaN   \n",
       "41     NaN        NaN         NaN         NaN                       NaN   NaN   \n",
       "\n",
       "                        Slot Division Registration Limit Restrictions  \\\n",
       "0                        NaN      NaN                NaN          NaN   \n",
       "1                          2       S1                  0          NaN   \n",
       "2                        NaN      NaN                NaN          NaN   \n",
       "4   Mon-2A-09:30:00-10:25:00      NaN                NaN          NaN   \n",
       "5   Thu-2C-11:35:00-12:30:00      NaN                NaN          NaN   \n",
       "6   Tue-2B-10:35:00-11:30:00      NaN                NaN          NaN   \n",
       "19                         2       S2                  0          NaN   \n",
       "20                       NaN      NaN                NaN          NaN   \n",
       "22  Mon-2A-09:30:00-10:25:00      NaN                NaN          NaN   \n",
       "23  Thu-2C-11:35:00-12:30:00      NaN                NaN          NaN   \n",
       "24  Tue-2B-10:35:00-11:30:00      NaN                NaN          NaN   \n",
       "37                         2       S3                  0          NaN   \n",
       "38                       NaN      NaN                NaN          NaN   \n",
       "40  Mon-2A-09:30:00-10:25:00      NaN                NaN          NaN   \n",
       "41  Thu-2C-11:35:00-12:30:00      NaN                NaN          NaN   \n",
       "\n",
       "    Division.1  \n",
       "0   Definition  \n",
       "1         View  \n",
       "2          NaN  \n",
       "4          NaN  \n",
       "5          NaN  \n",
       "6          NaN  \n",
       "19        View  \n",
       "20         NaN  \n",
       "22         NaN  \n",
       "23         NaN  \n",
       "24         NaN  \n",
       "37        View  \n",
       "38         NaN  \n",
       "40         NaN  \n",
       "41         NaN  "
      ],
      "text/html": "<div>\n<style scoped>\n    .dataframe tbody tr th:only-of-type {\n        vertical-align: middle;\n    }\n\n    .dataframe tbody tr th {\n        vertical-align: top;\n    }\n\n    .dataframe thead th {\n        text-align: right;\n    }\n</style>\n<table border=\"1\" class=\"dataframe\">\n  <thead>\n    <tr style=\"text-align: right;\">\n      <th></th>\n      <th>Sr no.</th>\n      <th>Type</th>\n      <th>Course Code</th>\n      <th>Course Name</th>\n      <th>Instructor(s)</th>\n      <th>Venue</th>\n      <th>Slot</th>\n      <th>Division</th>\n      <th>Registration Limit</th>\n      <th>Restrictions</th>\n      <th>Division.1</th>\n    </tr>\n  </thead>\n  <tbody>\n    <tr>\n      <td>0</td>\n      <td>NaN</td>\n      <td>NaN</td>\n      <td>NaN</td>\n      <td>NaN</td>\n      <td>NaN</td>\n      <td>NaN</td>\n      <td>NaN</td>\n      <td>NaN</td>\n      <td>NaN</td>\n      <td>NaN</td>\n      <td>Definition</td>\n    </tr>\n    <tr>\n      <td>1</td>\n      <td>1.0</td>\n      <td>timetable</td>\n      <td>HS 101</td>\n      <td>Economics</td>\n      <td>A - Pooja Padhi</td>\n      <td></td>\n      <td>2</td>\n      <td>S1</td>\n      <td>0</td>\n      <td>NaN</td>\n      <td>View</td>\n    </tr>\n    <tr>\n      <td>2</td>\n      <td>NaN</td>\n      <td>NaN</td>\n      <td>NaN</td>\n      <td>NaN</td>\n      <td>I - Haripriya Gundimeda</td>\n      <td>NaN</td>\n      <td>NaN</td>\n      <td>NaN</td>\n      <td>NaN</td>\n      <td>NaN</td>\n      <td>NaN</td>\n    </tr>\n    <tr>\n      <td>4</td>\n      <td>NaN</td>\n      <td>NaN</td>\n      <td>NaN</td>\n      <td>NaN</td>\n      <td>NaN</td>\n      <td>NaN</td>\n      <td>Mon-2A-09:30:00-10:25:00</td>\n      <td>NaN</td>\n      <td>NaN</td>\n      <td>NaN</td>\n      <td>NaN</td>\n    </tr>\n    <tr>\n      <td>5</td>\n      <td>NaN</td>\n      <td>NaN</td>\n      <td>NaN</td>\n      <td>NaN</td>\n      <td>NaN</td>\n      <td>NaN</td>\n      <td>Thu-2C-11:35:00-12:30:00</td>\n      <td>NaN</td>\n      <td>NaN</td>\n      <td>NaN</td>\n      <td>NaN</td>\n    </tr>\n    <tr>\n      <td>6</td>\n      <td>NaN</td>\n      <td>NaN</td>\n      <td>NaN</td>\n      <td>NaN</td>\n      <td>NaN</td>\n      <td>NaN</td>\n      <td>Tue-2B-10:35:00-11:30:00</td>\n      <td>NaN</td>\n      <td>NaN</td>\n      <td>NaN</td>\n      <td>NaN</td>\n    </tr>\n    <tr>\n      <td>19</td>\n      <td>2.0</td>\n      <td>timetable</td>\n      <td>HS 101</td>\n      <td>Economics</td>\n      <td>A - Surajit Bhattacharya</td>\n      <td></td>\n      <td>2</td>\n      <td>S2</td>\n      <td>0</td>\n      <td>NaN</td>\n      <td>View</td>\n    </tr>\n    <tr>\n      <td>20</td>\n      <td>NaN</td>\n      <td>NaN</td>\n      <td>NaN</td>\n      <td>NaN</td>\n      <td>I - Narayanan K.</td>\n      <td>NaN</td>\n      <td>NaN</td>\n      <td>NaN</td>\n      <td>NaN</td>\n      <td>NaN</td>\n      <td>NaN</td>\n    </tr>\n    <tr>\n      <td>22</td>\n      <td>NaN</td>\n      <td>NaN</td>\n      <td>NaN</td>\n      <td>NaN</td>\n      <td>NaN</td>\n      <td>NaN</td>\n      <td>Mon-2A-09:30:00-10:25:00</td>\n      <td>NaN</td>\n      <td>NaN</td>\n      <td>NaN</td>\n      <td>NaN</td>\n    </tr>\n    <tr>\n      <td>23</td>\n      <td>NaN</td>\n      <td>NaN</td>\n      <td>NaN</td>\n      <td>NaN</td>\n      <td>NaN</td>\n      <td>NaN</td>\n      <td>Thu-2C-11:35:00-12:30:00</td>\n      <td>NaN</td>\n      <td>NaN</td>\n      <td>NaN</td>\n      <td>NaN</td>\n    </tr>\n    <tr>\n      <td>24</td>\n      <td>NaN</td>\n      <td>NaN</td>\n      <td>NaN</td>\n      <td>NaN</td>\n      <td>NaN</td>\n      <td>NaN</td>\n      <td>Tue-2B-10:35:00-11:30:00</td>\n      <td>NaN</td>\n      <td>NaN</td>\n      <td>NaN</td>\n      <td>NaN</td>\n    </tr>\n    <tr>\n      <td>37</td>\n      <td>3.0</td>\n      <td>timetable</td>\n      <td>HS 101</td>\n      <td>Economics</td>\n      <td>A - Tara S. Shaw</td>\n      <td></td>\n      <td>2</td>\n      <td>S3</td>\n      <td>0</td>\n      <td>NaN</td>\n      <td>View</td>\n    </tr>\n    <tr>\n      <td>38</td>\n      <td>NaN</td>\n      <td>NaN</td>\n      <td>NaN</td>\n      <td>NaN</td>\n      <td>I - Trivedi Pushpa</td>\n      <td>NaN</td>\n      <td>NaN</td>\n      <td>NaN</td>\n      <td>NaN</td>\n      <td>NaN</td>\n      <td>NaN</td>\n    </tr>\n    <tr>\n      <td>40</td>\n      <td>NaN</td>\n      <td>NaN</td>\n      <td>NaN</td>\n      <td>NaN</td>\n      <td>NaN</td>\n      <td>NaN</td>\n      <td>Mon-2A-09:30:00-10:25:00</td>\n      <td>NaN</td>\n      <td>NaN</td>\n      <td>NaN</td>\n      <td>NaN</td>\n    </tr>\n    <tr>\n      <td>41</td>\n      <td>NaN</td>\n      <td>NaN</td>\n      <td>NaN</td>\n      <td>NaN</td>\n      <td>NaN</td>\n      <td>NaN</td>\n      <td>Thu-2C-11:35:00-12:30:00</td>\n      <td>NaN</td>\n      <td>NaN</td>\n      <td>NaN</td>\n      <td>NaN</td>\n    </tr>\n  </tbody>\n</table>\n</div>"
     },
     "metadata": {},
     "execution_count": 223
    }
   ],
   "source": [
    "df.head(15)"
   ]
  },
  {
   "cell_type": "code",
   "execution_count": 224,
   "metadata": {},
   "outputs": [
    {
     "output_type": "execute_result",
     "data": {
      "text/plain": [
       "     Sr no.       Type Course Code                    Course Name  \\\n",
       "0       NaN        NaN         NaN                            NaN   \n",
       "1       1.0  timetable      HS 101                      Economics   \n",
       "2       NaN        NaN         NaN                            NaN   \n",
       "4       NaN        NaN         NaN                            NaN   \n",
       "5       NaN        NaN         NaN                            NaN   \n",
       "..      ...        ...         ...                            ...   \n",
       "357     NaN        NaN         NaN                            NaN   \n",
       "358    58.0  timetable      HS 849  Theories of Human Development   \n",
       "361     NaN        NaN         NaN                            NaN   \n",
       "362     NaN        NaN         NaN                            NaN   \n",
       "363    59.0  timetable      HSS801                        Seminar   \n",
       "\n",
       "               Instructor(s) Venue                       Slot Division  \\\n",
       "0                        NaN   NaN                        NaN      NaN   \n",
       "1            A - Pooja Padhi                                2       S1   \n",
       "2    I - Haripriya Gundimeda   NaN                        NaN      NaN   \n",
       "4                        NaN   NaN   Mon-2A-09:30:00-10:25:00      NaN   \n",
       "5                        NaN   NaN   Thu-2C-11:35:00-12:30:00      NaN   \n",
       "..                       ...   ...                        ...      ...   \n",
       "357                      NaN   NaN  Tue-11A-15:30:00-16:55:00      NaN   \n",
       "358    I - Mrinmoyi Kulkarni                               12      NaN   \n",
       "361                      NaN   NaN  Mon-12A-17:30:00-18:55:00      NaN   \n",
       "362                      NaN   NaN  Thu-12B-17:30:00-18:55:00      NaN   \n",
       "363         I - Ramesh Bairy                              NaN      NaN   \n",
       "\n",
       "    Registration Limit Restrictions  Division.1  \n",
       "0                  NaN          NaN  Definition  \n",
       "1                    0          NaN        View  \n",
       "2                  NaN          NaN         NaN  \n",
       "4                  NaN          NaN         NaN  \n",
       "5                  NaN          NaN         NaN  \n",
       "..                 ...          ...         ...  \n",
       "357                NaN          NaN         NaN  \n",
       "358                  0          NaN         NaN  \n",
       "361                NaN          NaN         NaN  \n",
       "362                NaN          NaN         NaN  \n",
       "363                  0          NaN         NaN  \n",
       "\n",
       "[204 rows x 11 columns]"
      ],
      "text/html": "<div>\n<style scoped>\n    .dataframe tbody tr th:only-of-type {\n        vertical-align: middle;\n    }\n\n    .dataframe tbody tr th {\n        vertical-align: top;\n    }\n\n    .dataframe thead th {\n        text-align: right;\n    }\n</style>\n<table border=\"1\" class=\"dataframe\">\n  <thead>\n    <tr style=\"text-align: right;\">\n      <th></th>\n      <th>Sr no.</th>\n      <th>Type</th>\n      <th>Course Code</th>\n      <th>Course Name</th>\n      <th>Instructor(s)</th>\n      <th>Venue</th>\n      <th>Slot</th>\n      <th>Division</th>\n      <th>Registration Limit</th>\n      <th>Restrictions</th>\n      <th>Division.1</th>\n    </tr>\n  </thead>\n  <tbody>\n    <tr>\n      <td>0</td>\n      <td>NaN</td>\n      <td>NaN</td>\n      <td>NaN</td>\n      <td>NaN</td>\n      <td>NaN</td>\n      <td>NaN</td>\n      <td>NaN</td>\n      <td>NaN</td>\n      <td>NaN</td>\n      <td>NaN</td>\n      <td>Definition</td>\n    </tr>\n    <tr>\n      <td>1</td>\n      <td>1.0</td>\n      <td>timetable</td>\n      <td>HS 101</td>\n      <td>Economics</td>\n      <td>A - Pooja Padhi</td>\n      <td></td>\n      <td>2</td>\n      <td>S1</td>\n      <td>0</td>\n      <td>NaN</td>\n      <td>View</td>\n    </tr>\n    <tr>\n      <td>2</td>\n      <td>NaN</td>\n      <td>NaN</td>\n      <td>NaN</td>\n      <td>NaN</td>\n      <td>I - Haripriya Gundimeda</td>\n      <td>NaN</td>\n      <td>NaN</td>\n      <td>NaN</td>\n      <td>NaN</td>\n      <td>NaN</td>\n      <td>NaN</td>\n    </tr>\n    <tr>\n      <td>4</td>\n      <td>NaN</td>\n      <td>NaN</td>\n      <td>NaN</td>\n      <td>NaN</td>\n      <td>NaN</td>\n      <td>NaN</td>\n      <td>Mon-2A-09:30:00-10:25:00</td>\n      <td>NaN</td>\n      <td>NaN</td>\n      <td>NaN</td>\n      <td>NaN</td>\n    </tr>\n    <tr>\n      <td>5</td>\n      <td>NaN</td>\n      <td>NaN</td>\n      <td>NaN</td>\n      <td>NaN</td>\n      <td>NaN</td>\n      <td>NaN</td>\n      <td>Thu-2C-11:35:00-12:30:00</td>\n      <td>NaN</td>\n      <td>NaN</td>\n      <td>NaN</td>\n      <td>NaN</td>\n    </tr>\n    <tr>\n      <td>...</td>\n      <td>...</td>\n      <td>...</td>\n      <td>...</td>\n      <td>...</td>\n      <td>...</td>\n      <td>...</td>\n      <td>...</td>\n      <td>...</td>\n      <td>...</td>\n      <td>...</td>\n      <td>...</td>\n    </tr>\n    <tr>\n      <td>357</td>\n      <td>NaN</td>\n      <td>NaN</td>\n      <td>NaN</td>\n      <td>NaN</td>\n      <td>NaN</td>\n      <td>NaN</td>\n      <td>Tue-11A-15:30:00-16:55:00</td>\n      <td>NaN</td>\n      <td>NaN</td>\n      <td>NaN</td>\n      <td>NaN</td>\n    </tr>\n    <tr>\n      <td>358</td>\n      <td>58.0</td>\n      <td>timetable</td>\n      <td>HS 849</td>\n      <td>Theories of Human Development</td>\n      <td>I - Mrinmoyi Kulkarni</td>\n      <td></td>\n      <td>12</td>\n      <td>NaN</td>\n      <td>0</td>\n      <td>NaN</td>\n      <td>NaN</td>\n    </tr>\n    <tr>\n      <td>361</td>\n      <td>NaN</td>\n      <td>NaN</td>\n      <td>NaN</td>\n      <td>NaN</td>\n      <td>NaN</td>\n      <td>NaN</td>\n      <td>Mon-12A-17:30:00-18:55:00</td>\n      <td>NaN</td>\n      <td>NaN</td>\n      <td>NaN</td>\n      <td>NaN</td>\n    </tr>\n    <tr>\n      <td>362</td>\n      <td>NaN</td>\n      <td>NaN</td>\n      <td>NaN</td>\n      <td>NaN</td>\n      <td>NaN</td>\n      <td>NaN</td>\n      <td>Thu-12B-17:30:00-18:55:00</td>\n      <td>NaN</td>\n      <td>NaN</td>\n      <td>NaN</td>\n      <td>NaN</td>\n    </tr>\n    <tr>\n      <td>363</td>\n      <td>59.0</td>\n      <td>timetable</td>\n      <td>HSS801</td>\n      <td>Seminar</td>\n      <td>I - Ramesh Bairy</td>\n      <td></td>\n      <td>NaN</td>\n      <td>NaN</td>\n      <td>0</td>\n      <td>NaN</td>\n      <td>NaN</td>\n    </tr>\n  </tbody>\n</table>\n<p>204 rows × 11 columns</p>\n</div>"
     },
     "metadata": {},
     "execution_count": 224
    }
   ],
   "source": [
    "df"
   ]
  },
  {
   "cell_type": "code",
   "execution_count": 225,
   "metadata": {},
   "outputs": [
    {
     "output_type": "execute_result",
     "data": {
      "text/plain": [
       "Index(['Sr no.', 'Type', 'Course Code', 'Course Name', 'Instructor(s)',\n",
       "       'Venue', 'Slot', 'Division', 'Registration Limit', 'Restrictions',\n",
       "       'Division.1'],\n",
       "      dtype='object')"
      ]
     },
     "metadata": {},
     "execution_count": 225
    }
   ],
   "source": [
    "df.columns"
   ]
  },
  {
   "cell_type": "code",
   "execution_count": 226,
   "metadata": {},
   "outputs": [],
   "source": [
    "ffill_cols = [\n",
    "    'Sr no.', 'Course Code', 'Course Name',\n",
    "       'Venue', 'Slot', 'Division', 'Registration Limit', 'Restrictions',\n",
    "       'Division.1'\n",
    "]"
   ]
  },
  {
   "cell_type": "code",
   "execution_count": 227,
   "metadata": {},
   "outputs": [],
   "source": [
    "df['Sr no.'] = df['Sr no.'].ffill()"
   ]
  },
  {
   "cell_type": "code",
   "execution_count": 228,
   "metadata": {},
   "outputs": [
    {
     "output_type": "execute_result",
     "data": {
      "text/plain": [
       "    Sr no.       Type Course Code Course Name             Instructor(s) Venue  \\\n",
       "0      NaN        NaN         NaN         NaN                       NaN   NaN   \n",
       "1      1.0  timetable      HS 101   Economics           A - Pooja Padhi         \n",
       "2      1.0        NaN         NaN         NaN   I - Haripriya Gundimeda   NaN   \n",
       "4      1.0        NaN         NaN         NaN                       NaN   NaN   \n",
       "5      1.0        NaN         NaN         NaN                       NaN   NaN   \n",
       "6      1.0        NaN         NaN         NaN                       NaN   NaN   \n",
       "19     2.0  timetable      HS 101   Economics  A - Surajit Bhattacharya         \n",
       "20     2.0        NaN         NaN         NaN          I - Narayanan K.   NaN   \n",
       "22     2.0        NaN         NaN         NaN                       NaN   NaN   \n",
       "23     2.0        NaN         NaN         NaN                       NaN   NaN   \n",
       "24     2.0        NaN         NaN         NaN                       NaN   NaN   \n",
       "37     3.0  timetable      HS 101   Economics          A - Tara S. Shaw         \n",
       "38     3.0        NaN         NaN         NaN        I - Trivedi Pushpa   NaN   \n",
       "40     3.0        NaN         NaN         NaN                       NaN   NaN   \n",
       "41     3.0        NaN         NaN         NaN                       NaN   NaN   \n",
       "\n",
       "                        Slot Division Registration Limit Restrictions  \\\n",
       "0                        NaN      NaN                NaN          NaN   \n",
       "1                          2       S1                  0          NaN   \n",
       "2                        NaN      NaN                NaN          NaN   \n",
       "4   Mon-2A-09:30:00-10:25:00      NaN                NaN          NaN   \n",
       "5   Thu-2C-11:35:00-12:30:00      NaN                NaN          NaN   \n",
       "6   Tue-2B-10:35:00-11:30:00      NaN                NaN          NaN   \n",
       "19                         2       S2                  0          NaN   \n",
       "20                       NaN      NaN                NaN          NaN   \n",
       "22  Mon-2A-09:30:00-10:25:00      NaN                NaN          NaN   \n",
       "23  Thu-2C-11:35:00-12:30:00      NaN                NaN          NaN   \n",
       "24  Tue-2B-10:35:00-11:30:00      NaN                NaN          NaN   \n",
       "37                         2       S3                  0          NaN   \n",
       "38                       NaN      NaN                NaN          NaN   \n",
       "40  Mon-2A-09:30:00-10:25:00      NaN                NaN          NaN   \n",
       "41  Thu-2C-11:35:00-12:30:00      NaN                NaN          NaN   \n",
       "\n",
       "    Division.1  \n",
       "0   Definition  \n",
       "1         View  \n",
       "2          NaN  \n",
       "4          NaN  \n",
       "5          NaN  \n",
       "6          NaN  \n",
       "19        View  \n",
       "20         NaN  \n",
       "22         NaN  \n",
       "23         NaN  \n",
       "24         NaN  \n",
       "37        View  \n",
       "38         NaN  \n",
       "40         NaN  \n",
       "41         NaN  "
      ],
      "text/html": "<div>\n<style scoped>\n    .dataframe tbody tr th:only-of-type {\n        vertical-align: middle;\n    }\n\n    .dataframe tbody tr th {\n        vertical-align: top;\n    }\n\n    .dataframe thead th {\n        text-align: right;\n    }\n</style>\n<table border=\"1\" class=\"dataframe\">\n  <thead>\n    <tr style=\"text-align: right;\">\n      <th></th>\n      <th>Sr no.</th>\n      <th>Type</th>\n      <th>Course Code</th>\n      <th>Course Name</th>\n      <th>Instructor(s)</th>\n      <th>Venue</th>\n      <th>Slot</th>\n      <th>Division</th>\n      <th>Registration Limit</th>\n      <th>Restrictions</th>\n      <th>Division.1</th>\n    </tr>\n  </thead>\n  <tbody>\n    <tr>\n      <td>0</td>\n      <td>NaN</td>\n      <td>NaN</td>\n      <td>NaN</td>\n      <td>NaN</td>\n      <td>NaN</td>\n      <td>NaN</td>\n      <td>NaN</td>\n      <td>NaN</td>\n      <td>NaN</td>\n      <td>NaN</td>\n      <td>Definition</td>\n    </tr>\n    <tr>\n      <td>1</td>\n      <td>1.0</td>\n      <td>timetable</td>\n      <td>HS 101</td>\n      <td>Economics</td>\n      <td>A - Pooja Padhi</td>\n      <td></td>\n      <td>2</td>\n      <td>S1</td>\n      <td>0</td>\n      <td>NaN</td>\n      <td>View</td>\n    </tr>\n    <tr>\n      <td>2</td>\n      <td>1.0</td>\n      <td>NaN</td>\n      <td>NaN</td>\n      <td>NaN</td>\n      <td>I - Haripriya Gundimeda</td>\n      <td>NaN</td>\n      <td>NaN</td>\n      <td>NaN</td>\n      <td>NaN</td>\n      <td>NaN</td>\n      <td>NaN</td>\n    </tr>\n    <tr>\n      <td>4</td>\n      <td>1.0</td>\n      <td>NaN</td>\n      <td>NaN</td>\n      <td>NaN</td>\n      <td>NaN</td>\n      <td>NaN</td>\n      <td>Mon-2A-09:30:00-10:25:00</td>\n      <td>NaN</td>\n      <td>NaN</td>\n      <td>NaN</td>\n      <td>NaN</td>\n    </tr>\n    <tr>\n      <td>5</td>\n      <td>1.0</td>\n      <td>NaN</td>\n      <td>NaN</td>\n      <td>NaN</td>\n      <td>NaN</td>\n      <td>NaN</td>\n      <td>Thu-2C-11:35:00-12:30:00</td>\n      <td>NaN</td>\n      <td>NaN</td>\n      <td>NaN</td>\n      <td>NaN</td>\n    </tr>\n    <tr>\n      <td>6</td>\n      <td>1.0</td>\n      <td>NaN</td>\n      <td>NaN</td>\n      <td>NaN</td>\n      <td>NaN</td>\n      <td>NaN</td>\n      <td>Tue-2B-10:35:00-11:30:00</td>\n      <td>NaN</td>\n      <td>NaN</td>\n      <td>NaN</td>\n      <td>NaN</td>\n    </tr>\n    <tr>\n      <td>19</td>\n      <td>2.0</td>\n      <td>timetable</td>\n      <td>HS 101</td>\n      <td>Economics</td>\n      <td>A - Surajit Bhattacharya</td>\n      <td></td>\n      <td>2</td>\n      <td>S2</td>\n      <td>0</td>\n      <td>NaN</td>\n      <td>View</td>\n    </tr>\n    <tr>\n      <td>20</td>\n      <td>2.0</td>\n      <td>NaN</td>\n      <td>NaN</td>\n      <td>NaN</td>\n      <td>I - Narayanan K.</td>\n      <td>NaN</td>\n      <td>NaN</td>\n      <td>NaN</td>\n      <td>NaN</td>\n      <td>NaN</td>\n      <td>NaN</td>\n    </tr>\n    <tr>\n      <td>22</td>\n      <td>2.0</td>\n      <td>NaN</td>\n      <td>NaN</td>\n      <td>NaN</td>\n      <td>NaN</td>\n      <td>NaN</td>\n      <td>Mon-2A-09:30:00-10:25:00</td>\n      <td>NaN</td>\n      <td>NaN</td>\n      <td>NaN</td>\n      <td>NaN</td>\n    </tr>\n    <tr>\n      <td>23</td>\n      <td>2.0</td>\n      <td>NaN</td>\n      <td>NaN</td>\n      <td>NaN</td>\n      <td>NaN</td>\n      <td>NaN</td>\n      <td>Thu-2C-11:35:00-12:30:00</td>\n      <td>NaN</td>\n      <td>NaN</td>\n      <td>NaN</td>\n      <td>NaN</td>\n    </tr>\n    <tr>\n      <td>24</td>\n      <td>2.0</td>\n      <td>NaN</td>\n      <td>NaN</td>\n      <td>NaN</td>\n      <td>NaN</td>\n      <td>NaN</td>\n      <td>Tue-2B-10:35:00-11:30:00</td>\n      <td>NaN</td>\n      <td>NaN</td>\n      <td>NaN</td>\n      <td>NaN</td>\n    </tr>\n    <tr>\n      <td>37</td>\n      <td>3.0</td>\n      <td>timetable</td>\n      <td>HS 101</td>\n      <td>Economics</td>\n      <td>A - Tara S. Shaw</td>\n      <td></td>\n      <td>2</td>\n      <td>S3</td>\n      <td>0</td>\n      <td>NaN</td>\n      <td>View</td>\n    </tr>\n    <tr>\n      <td>38</td>\n      <td>3.0</td>\n      <td>NaN</td>\n      <td>NaN</td>\n      <td>NaN</td>\n      <td>I - Trivedi Pushpa</td>\n      <td>NaN</td>\n      <td>NaN</td>\n      <td>NaN</td>\n      <td>NaN</td>\n      <td>NaN</td>\n      <td>NaN</td>\n    </tr>\n    <tr>\n      <td>40</td>\n      <td>3.0</td>\n      <td>NaN</td>\n      <td>NaN</td>\n      <td>NaN</td>\n      <td>NaN</td>\n      <td>NaN</td>\n      <td>Mon-2A-09:30:00-10:25:00</td>\n      <td>NaN</td>\n      <td>NaN</td>\n      <td>NaN</td>\n      <td>NaN</td>\n    </tr>\n    <tr>\n      <td>41</td>\n      <td>3.0</td>\n      <td>NaN</td>\n      <td>NaN</td>\n      <td>NaN</td>\n      <td>NaN</td>\n      <td>NaN</td>\n      <td>Thu-2C-11:35:00-12:30:00</td>\n      <td>NaN</td>\n      <td>NaN</td>\n      <td>NaN</td>\n      <td>NaN</td>\n    </tr>\n  </tbody>\n</table>\n</div>"
     },
     "metadata": {},
     "execution_count": 228
    }
   ],
   "source": [
    "df.head(15)"
   ]
  },
  {
   "cell_type": "code",
   "execution_count": 229,
   "metadata": {},
   "outputs": [
    {
     "output_type": "execute_result",
     "data": {
      "text/plain": [
       "    Sr no.       Type Course Code Course Name             Instructor(s) Venue  \\\n",
       "0      NaN        NaN         NaN         NaN                       NaN   NaN   \n",
       "1      1.0  timetable      HS 101   Economics           A - Pooja Padhi         \n",
       "2      1.0        NaN         NaN         NaN   I - Haripriya Gundimeda   NaN   \n",
       "4      1.0        NaN         NaN         NaN                       NaN   NaN   \n",
       "5      1.0        NaN         NaN         NaN                       NaN   NaN   \n",
       "6      1.0        NaN         NaN         NaN                       NaN   NaN   \n",
       "19     2.0  timetable      HS 101   Economics  A - Surajit Bhattacharya         \n",
       "20     2.0        NaN         NaN         NaN          I - Narayanan K.   NaN   \n",
       "22     2.0        NaN         NaN         NaN                       NaN   NaN   \n",
       "23     2.0        NaN         NaN         NaN                       NaN   NaN   \n",
       "24     2.0        NaN         NaN         NaN                       NaN   NaN   \n",
       "37     3.0  timetable      HS 101   Economics          A - Tara S. Shaw         \n",
       "38     3.0        NaN         NaN         NaN        I - Trivedi Pushpa   NaN   \n",
       "40     3.0        NaN         NaN         NaN                       NaN   NaN   \n",
       "41     3.0        NaN         NaN         NaN                       NaN   NaN   \n",
       "\n",
       "                        Slot Division Registration Limit Restrictions  \\\n",
       "0                        NaN      NaN                NaN          NaN   \n",
       "1                          2       S1                  0          NaN   \n",
       "2                        NaN      NaN                NaN          NaN   \n",
       "4   Mon-2A-09:30:00-10:25:00      NaN                NaN          NaN   \n",
       "5   Thu-2C-11:35:00-12:30:00      NaN                NaN          NaN   \n",
       "6   Tue-2B-10:35:00-11:30:00      NaN                NaN          NaN   \n",
       "19                         2       S2                  0          NaN   \n",
       "20                       NaN      NaN                NaN          NaN   \n",
       "22  Mon-2A-09:30:00-10:25:00      NaN                NaN          NaN   \n",
       "23  Thu-2C-11:35:00-12:30:00      NaN                NaN          NaN   \n",
       "24  Tue-2B-10:35:00-11:30:00      NaN                NaN          NaN   \n",
       "37                         2       S3                  0          NaN   \n",
       "38                       NaN      NaN                NaN          NaN   \n",
       "40  Mon-2A-09:30:00-10:25:00      NaN                NaN          NaN   \n",
       "41  Thu-2C-11:35:00-12:30:00      NaN                NaN          NaN   \n",
       "\n",
       "    Division.1  \n",
       "0   Definition  \n",
       "1         View  \n",
       "2          NaN  \n",
       "4          NaN  \n",
       "5          NaN  \n",
       "6          NaN  \n",
       "19        View  \n",
       "20         NaN  \n",
       "22         NaN  \n",
       "23         NaN  \n",
       "24         NaN  \n",
       "37        View  \n",
       "38         NaN  \n",
       "40         NaN  \n",
       "41         NaN  "
      ],
      "text/html": "<div>\n<style scoped>\n    .dataframe tbody tr th:only-of-type {\n        vertical-align: middle;\n    }\n\n    .dataframe tbody tr th {\n        vertical-align: top;\n    }\n\n    .dataframe thead th {\n        text-align: right;\n    }\n</style>\n<table border=\"1\" class=\"dataframe\">\n  <thead>\n    <tr style=\"text-align: right;\">\n      <th></th>\n      <th>Sr no.</th>\n      <th>Type</th>\n      <th>Course Code</th>\n      <th>Course Name</th>\n      <th>Instructor(s)</th>\n      <th>Venue</th>\n      <th>Slot</th>\n      <th>Division</th>\n      <th>Registration Limit</th>\n      <th>Restrictions</th>\n      <th>Division.1</th>\n    </tr>\n  </thead>\n  <tbody>\n    <tr>\n      <td>0</td>\n      <td>NaN</td>\n      <td>NaN</td>\n      <td>NaN</td>\n      <td>NaN</td>\n      <td>NaN</td>\n      <td>NaN</td>\n      <td>NaN</td>\n      <td>NaN</td>\n      <td>NaN</td>\n      <td>NaN</td>\n      <td>Definition</td>\n    </tr>\n    <tr>\n      <td>1</td>\n      <td>1.0</td>\n      <td>timetable</td>\n      <td>HS 101</td>\n      <td>Economics</td>\n      <td>A - Pooja Padhi</td>\n      <td></td>\n      <td>2</td>\n      <td>S1</td>\n      <td>0</td>\n      <td>NaN</td>\n      <td>View</td>\n    </tr>\n    <tr>\n      <td>2</td>\n      <td>1.0</td>\n      <td>NaN</td>\n      <td>NaN</td>\n      <td>NaN</td>\n      <td>I - Haripriya Gundimeda</td>\n      <td>NaN</td>\n      <td>NaN</td>\n      <td>NaN</td>\n      <td>NaN</td>\n      <td>NaN</td>\n      <td>NaN</td>\n    </tr>\n    <tr>\n      <td>4</td>\n      <td>1.0</td>\n      <td>NaN</td>\n      <td>NaN</td>\n      <td>NaN</td>\n      <td>NaN</td>\n      <td>NaN</td>\n      <td>Mon-2A-09:30:00-10:25:00</td>\n      <td>NaN</td>\n      <td>NaN</td>\n      <td>NaN</td>\n      <td>NaN</td>\n    </tr>\n    <tr>\n      <td>5</td>\n      <td>1.0</td>\n      <td>NaN</td>\n      <td>NaN</td>\n      <td>NaN</td>\n      <td>NaN</td>\n      <td>NaN</td>\n      <td>Thu-2C-11:35:00-12:30:00</td>\n      <td>NaN</td>\n      <td>NaN</td>\n      <td>NaN</td>\n      <td>NaN</td>\n    </tr>\n    <tr>\n      <td>6</td>\n      <td>1.0</td>\n      <td>NaN</td>\n      <td>NaN</td>\n      <td>NaN</td>\n      <td>NaN</td>\n      <td>NaN</td>\n      <td>Tue-2B-10:35:00-11:30:00</td>\n      <td>NaN</td>\n      <td>NaN</td>\n      <td>NaN</td>\n      <td>NaN</td>\n    </tr>\n    <tr>\n      <td>19</td>\n      <td>2.0</td>\n      <td>timetable</td>\n      <td>HS 101</td>\n      <td>Economics</td>\n      <td>A - Surajit Bhattacharya</td>\n      <td></td>\n      <td>2</td>\n      <td>S2</td>\n      <td>0</td>\n      <td>NaN</td>\n      <td>View</td>\n    </tr>\n    <tr>\n      <td>20</td>\n      <td>2.0</td>\n      <td>NaN</td>\n      <td>NaN</td>\n      <td>NaN</td>\n      <td>I - Narayanan K.</td>\n      <td>NaN</td>\n      <td>NaN</td>\n      <td>NaN</td>\n      <td>NaN</td>\n      <td>NaN</td>\n      <td>NaN</td>\n    </tr>\n    <tr>\n      <td>22</td>\n      <td>2.0</td>\n      <td>NaN</td>\n      <td>NaN</td>\n      <td>NaN</td>\n      <td>NaN</td>\n      <td>NaN</td>\n      <td>Mon-2A-09:30:00-10:25:00</td>\n      <td>NaN</td>\n      <td>NaN</td>\n      <td>NaN</td>\n      <td>NaN</td>\n    </tr>\n    <tr>\n      <td>23</td>\n      <td>2.0</td>\n      <td>NaN</td>\n      <td>NaN</td>\n      <td>NaN</td>\n      <td>NaN</td>\n      <td>NaN</td>\n      <td>Thu-2C-11:35:00-12:30:00</td>\n      <td>NaN</td>\n      <td>NaN</td>\n      <td>NaN</td>\n      <td>NaN</td>\n    </tr>\n    <tr>\n      <td>24</td>\n      <td>2.0</td>\n      <td>NaN</td>\n      <td>NaN</td>\n      <td>NaN</td>\n      <td>NaN</td>\n      <td>NaN</td>\n      <td>Tue-2B-10:35:00-11:30:00</td>\n      <td>NaN</td>\n      <td>NaN</td>\n      <td>NaN</td>\n      <td>NaN</td>\n    </tr>\n    <tr>\n      <td>37</td>\n      <td>3.0</td>\n      <td>timetable</td>\n      <td>HS 101</td>\n      <td>Economics</td>\n      <td>A - Tara S. Shaw</td>\n      <td></td>\n      <td>2</td>\n      <td>S3</td>\n      <td>0</td>\n      <td>NaN</td>\n      <td>View</td>\n    </tr>\n    <tr>\n      <td>38</td>\n      <td>3.0</td>\n      <td>NaN</td>\n      <td>NaN</td>\n      <td>NaN</td>\n      <td>I - Trivedi Pushpa</td>\n      <td>NaN</td>\n      <td>NaN</td>\n      <td>NaN</td>\n      <td>NaN</td>\n      <td>NaN</td>\n      <td>NaN</td>\n    </tr>\n    <tr>\n      <td>40</td>\n      <td>3.0</td>\n      <td>NaN</td>\n      <td>NaN</td>\n      <td>NaN</td>\n      <td>NaN</td>\n      <td>NaN</td>\n      <td>Mon-2A-09:30:00-10:25:00</td>\n      <td>NaN</td>\n      <td>NaN</td>\n      <td>NaN</td>\n      <td>NaN</td>\n    </tr>\n    <tr>\n      <td>41</td>\n      <td>3.0</td>\n      <td>NaN</td>\n      <td>NaN</td>\n      <td>NaN</td>\n      <td>NaN</td>\n      <td>NaN</td>\n      <td>Thu-2C-11:35:00-12:30:00</td>\n      <td>NaN</td>\n      <td>NaN</td>\n      <td>NaN</td>\n      <td>NaN</td>\n    </tr>\n  </tbody>\n</table>\n</div>"
     },
     "metadata": {},
     "execution_count": 229
    }
   ],
   "source": [
    "df.head(15)"
   ]
  },
  {
   "cell_type": "code",
   "execution_count": 230,
   "metadata": {},
   "outputs": [],
   "source": [
    "# df = df.drop(0).reset_index()\n",
    "# df.head(15)"
   ]
  },
  {
   "cell_type": "code",
   "execution_count": 232,
   "metadata": {},
   "outputs": [],
   "source": [
    "# df = df.drop(columns='index')"
   ]
  },
  {
   "cell_type": "code",
   "execution_count": 233,
   "metadata": {},
   "outputs": [
    {
     "output_type": "execute_result",
     "data": {
      "text/plain": [
       "    Sr no.       Type Course Code Course Name             Instructor(s) Venue  \\\n",
       "0      NaN        NaN         NaN         NaN                       NaN   NaN   \n",
       "1      1.0  timetable      HS 101   Economics           A - Pooja Padhi         \n",
       "2      1.0        NaN         NaN         NaN   I - Haripriya Gundimeda   NaN   \n",
       "4      1.0        NaN         NaN         NaN                       NaN   NaN   \n",
       "5      1.0        NaN         NaN         NaN                       NaN   NaN   \n",
       "6      1.0        NaN         NaN         NaN                       NaN   NaN   \n",
       "19     2.0  timetable      HS 101   Economics  A - Surajit Bhattacharya         \n",
       "20     2.0        NaN         NaN         NaN          I - Narayanan K.   NaN   \n",
       "22     2.0        NaN         NaN         NaN                       NaN   NaN   \n",
       "23     2.0        NaN         NaN         NaN                       NaN   NaN   \n",
       "24     2.0        NaN         NaN         NaN                       NaN   NaN   \n",
       "37     3.0  timetable      HS 101   Economics          A - Tara S. Shaw         \n",
       "38     3.0        NaN         NaN         NaN        I - Trivedi Pushpa   NaN   \n",
       "40     3.0        NaN         NaN         NaN                       NaN   NaN   \n",
       "41     3.0        NaN         NaN         NaN                       NaN   NaN   \n",
       "\n",
       "                        Slot Division Registration Limit Restrictions  \\\n",
       "0                        NaN      NaN                NaN          NaN   \n",
       "1                          2       S1                  0          NaN   \n",
       "2                        NaN      NaN                NaN          NaN   \n",
       "4   Mon-2A-09:30:00-10:25:00      NaN                NaN          NaN   \n",
       "5   Thu-2C-11:35:00-12:30:00      NaN                NaN          NaN   \n",
       "6   Tue-2B-10:35:00-11:30:00      NaN                NaN          NaN   \n",
       "19                         2       S2                  0          NaN   \n",
       "20                       NaN      NaN                NaN          NaN   \n",
       "22  Mon-2A-09:30:00-10:25:00      NaN                NaN          NaN   \n",
       "23  Thu-2C-11:35:00-12:30:00      NaN                NaN          NaN   \n",
       "24  Tue-2B-10:35:00-11:30:00      NaN                NaN          NaN   \n",
       "37                         2       S3                  0          NaN   \n",
       "38                       NaN      NaN                NaN          NaN   \n",
       "40  Mon-2A-09:30:00-10:25:00      NaN                NaN          NaN   \n",
       "41  Thu-2C-11:35:00-12:30:00      NaN                NaN          NaN   \n",
       "\n",
       "    Division.1  \n",
       "0   Definition  \n",
       "1         View  \n",
       "2          NaN  \n",
       "4          NaN  \n",
       "5          NaN  \n",
       "6          NaN  \n",
       "19        View  \n",
       "20         NaN  \n",
       "22         NaN  \n",
       "23         NaN  \n",
       "24         NaN  \n",
       "37        View  \n",
       "38         NaN  \n",
       "40         NaN  \n",
       "41         NaN  "
      ],
      "text/html": "<div>\n<style scoped>\n    .dataframe tbody tr th:only-of-type {\n        vertical-align: middle;\n    }\n\n    .dataframe tbody tr th {\n        vertical-align: top;\n    }\n\n    .dataframe thead th {\n        text-align: right;\n    }\n</style>\n<table border=\"1\" class=\"dataframe\">\n  <thead>\n    <tr style=\"text-align: right;\">\n      <th></th>\n      <th>Sr no.</th>\n      <th>Type</th>\n      <th>Course Code</th>\n      <th>Course Name</th>\n      <th>Instructor(s)</th>\n      <th>Venue</th>\n      <th>Slot</th>\n      <th>Division</th>\n      <th>Registration Limit</th>\n      <th>Restrictions</th>\n      <th>Division.1</th>\n    </tr>\n  </thead>\n  <tbody>\n    <tr>\n      <td>0</td>\n      <td>NaN</td>\n      <td>NaN</td>\n      <td>NaN</td>\n      <td>NaN</td>\n      <td>NaN</td>\n      <td>NaN</td>\n      <td>NaN</td>\n      <td>NaN</td>\n      <td>NaN</td>\n      <td>NaN</td>\n      <td>Definition</td>\n    </tr>\n    <tr>\n      <td>1</td>\n      <td>1.0</td>\n      <td>timetable</td>\n      <td>HS 101</td>\n      <td>Economics</td>\n      <td>A - Pooja Padhi</td>\n      <td></td>\n      <td>2</td>\n      <td>S1</td>\n      <td>0</td>\n      <td>NaN</td>\n      <td>View</td>\n    </tr>\n    <tr>\n      <td>2</td>\n      <td>1.0</td>\n      <td>NaN</td>\n      <td>NaN</td>\n      <td>NaN</td>\n      <td>I - Haripriya Gundimeda</td>\n      <td>NaN</td>\n      <td>NaN</td>\n      <td>NaN</td>\n      <td>NaN</td>\n      <td>NaN</td>\n      <td>NaN</td>\n    </tr>\n    <tr>\n      <td>4</td>\n      <td>1.0</td>\n      <td>NaN</td>\n      <td>NaN</td>\n      <td>NaN</td>\n      <td>NaN</td>\n      <td>NaN</td>\n      <td>Mon-2A-09:30:00-10:25:00</td>\n      <td>NaN</td>\n      <td>NaN</td>\n      <td>NaN</td>\n      <td>NaN</td>\n    </tr>\n    <tr>\n      <td>5</td>\n      <td>1.0</td>\n      <td>NaN</td>\n      <td>NaN</td>\n      <td>NaN</td>\n      <td>NaN</td>\n      <td>NaN</td>\n      <td>Thu-2C-11:35:00-12:30:00</td>\n      <td>NaN</td>\n      <td>NaN</td>\n      <td>NaN</td>\n      <td>NaN</td>\n    </tr>\n    <tr>\n      <td>6</td>\n      <td>1.0</td>\n      <td>NaN</td>\n      <td>NaN</td>\n      <td>NaN</td>\n      <td>NaN</td>\n      <td>NaN</td>\n      <td>Tue-2B-10:35:00-11:30:00</td>\n      <td>NaN</td>\n      <td>NaN</td>\n      <td>NaN</td>\n      <td>NaN</td>\n    </tr>\n    <tr>\n      <td>19</td>\n      <td>2.0</td>\n      <td>timetable</td>\n      <td>HS 101</td>\n      <td>Economics</td>\n      <td>A - Surajit Bhattacharya</td>\n      <td></td>\n      <td>2</td>\n      <td>S2</td>\n      <td>0</td>\n      <td>NaN</td>\n      <td>View</td>\n    </tr>\n    <tr>\n      <td>20</td>\n      <td>2.0</td>\n      <td>NaN</td>\n      <td>NaN</td>\n      <td>NaN</td>\n      <td>I - Narayanan K.</td>\n      <td>NaN</td>\n      <td>NaN</td>\n      <td>NaN</td>\n      <td>NaN</td>\n      <td>NaN</td>\n      <td>NaN</td>\n    </tr>\n    <tr>\n      <td>22</td>\n      <td>2.0</td>\n      <td>NaN</td>\n      <td>NaN</td>\n      <td>NaN</td>\n      <td>NaN</td>\n      <td>NaN</td>\n      <td>Mon-2A-09:30:00-10:25:00</td>\n      <td>NaN</td>\n      <td>NaN</td>\n      <td>NaN</td>\n      <td>NaN</td>\n    </tr>\n    <tr>\n      <td>23</td>\n      <td>2.0</td>\n      <td>NaN</td>\n      <td>NaN</td>\n      <td>NaN</td>\n      <td>NaN</td>\n      <td>NaN</td>\n      <td>Thu-2C-11:35:00-12:30:00</td>\n      <td>NaN</td>\n      <td>NaN</td>\n      <td>NaN</td>\n      <td>NaN</td>\n    </tr>\n    <tr>\n      <td>24</td>\n      <td>2.0</td>\n      <td>NaN</td>\n      <td>NaN</td>\n      <td>NaN</td>\n      <td>NaN</td>\n      <td>NaN</td>\n      <td>Tue-2B-10:35:00-11:30:00</td>\n      <td>NaN</td>\n      <td>NaN</td>\n      <td>NaN</td>\n      <td>NaN</td>\n    </tr>\n    <tr>\n      <td>37</td>\n      <td>3.0</td>\n      <td>timetable</td>\n      <td>HS 101</td>\n      <td>Economics</td>\n      <td>A - Tara S. Shaw</td>\n      <td></td>\n      <td>2</td>\n      <td>S3</td>\n      <td>0</td>\n      <td>NaN</td>\n      <td>View</td>\n    </tr>\n    <tr>\n      <td>38</td>\n      <td>3.0</td>\n      <td>NaN</td>\n      <td>NaN</td>\n      <td>NaN</td>\n      <td>I - Trivedi Pushpa</td>\n      <td>NaN</td>\n      <td>NaN</td>\n      <td>NaN</td>\n      <td>NaN</td>\n      <td>NaN</td>\n      <td>NaN</td>\n    </tr>\n    <tr>\n      <td>40</td>\n      <td>3.0</td>\n      <td>NaN</td>\n      <td>NaN</td>\n      <td>NaN</td>\n      <td>NaN</td>\n      <td>NaN</td>\n      <td>Mon-2A-09:30:00-10:25:00</td>\n      <td>NaN</td>\n      <td>NaN</td>\n      <td>NaN</td>\n      <td>NaN</td>\n    </tr>\n    <tr>\n      <td>41</td>\n      <td>3.0</td>\n      <td>NaN</td>\n      <td>NaN</td>\n      <td>NaN</td>\n      <td>NaN</td>\n      <td>NaN</td>\n      <td>Thu-2C-11:35:00-12:30:00</td>\n      <td>NaN</td>\n      <td>NaN</td>\n      <td>NaN</td>\n      <td>NaN</td>\n    </tr>\n  </tbody>\n</table>\n</div>"
     },
     "metadata": {},
     "execution_count": 233
    }
   ],
   "source": [
    "df.head(15)"
   ]
  },
  {
   "cell_type": "code",
   "execution_count": 234,
   "metadata": {},
   "outputs": [],
   "source": [
    "df['Type'] = pd.DataFrame(df.groupby(df.columns[0])[df.columns[1]].apply(list))"
   ]
  },
  {
   "cell_type": "code",
   "execution_count": 235,
   "metadata": {},
   "outputs": [
    {
     "output_type": "execute_result",
     "data": {
      "text/plain": [
       "    Sr no.                                  Type Course Code Course Name  \\\n",
       "0      NaN                                   NaN         NaN         NaN   \n",
       "1      1.0       [timetable, nan, nan, nan, nan]      HS 101   Economics   \n",
       "2      1.0       [timetable, nan, nan, nan, nan]         NaN         NaN   \n",
       "4      1.0  [timetable, nan, nan, nan, nan, nan]         NaN         NaN   \n",
       "5      1.0  [timetable, nan, nan, nan, nan, nan]         NaN         NaN   \n",
       "6      1.0            [timetable, nan, nan, nan]         NaN         NaN   \n",
       "19     2.0                 [timetable, nan, nan]      HS 101   Economics   \n",
       "20     2.0            [timetable, nan, nan, nan]         NaN         NaN   \n",
       "22     2.0            [timetable, nan, nan, nan]         NaN         NaN   \n",
       "23     2.0                 [timetable, nan, nan]         NaN         NaN   \n",
       "24     2.0                 [timetable, nan, nan]         NaN         NaN   \n",
       "37     3.0                 [timetable, nan, nan]      HS 101   Economics   \n",
       "38     3.0            [timetable, nan, nan, nan]         NaN         NaN   \n",
       "40     3.0       [timetable, nan, nan, nan, nan]         NaN         NaN   \n",
       "41     3.0            [timetable, nan, nan, nan]         NaN         NaN   \n",
       "\n",
       "               Instructor(s) Venue                      Slot Division  \\\n",
       "0                        NaN   NaN                       NaN      NaN   \n",
       "1            A - Pooja Padhi                               2       S1   \n",
       "2    I - Haripriya Gundimeda   NaN                       NaN      NaN   \n",
       "4                        NaN   NaN  Mon-2A-09:30:00-10:25:00      NaN   \n",
       "5                        NaN   NaN  Thu-2C-11:35:00-12:30:00      NaN   \n",
       "6                        NaN   NaN  Tue-2B-10:35:00-11:30:00      NaN   \n",
       "19  A - Surajit Bhattacharya                               2       S2   \n",
       "20          I - Narayanan K.   NaN                       NaN      NaN   \n",
       "22                       NaN   NaN  Mon-2A-09:30:00-10:25:00      NaN   \n",
       "23                       NaN   NaN  Thu-2C-11:35:00-12:30:00      NaN   \n",
       "24                       NaN   NaN  Tue-2B-10:35:00-11:30:00      NaN   \n",
       "37          A - Tara S. Shaw                               2       S3   \n",
       "38        I - Trivedi Pushpa   NaN                       NaN      NaN   \n",
       "40                       NaN   NaN  Mon-2A-09:30:00-10:25:00      NaN   \n",
       "41                       NaN   NaN  Thu-2C-11:35:00-12:30:00      NaN   \n",
       "\n",
       "   Registration Limit Restrictions  Division.1  \n",
       "0                 NaN          NaN  Definition  \n",
       "1                   0          NaN        View  \n",
       "2                 NaN          NaN         NaN  \n",
       "4                 NaN          NaN         NaN  \n",
       "5                 NaN          NaN         NaN  \n",
       "6                 NaN          NaN         NaN  \n",
       "19                  0          NaN        View  \n",
       "20                NaN          NaN         NaN  \n",
       "22                NaN          NaN         NaN  \n",
       "23                NaN          NaN         NaN  \n",
       "24                NaN          NaN         NaN  \n",
       "37                  0          NaN        View  \n",
       "38                NaN          NaN         NaN  \n",
       "40                NaN          NaN         NaN  \n",
       "41                NaN          NaN         NaN  "
      ],
      "text/html": "<div>\n<style scoped>\n    .dataframe tbody tr th:only-of-type {\n        vertical-align: middle;\n    }\n\n    .dataframe tbody tr th {\n        vertical-align: top;\n    }\n\n    .dataframe thead th {\n        text-align: right;\n    }\n</style>\n<table border=\"1\" class=\"dataframe\">\n  <thead>\n    <tr style=\"text-align: right;\">\n      <th></th>\n      <th>Sr no.</th>\n      <th>Type</th>\n      <th>Course Code</th>\n      <th>Course Name</th>\n      <th>Instructor(s)</th>\n      <th>Venue</th>\n      <th>Slot</th>\n      <th>Division</th>\n      <th>Registration Limit</th>\n      <th>Restrictions</th>\n      <th>Division.1</th>\n    </tr>\n  </thead>\n  <tbody>\n    <tr>\n      <td>0</td>\n      <td>NaN</td>\n      <td>NaN</td>\n      <td>NaN</td>\n      <td>NaN</td>\n      <td>NaN</td>\n      <td>NaN</td>\n      <td>NaN</td>\n      <td>NaN</td>\n      <td>NaN</td>\n      <td>NaN</td>\n      <td>Definition</td>\n    </tr>\n    <tr>\n      <td>1</td>\n      <td>1.0</td>\n      <td>[timetable, nan, nan, nan, nan]</td>\n      <td>HS 101</td>\n      <td>Economics</td>\n      <td>A - Pooja Padhi</td>\n      <td></td>\n      <td>2</td>\n      <td>S1</td>\n      <td>0</td>\n      <td>NaN</td>\n      <td>View</td>\n    </tr>\n    <tr>\n      <td>2</td>\n      <td>1.0</td>\n      <td>[timetable, nan, nan, nan, nan]</td>\n      <td>NaN</td>\n      <td>NaN</td>\n      <td>I - Haripriya Gundimeda</td>\n      <td>NaN</td>\n      <td>NaN</td>\n      <td>NaN</td>\n      <td>NaN</td>\n      <td>NaN</td>\n      <td>NaN</td>\n    </tr>\n    <tr>\n      <td>4</td>\n      <td>1.0</td>\n      <td>[timetable, nan, nan, nan, nan, nan]</td>\n      <td>NaN</td>\n      <td>NaN</td>\n      <td>NaN</td>\n      <td>NaN</td>\n      <td>Mon-2A-09:30:00-10:25:00</td>\n      <td>NaN</td>\n      <td>NaN</td>\n      <td>NaN</td>\n      <td>NaN</td>\n    </tr>\n    <tr>\n      <td>5</td>\n      <td>1.0</td>\n      <td>[timetable, nan, nan, nan, nan, nan]</td>\n      <td>NaN</td>\n      <td>NaN</td>\n      <td>NaN</td>\n      <td>NaN</td>\n      <td>Thu-2C-11:35:00-12:30:00</td>\n      <td>NaN</td>\n      <td>NaN</td>\n      <td>NaN</td>\n      <td>NaN</td>\n    </tr>\n    <tr>\n      <td>6</td>\n      <td>1.0</td>\n      <td>[timetable, nan, nan, nan]</td>\n      <td>NaN</td>\n      <td>NaN</td>\n      <td>NaN</td>\n      <td>NaN</td>\n      <td>Tue-2B-10:35:00-11:30:00</td>\n      <td>NaN</td>\n      <td>NaN</td>\n      <td>NaN</td>\n      <td>NaN</td>\n    </tr>\n    <tr>\n      <td>19</td>\n      <td>2.0</td>\n      <td>[timetable, nan, nan]</td>\n      <td>HS 101</td>\n      <td>Economics</td>\n      <td>A - Surajit Bhattacharya</td>\n      <td></td>\n      <td>2</td>\n      <td>S2</td>\n      <td>0</td>\n      <td>NaN</td>\n      <td>View</td>\n    </tr>\n    <tr>\n      <td>20</td>\n      <td>2.0</td>\n      <td>[timetable, nan, nan, nan]</td>\n      <td>NaN</td>\n      <td>NaN</td>\n      <td>I - Narayanan K.</td>\n      <td>NaN</td>\n      <td>NaN</td>\n      <td>NaN</td>\n      <td>NaN</td>\n      <td>NaN</td>\n      <td>NaN</td>\n    </tr>\n    <tr>\n      <td>22</td>\n      <td>2.0</td>\n      <td>[timetable, nan, nan, nan]</td>\n      <td>NaN</td>\n      <td>NaN</td>\n      <td>NaN</td>\n      <td>NaN</td>\n      <td>Mon-2A-09:30:00-10:25:00</td>\n      <td>NaN</td>\n      <td>NaN</td>\n      <td>NaN</td>\n      <td>NaN</td>\n    </tr>\n    <tr>\n      <td>23</td>\n      <td>2.0</td>\n      <td>[timetable, nan, nan]</td>\n      <td>NaN</td>\n      <td>NaN</td>\n      <td>NaN</td>\n      <td>NaN</td>\n      <td>Thu-2C-11:35:00-12:30:00</td>\n      <td>NaN</td>\n      <td>NaN</td>\n      <td>NaN</td>\n      <td>NaN</td>\n    </tr>\n    <tr>\n      <td>24</td>\n      <td>2.0</td>\n      <td>[timetable, nan, nan]</td>\n      <td>NaN</td>\n      <td>NaN</td>\n      <td>NaN</td>\n      <td>NaN</td>\n      <td>Tue-2B-10:35:00-11:30:00</td>\n      <td>NaN</td>\n      <td>NaN</td>\n      <td>NaN</td>\n      <td>NaN</td>\n    </tr>\n    <tr>\n      <td>37</td>\n      <td>3.0</td>\n      <td>[timetable, nan, nan]</td>\n      <td>HS 101</td>\n      <td>Economics</td>\n      <td>A - Tara S. Shaw</td>\n      <td></td>\n      <td>2</td>\n      <td>S3</td>\n      <td>0</td>\n      <td>NaN</td>\n      <td>View</td>\n    </tr>\n    <tr>\n      <td>38</td>\n      <td>3.0</td>\n      <td>[timetable, nan, nan, nan]</td>\n      <td>NaN</td>\n      <td>NaN</td>\n      <td>I - Trivedi Pushpa</td>\n      <td>NaN</td>\n      <td>NaN</td>\n      <td>NaN</td>\n      <td>NaN</td>\n      <td>NaN</td>\n      <td>NaN</td>\n    </tr>\n    <tr>\n      <td>40</td>\n      <td>3.0</td>\n      <td>[timetable, nan, nan, nan, nan]</td>\n      <td>NaN</td>\n      <td>NaN</td>\n      <td>NaN</td>\n      <td>NaN</td>\n      <td>Mon-2A-09:30:00-10:25:00</td>\n      <td>NaN</td>\n      <td>NaN</td>\n      <td>NaN</td>\n      <td>NaN</td>\n    </tr>\n    <tr>\n      <td>41</td>\n      <td>3.0</td>\n      <td>[timetable, nan, nan, nan]</td>\n      <td>NaN</td>\n      <td>NaN</td>\n      <td>NaN</td>\n      <td>NaN</td>\n      <td>Thu-2C-11:35:00-12:30:00</td>\n      <td>NaN</td>\n      <td>NaN</td>\n      <td>NaN</td>\n      <td>NaN</td>\n    </tr>\n  </tbody>\n</table>\n</div>"
     },
     "metadata": {},
     "execution_count": 235
    }
   ],
   "source": [
    "df.head(15)"
   ]
  },
  {
   "cell_type": "code",
   "execution_count": 236,
   "metadata": {},
   "outputs": [
    {
     "output_type": "execute_result",
     "data": {
      "text/plain": [
       "    Sr no.            Type Course Code Course Name             Instructor(s)  \\\n",
       "0      NaN                         NaN         NaN                       NaN   \n",
       "1      1.0   timetable          HS 101   Economics           A - Pooja Padhi   \n",
       "2      1.0   timetable             NaN         NaN   I - Haripriya Gundimeda   \n",
       "4      1.0  timetable              NaN         NaN                       NaN   \n",
       "5      1.0  timetable              NaN         NaN                       NaN   \n",
       "6      1.0    timetable            NaN         NaN                       NaN   \n",
       "19     2.0     timetable        HS 101   Economics  A - Surajit Bhattacharya   \n",
       "20     2.0    timetable            NaN         NaN          I - Narayanan K.   \n",
       "22     2.0    timetable            NaN         NaN                       NaN   \n",
       "23     2.0     timetable           NaN         NaN                       NaN   \n",
       "24     2.0     timetable           NaN         NaN                       NaN   \n",
       "37     3.0     timetable        HS 101   Economics          A - Tara S. Shaw   \n",
       "38     3.0    timetable            NaN         NaN        I - Trivedi Pushpa   \n",
       "40     3.0   timetable             NaN         NaN                       NaN   \n",
       "41     3.0    timetable            NaN         NaN                       NaN   \n",
       "\n",
       "   Venue                      Slot Division Registration Limit Restrictions  \\\n",
       "0    NaN                       NaN      NaN                NaN          NaN   \n",
       "1                                2       S1                  0          NaN   \n",
       "2    NaN                       NaN      NaN                NaN          NaN   \n",
       "4    NaN  Mon-2A-09:30:00-10:25:00      NaN                NaN          NaN   \n",
       "5    NaN  Thu-2C-11:35:00-12:30:00      NaN                NaN          NaN   \n",
       "6    NaN  Tue-2B-10:35:00-11:30:00      NaN                NaN          NaN   \n",
       "19                               2       S2                  0          NaN   \n",
       "20   NaN                       NaN      NaN                NaN          NaN   \n",
       "22   NaN  Mon-2A-09:30:00-10:25:00      NaN                NaN          NaN   \n",
       "23   NaN  Thu-2C-11:35:00-12:30:00      NaN                NaN          NaN   \n",
       "24   NaN  Tue-2B-10:35:00-11:30:00      NaN                NaN          NaN   \n",
       "37                               2       S3                  0          NaN   \n",
       "38   NaN                       NaN      NaN                NaN          NaN   \n",
       "40   NaN  Mon-2A-09:30:00-10:25:00      NaN                NaN          NaN   \n",
       "41   NaN  Thu-2C-11:35:00-12:30:00      NaN                NaN          NaN   \n",
       "\n",
       "    Division.1  \n",
       "0   Definition  \n",
       "1         View  \n",
       "2          NaN  \n",
       "4          NaN  \n",
       "5          NaN  \n",
       "6          NaN  \n",
       "19        View  \n",
       "20         NaN  \n",
       "22         NaN  \n",
       "23         NaN  \n",
       "24         NaN  \n",
       "37        View  \n",
       "38         NaN  \n",
       "40         NaN  \n",
       "41         NaN  "
      ],
      "text/html": "<div>\n<style scoped>\n    .dataframe tbody tr th:only-of-type {\n        vertical-align: middle;\n    }\n\n    .dataframe tbody tr th {\n        vertical-align: top;\n    }\n\n    .dataframe thead th {\n        text-align: right;\n    }\n</style>\n<table border=\"1\" class=\"dataframe\">\n  <thead>\n    <tr style=\"text-align: right;\">\n      <th></th>\n      <th>Sr no.</th>\n      <th>Type</th>\n      <th>Course Code</th>\n      <th>Course Name</th>\n      <th>Instructor(s)</th>\n      <th>Venue</th>\n      <th>Slot</th>\n      <th>Division</th>\n      <th>Registration Limit</th>\n      <th>Restrictions</th>\n      <th>Division.1</th>\n    </tr>\n  </thead>\n  <tbody>\n    <tr>\n      <td>0</td>\n      <td>NaN</td>\n      <td></td>\n      <td>NaN</td>\n      <td>NaN</td>\n      <td>NaN</td>\n      <td>NaN</td>\n      <td>NaN</td>\n      <td>NaN</td>\n      <td>NaN</td>\n      <td>NaN</td>\n      <td>Definition</td>\n    </tr>\n    <tr>\n      <td>1</td>\n      <td>1.0</td>\n      <td>timetable</td>\n      <td>HS 101</td>\n      <td>Economics</td>\n      <td>A - Pooja Padhi</td>\n      <td></td>\n      <td>2</td>\n      <td>S1</td>\n      <td>0</td>\n      <td>NaN</td>\n      <td>View</td>\n    </tr>\n    <tr>\n      <td>2</td>\n      <td>1.0</td>\n      <td>timetable</td>\n      <td>NaN</td>\n      <td>NaN</td>\n      <td>I - Haripriya Gundimeda</td>\n      <td>NaN</td>\n      <td>NaN</td>\n      <td>NaN</td>\n      <td>NaN</td>\n      <td>NaN</td>\n      <td>NaN</td>\n    </tr>\n    <tr>\n      <td>4</td>\n      <td>1.0</td>\n      <td>timetable</td>\n      <td>NaN</td>\n      <td>NaN</td>\n      <td>NaN</td>\n      <td>NaN</td>\n      <td>Mon-2A-09:30:00-10:25:00</td>\n      <td>NaN</td>\n      <td>NaN</td>\n      <td>NaN</td>\n      <td>NaN</td>\n    </tr>\n    <tr>\n      <td>5</td>\n      <td>1.0</td>\n      <td>timetable</td>\n      <td>NaN</td>\n      <td>NaN</td>\n      <td>NaN</td>\n      <td>NaN</td>\n      <td>Thu-2C-11:35:00-12:30:00</td>\n      <td>NaN</td>\n      <td>NaN</td>\n      <td>NaN</td>\n      <td>NaN</td>\n    </tr>\n    <tr>\n      <td>6</td>\n      <td>1.0</td>\n      <td>timetable</td>\n      <td>NaN</td>\n      <td>NaN</td>\n      <td>NaN</td>\n      <td>NaN</td>\n      <td>Tue-2B-10:35:00-11:30:00</td>\n      <td>NaN</td>\n      <td>NaN</td>\n      <td>NaN</td>\n      <td>NaN</td>\n    </tr>\n    <tr>\n      <td>19</td>\n      <td>2.0</td>\n      <td>timetable</td>\n      <td>HS 101</td>\n      <td>Economics</td>\n      <td>A - Surajit Bhattacharya</td>\n      <td></td>\n      <td>2</td>\n      <td>S2</td>\n      <td>0</td>\n      <td>NaN</td>\n      <td>View</td>\n    </tr>\n    <tr>\n      <td>20</td>\n      <td>2.0</td>\n      <td>timetable</td>\n      <td>NaN</td>\n      <td>NaN</td>\n      <td>I - Narayanan K.</td>\n      <td>NaN</td>\n      <td>NaN</td>\n      <td>NaN</td>\n      <td>NaN</td>\n      <td>NaN</td>\n      <td>NaN</td>\n    </tr>\n    <tr>\n      <td>22</td>\n      <td>2.0</td>\n      <td>timetable</td>\n      <td>NaN</td>\n      <td>NaN</td>\n      <td>NaN</td>\n      <td>NaN</td>\n      <td>Mon-2A-09:30:00-10:25:00</td>\n      <td>NaN</td>\n      <td>NaN</td>\n      <td>NaN</td>\n      <td>NaN</td>\n    </tr>\n    <tr>\n      <td>23</td>\n      <td>2.0</td>\n      <td>timetable</td>\n      <td>NaN</td>\n      <td>NaN</td>\n      <td>NaN</td>\n      <td>NaN</td>\n      <td>Thu-2C-11:35:00-12:30:00</td>\n      <td>NaN</td>\n      <td>NaN</td>\n      <td>NaN</td>\n      <td>NaN</td>\n    </tr>\n    <tr>\n      <td>24</td>\n      <td>2.0</td>\n      <td>timetable</td>\n      <td>NaN</td>\n      <td>NaN</td>\n      <td>NaN</td>\n      <td>NaN</td>\n      <td>Tue-2B-10:35:00-11:30:00</td>\n      <td>NaN</td>\n      <td>NaN</td>\n      <td>NaN</td>\n      <td>NaN</td>\n    </tr>\n    <tr>\n      <td>37</td>\n      <td>3.0</td>\n      <td>timetable</td>\n      <td>HS 101</td>\n      <td>Economics</td>\n      <td>A - Tara S. Shaw</td>\n      <td></td>\n      <td>2</td>\n      <td>S3</td>\n      <td>0</td>\n      <td>NaN</td>\n      <td>View</td>\n    </tr>\n    <tr>\n      <td>38</td>\n      <td>3.0</td>\n      <td>timetable</td>\n      <td>NaN</td>\n      <td>NaN</td>\n      <td>I - Trivedi Pushpa</td>\n      <td>NaN</td>\n      <td>NaN</td>\n      <td>NaN</td>\n      <td>NaN</td>\n      <td>NaN</td>\n      <td>NaN</td>\n    </tr>\n    <tr>\n      <td>40</td>\n      <td>3.0</td>\n      <td>timetable</td>\n      <td>NaN</td>\n      <td>NaN</td>\n      <td>NaN</td>\n      <td>NaN</td>\n      <td>Mon-2A-09:30:00-10:25:00</td>\n      <td>NaN</td>\n      <td>NaN</td>\n      <td>NaN</td>\n      <td>NaN</td>\n    </tr>\n    <tr>\n      <td>41</td>\n      <td>3.0</td>\n      <td>timetable</td>\n      <td>NaN</td>\n      <td>NaN</td>\n      <td>NaN</td>\n      <td>NaN</td>\n      <td>Thu-2C-11:35:00-12:30:00</td>\n      <td>NaN</td>\n      <td>NaN</td>\n      <td>NaN</td>\n      <td>NaN</td>\n    </tr>\n  </tbody>\n</table>\n</div>"
     },
     "metadata": {},
     "execution_count": 236
    }
   ],
   "source": [
    "# df.columns = ['IP address']\n",
    "for ch in [\"[\", \"]\", \",\", \"'\", \"nan\"]:\n",
    "    df['Type'] = df['Type'].apply(lambda x: str(x).replace(ch, \"\"))\n",
    "df.head(15)"
   ]
  },
  {
   "cell_type": "code",
   "execution_count": 238,
   "metadata": {},
   "outputs": [],
   "source": [
    "# df['Type'][0]"
   ]
  },
  {
   "cell_type": "code",
   "execution_count": 248,
   "metadata": {},
   "outputs": [
    {
     "output_type": "execute_result",
     "data": {
      "text/plain": [
       "    Sr no.            Type  Course Code  \\\n",
       "0      NaN                                \n",
       "1      1.0   timetable       HS 101       \n",
       "2      1.0   timetable       HS 101       \n",
       "4      1.0  timetable       HS 200        \n",
       "5      1.0  timetable       HS 200        \n",
       "6      1.0    timetable       HS 221      \n",
       "19     2.0     timetable       HS 308     \n",
       "20     2.0    timetable       HS 311      \n",
       "22     2.0    timetable       HS 315      \n",
       "23     2.0     timetable       HS 402     \n",
       "24     2.0     timetable       HS 408     \n",
       "37     3.0     timetable       HS 557     \n",
       "38     3.0    timetable       HS 601      \n",
       "40     3.0   timetable       HS 605       \n",
       "41     3.0    timetable       HS 615      \n",
       "\n",
       "                                          Course Name  \\\n",
       "0                                                       \n",
       "1                                       Economics       \n",
       "2                                       Economics       \n",
       "4                          Environmental Studies        \n",
       "5                          Environmental Studies        \n",
       "6                    Intermediate Microeconomics I      \n",
       "19                               Econometrics I Lab     \n",
       "20                       International Economics I      \n",
       "22                                     Public Fice      \n",
       "23                Game Theory and Economic Analysis     \n",
       "24                         Shakespearean Afterlives     \n",
       "37  Wittgenstein I: Wittgenstein’s Tractatus: The ...   \n",
       "38  Development Planning & Policies : Issues & Alt...   \n",
       "40            Research Methods in Social Sciences       \n",
       "41               Computer Aided Applied Statistics      \n",
       "\n",
       "                                        Instructor(s)          Venue  \\\n",
       "0                                                                      \n",
       "1          A - Pooja Padhi I - Haripriya Gundimeda      \\xa0\\xa0       \n",
       "2           A - Surajit Bhattacharya I - Naraya K.      \\xa0\\xa0       \n",
       "4   A - Aditi Balkrishna Chaubal A - Parthasarathy...  \\xa0\\xa0        \n",
       "5   A - Aditi Balkrishna Chaubal A - Parthasarathy...  \\xa0\\xa0        \n",
       "6            A - Surajit Bhattacharya I - Naraya K.      \\xa0\\xa0      \n",
       "19                                 I - Tara S. Shaw       \\xa0\\xa0     \n",
       "20  A - Saptarshi Prosonno Ghosh I - Aditi Balkris...    \\xa0\\xa0      \n",
       "22                                    I - Rama Pal       \\xa0\\xa0      \n",
       "23                     I - Saptarshi Prosonno Ghosh       \\xa0\\xa0     \n",
       "24                                I - Shastri Sudha       \\xa0\\xa0     \n",
       "37                           I - Pravesh Jung Golay       \\xa0\\xa0     \n",
       "38                  A - Anush Kapadia I - Naraya K.      \\xa0\\xa0      \n",
       "40  A - Parthasarathy D. A - Sarmistha Pattanaik I...   \\xa0\\xa0       \n",
       "41       I - Mrinmoyi Kulkarni I - Parthasarathy D.      \\xa0\\xa0      \n",
       "\n",
       "                                                 Slot     Division  \\\n",
       "0                                                                    \n",
       "1   2  Mon-2A-09:30:00-10:25:00 Thu-2C-11:35:00-12...   \\xa0S1       \n",
       "2   2  Mon-2A-09:30:00-10:25:00 Thu-2C-11:35:00-12...   \\xa0S2       \n",
       "4   3   Mon-3A-10:35:00-11:30:00 Thu-3C-08:30:00-0...  \\xa0S1        \n",
       "5   2   Mon-2A-09:30:00-10:25:00 Thu-2C-11:35:00-1...  \\xa0S2        \n",
       "6   8  Mon-8A-14:00:00-15:25:00 Thu-8B-14:00:00-15...                \n",
       "19  13 Mon-13A-19:00:00-20:25:00 Thu-13B-19:00:00-...                \n",
       "20  6  Fri-6B-11:05:00-12:30:00 Wed-6A-11:05:00-12...                \n",
       "22  1 Mon-1A-08:30:00-09:25:00 Thu-1C-10:35:00-11:...                \n",
       "23  10 Fri-10B-14:00:00-15:25:00 Tue-10A-14:00:00-...                \n",
       "24  5 Fri-5B-09:30:00-10:55:00 Wed-5A-09:30:00-10:...                \n",
       "37  6 Fri-6B-11:05:00-12:30:00 Wed-6A-11:05:00-12:...                \n",
       "38  14  Fri-14B-17:30:00-18:55:00 Tue-14A-17:30:00...                \n",
       "40  10   Fri-10B-14:00:00-15:25:00 Tue-10A-14:00:0...                \n",
       "41  9  Mon-9A-15:30:00-16:55:00 Thu-9B-15:30:00-16...                \n",
       "\n",
       "   Registration Limit  Restrictions     Division.1  \n",
       "0                                                   \n",
       "1           \\xa00                     \\xa0View      \n",
       "2           \\xa00                     \\xa0View      \n",
       "4          \\xa00                     \\xa0View       \n",
       "5          \\xa00                     \\xa0View       \n",
       "6            \\xa00      \\xa0View                    \n",
       "19            \\xa00      \\xa0View                   \n",
       "20           \\xa00      \\xa0View                    \n",
       "22           \\xa00      \\xa0View                    \n",
       "23           \\xa060                                 \n",
       "24           \\xa040                                 \n",
       "37            \\xa00      \\xa0View                   \n",
       "38           \\xa00                                  \n",
       "40          \\xa00      \\xa0View                     \n",
       "41           \\xa00                                  "
      ],
      "text/html": "<div>\n<style scoped>\n    .dataframe tbody tr th:only-of-type {\n        vertical-align: middle;\n    }\n\n    .dataframe tbody tr th {\n        vertical-align: top;\n    }\n\n    .dataframe thead th {\n        text-align: right;\n    }\n</style>\n<table border=\"1\" class=\"dataframe\">\n  <thead>\n    <tr style=\"text-align: right;\">\n      <th></th>\n      <th>Sr no.</th>\n      <th>Type</th>\n      <th>Course Code</th>\n      <th>Course Name</th>\n      <th>Instructor(s)</th>\n      <th>Venue</th>\n      <th>Slot</th>\n      <th>Division</th>\n      <th>Registration Limit</th>\n      <th>Restrictions</th>\n      <th>Division.1</th>\n    </tr>\n  </thead>\n  <tbody>\n    <tr>\n      <td>0</td>\n      <td>NaN</td>\n      <td></td>\n      <td></td>\n      <td></td>\n      <td></td>\n      <td></td>\n      <td></td>\n      <td></td>\n      <td></td>\n      <td></td>\n      <td></td>\n    </tr>\n    <tr>\n      <td>1</td>\n      <td>1.0</td>\n      <td>timetable</td>\n      <td>HS 101</td>\n      <td>Economics</td>\n      <td>A - Pooja Padhi I - Haripriya Gundimeda</td>\n      <td>\\xa0\\xa0</td>\n      <td>2  Mon-2A-09:30:00-10:25:00 Thu-2C-11:35:00-12...</td>\n      <td>\\xa0S1</td>\n      <td>\\xa00</td>\n      <td></td>\n      <td>\\xa0View</td>\n    </tr>\n    <tr>\n      <td>2</td>\n      <td>1.0</td>\n      <td>timetable</td>\n      <td>HS 101</td>\n      <td>Economics</td>\n      <td>A - Surajit Bhattacharya I - Naraya K.</td>\n      <td>\\xa0\\xa0</td>\n      <td>2  Mon-2A-09:30:00-10:25:00 Thu-2C-11:35:00-12...</td>\n      <td>\\xa0S2</td>\n      <td>\\xa00</td>\n      <td></td>\n      <td>\\xa0View</td>\n    </tr>\n    <tr>\n      <td>4</td>\n      <td>1.0</td>\n      <td>timetable</td>\n      <td>HS 200</td>\n      <td>Environmental Studies</td>\n      <td>A - Aditi Balkrishna Chaubal A - Parthasarathy...</td>\n      <td>\\xa0\\xa0</td>\n      <td>3   Mon-3A-10:35:00-11:30:00 Thu-3C-08:30:00-0...</td>\n      <td>\\xa0S1</td>\n      <td>\\xa00</td>\n      <td></td>\n      <td>\\xa0View</td>\n    </tr>\n    <tr>\n      <td>5</td>\n      <td>1.0</td>\n      <td>timetable</td>\n      <td>HS 200</td>\n      <td>Environmental Studies</td>\n      <td>A - Aditi Balkrishna Chaubal A - Parthasarathy...</td>\n      <td>\\xa0\\xa0</td>\n      <td>2   Mon-2A-09:30:00-10:25:00 Thu-2C-11:35:00-1...</td>\n      <td>\\xa0S2</td>\n      <td>\\xa00</td>\n      <td></td>\n      <td>\\xa0View</td>\n    </tr>\n    <tr>\n      <td>6</td>\n      <td>1.0</td>\n      <td>timetable</td>\n      <td>HS 221</td>\n      <td>Intermediate Microeconomics I</td>\n      <td>A - Surajit Bhattacharya I - Naraya K.</td>\n      <td>\\xa0\\xa0</td>\n      <td>8  Mon-8A-14:00:00-15:25:00 Thu-8B-14:00:00-15...</td>\n      <td></td>\n      <td>\\xa00</td>\n      <td>\\xa0View</td>\n      <td></td>\n    </tr>\n    <tr>\n      <td>19</td>\n      <td>2.0</td>\n      <td>timetable</td>\n      <td>HS 308</td>\n      <td>Econometrics I Lab</td>\n      <td>I - Tara S. Shaw</td>\n      <td>\\xa0\\xa0</td>\n      <td>13 Mon-13A-19:00:00-20:25:00 Thu-13B-19:00:00-...</td>\n      <td></td>\n      <td>\\xa00</td>\n      <td>\\xa0View</td>\n      <td></td>\n    </tr>\n    <tr>\n      <td>20</td>\n      <td>2.0</td>\n      <td>timetable</td>\n      <td>HS 311</td>\n      <td>International Economics I</td>\n      <td>A - Saptarshi Prosonno Ghosh I - Aditi Balkris...</td>\n      <td>\\xa0\\xa0</td>\n      <td>6  Fri-6B-11:05:00-12:30:00 Wed-6A-11:05:00-12...</td>\n      <td></td>\n      <td>\\xa00</td>\n      <td>\\xa0View</td>\n      <td></td>\n    </tr>\n    <tr>\n      <td>22</td>\n      <td>2.0</td>\n      <td>timetable</td>\n      <td>HS 315</td>\n      <td>Public Fice</td>\n      <td>I - Rama Pal</td>\n      <td>\\xa0\\xa0</td>\n      <td>1 Mon-1A-08:30:00-09:25:00 Thu-1C-10:35:00-11:...</td>\n      <td></td>\n      <td>\\xa00</td>\n      <td>\\xa0View</td>\n      <td></td>\n    </tr>\n    <tr>\n      <td>23</td>\n      <td>2.0</td>\n      <td>timetable</td>\n      <td>HS 402</td>\n      <td>Game Theory and Economic Analysis</td>\n      <td>I - Saptarshi Prosonno Ghosh</td>\n      <td>\\xa0\\xa0</td>\n      <td>10 Fri-10B-14:00:00-15:25:00 Tue-10A-14:00:00-...</td>\n      <td></td>\n      <td>\\xa060</td>\n      <td></td>\n      <td></td>\n    </tr>\n    <tr>\n      <td>24</td>\n      <td>2.0</td>\n      <td>timetable</td>\n      <td>HS 408</td>\n      <td>Shakespearean Afterlives</td>\n      <td>I - Shastri Sudha</td>\n      <td>\\xa0\\xa0</td>\n      <td>5 Fri-5B-09:30:00-10:55:00 Wed-5A-09:30:00-10:...</td>\n      <td></td>\n      <td>\\xa040</td>\n      <td></td>\n      <td></td>\n    </tr>\n    <tr>\n      <td>37</td>\n      <td>3.0</td>\n      <td>timetable</td>\n      <td>HS 557</td>\n      <td>Wittgenstein I: Wittgenstein’s Tractatus: The ...</td>\n      <td>I - Pravesh Jung Golay</td>\n      <td>\\xa0\\xa0</td>\n      <td>6 Fri-6B-11:05:00-12:30:00 Wed-6A-11:05:00-12:...</td>\n      <td></td>\n      <td>\\xa00</td>\n      <td>\\xa0View</td>\n      <td></td>\n    </tr>\n    <tr>\n      <td>38</td>\n      <td>3.0</td>\n      <td>timetable</td>\n      <td>HS 601</td>\n      <td>Development Planning &amp; Policies : Issues &amp; Alt...</td>\n      <td>A - Anush Kapadia I - Naraya K.</td>\n      <td>\\xa0\\xa0</td>\n      <td>14  Fri-14B-17:30:00-18:55:00 Tue-14A-17:30:00...</td>\n      <td></td>\n      <td>\\xa00</td>\n      <td></td>\n      <td></td>\n    </tr>\n    <tr>\n      <td>40</td>\n      <td>3.0</td>\n      <td>timetable</td>\n      <td>HS 605</td>\n      <td>Research Methods in Social Sciences</td>\n      <td>A - Parthasarathy D. A - Sarmistha Pattanaik I...</td>\n      <td>\\xa0\\xa0</td>\n      <td>10   Fri-10B-14:00:00-15:25:00 Tue-10A-14:00:0...</td>\n      <td></td>\n      <td>\\xa00</td>\n      <td>\\xa0View</td>\n      <td></td>\n    </tr>\n    <tr>\n      <td>41</td>\n      <td>3.0</td>\n      <td>timetable</td>\n      <td>HS 615</td>\n      <td>Computer Aided Applied Statistics</td>\n      <td>I - Mrinmoyi Kulkarni I - Parthasarathy D.</td>\n      <td>\\xa0\\xa0</td>\n      <td>9  Mon-9A-15:30:00-16:55:00 Thu-9B-15:30:00-16...</td>\n      <td></td>\n      <td>\\xa00</td>\n      <td></td>\n      <td></td>\n    </tr>\n  </tbody>\n</table>\n</div>"
     },
     "metadata": {},
     "execution_count": 248
    }
   ],
   "source": [
    "skip_cols = [df.columns[0], df.columns[1]]\n",
    "for col in df.columns:\n",
    "    if col in skip_cols:\n",
    "        continue\n",
    "    else:\n",
    "        df[col] = pd.DataFrame(df.groupby(df.columns[0])[col].apply(list))\n",
    "        for ch in [\"[\", \"]\", \",\", \"'\", \"nan\"]:\n",
    "            df[col] = df[col].apply(lambda x: str(x).replace(ch, \"\"))\n",
    "df.head(15)"
   ]
  },
  {
   "cell_type": "code",
   "execution_count": 250,
   "metadata": {},
   "outputs": [
    {
     "output_type": "execute_result",
     "data": {
      "text/plain": [
       "               185\n",
       "                 9\n",
       "                 5\n",
       "\\xa0S1           1\n",
       "\\xa0S1           1\n",
       "                 1\n",
       "\\xa0S2           1\n",
       "\\xa0S2           1\n",
       "Name: Division, dtype: int64"
      ]
     },
     "metadata": {},
     "execution_count": 250
    }
   ],
   "source": [
    "df['Division'].value_counts()"
   ]
  },
  {
   "cell_type": "code",
   "execution_count": 255,
   "metadata": {},
   "outputs": [
    {
     "output_type": "execute_result",
     "data": {
      "text/plain": [
       "    Sr no.       Type Course Code            Course Name  \\\n",
       "0      NaN        NaN         NaN                    NaN   \n",
       "1      1.0  timetable      HS 101              Economics   \n",
       "2      NaN        NaN         NaN                    NaN   \n",
       "3      NaN        NaN         NaN                    NaN   \n",
       "4      NaN        NaN         NaN                    NaN   \n",
       "5      NaN        NaN         NaN                    NaN   \n",
       "6      NaN        NaN         NaN                    NaN   \n",
       "7      2.0  timetable      HS 200  Environmental Studies   \n",
       "8      NaN        NaN         NaN                    NaN   \n",
       "9      NaN        NaN         NaN                    NaN   \n",
       "10     NaN        NaN         NaN                    NaN   \n",
       "11     NaN        NaN         NaN                    NaN   \n",
       "12     NaN        NaN         NaN                    NaN   \n",
       "13     NaN        NaN         NaN                    NaN   \n",
       "14     NaN        NaN         NaN                    NaN   \n",
       "\n",
       "                   Instructor(s) Venue                      Slot Division  \\\n",
       "0                            NaN   NaN                       NaN      NaN   \n",
       "1        I - Haripriya Gundimeda                               4      NaN   \n",
       "2                            NaN   NaN                       NaN      NaN   \n",
       "3                            NaN   NaN                       NaN      NaN   \n",
       "4                            NaN   NaN  Mon-4A-11:35:00-12:30:00      NaN   \n",
       "5                            NaN   NaN  Thu-4C-09:30:00-10:25:00      NaN   \n",
       "6                            NaN   NaN  Tue-4B-08:30:00-09:25:00      NaN   \n",
       "7   A - Aditi Balkrishna Chaubal                               3       S1   \n",
       "8           A - Parthasarathy D.   NaN                       NaN      NaN   \n",
       "9   A - Saptarshi Prosonno Ghosh   NaN                       NaN      NaN   \n",
       "10           I - Rajkishore Nath   NaN  Mon-3A-10:35:00-11:30:00      NaN   \n",
       "11                           NaN   NaN  Thu-3C-08:30:00-09:25:00      NaN   \n",
       "12                           NaN   NaN  Tue-3B-11:35:00-12:30:00      NaN   \n",
       "13                           NaN   NaN                       NaN      NaN   \n",
       "14                           NaN   NaN                       NaN      NaN   \n",
       "\n",
       "    Biometric Attendance Enabled? Registration Limit  ... Unnamed: 14  \\\n",
       "0                             NaN                NaN  ...         NaN   \n",
       "1                             NaN                  0  ...         NaN   \n",
       "2                             NaN                NaN  ...         NaN   \n",
       "3                             NaN                NaN  ...         NaN   \n",
       "4                             NaN                NaN  ...         NaN   \n",
       "5                             NaN                NaN  ...         NaN   \n",
       "6                             NaN                NaN  ...         NaN   \n",
       "7                             NaN                  0  ...         NaN   \n",
       "8                             NaN                NaN  ...         NaN   \n",
       "9                             NaN                NaN  ...         NaN   \n",
       "10                            NaN                NaN  ...         NaN   \n",
       "11                            NaN                NaN  ...         NaN   \n",
       "12                            NaN                NaN  ...         NaN   \n",
       "13                            NaN                NaN  ...         NaN   \n",
       "14                            NaN                NaN  ...         NaN   \n",
       "\n",
       "    Unnamed: 15  Unnamed: 16  Division.1  Unnamed: 18  Unnamed: 19  \\\n",
       "0           NaN          NaN  Definition          NaN          NaN   \n",
       "1           NaN          NaN         NaN          NaN          NaN   \n",
       "2           NaN          NaN         NaN          NaN          NaN   \n",
       "3           NaN          NaN         NaN          NaN          NaN   \n",
       "4           NaN          NaN         NaN          NaN          NaN   \n",
       "5           NaN          NaN         NaN          NaN          NaN   \n",
       "6           NaN          NaN         NaN          NaN          NaN   \n",
       "7           NaN          NaN        View          NaN          NaN   \n",
       "8           NaN          NaN         NaN          NaN          NaN   \n",
       "9           NaN          NaN         NaN          NaN          NaN   \n",
       "10          NaN          NaN         NaN          NaN          NaN   \n",
       "11          NaN          NaN         NaN          NaN          NaN   \n",
       "12          NaN          NaN         NaN          NaN          NaN   \n",
       "13          NaN          NaN         NaN          NaN          NaN   \n",
       "14          NaN          NaN         NaN          NaN          NaN   \n",
       "\n",
       "    Unnamed: 20 Unnamed: 21  Unnamed: 22  Unnamed: 23  \n",
       "0           NaN         NaN          NaN          NaN  \n",
       "1           NaN         NaN          NaN          NaN  \n",
       "2           NaN         NaN          NaN          NaN  \n",
       "3           NaN         NaN          NaN          NaN  \n",
       "4           NaN         NaN          NaN          NaN  \n",
       "5           NaN         NaN          NaN          NaN  \n",
       "6           NaN         NaN          NaN          NaN  \n",
       "7           NaN         NaN          NaN          NaN  \n",
       "8           NaN         NaN          NaN          NaN  \n",
       "9           NaN         NaN          NaN          NaN  \n",
       "10          NaN         NaN          NaN          NaN  \n",
       "11          NaN         NaN          NaN          NaN  \n",
       "12          NaN         NaN          NaN          NaN  \n",
       "13          NaN         NaN          NaN          NaN  \n",
       "14          NaN         NaN          NaN          NaN  \n",
       "\n",
       "[15 rows x 24 columns]"
      ],
      "text/html": "<div>\n<style scoped>\n    .dataframe tbody tr th:only-of-type {\n        vertical-align: middle;\n    }\n\n    .dataframe tbody tr th {\n        vertical-align: top;\n    }\n\n    .dataframe thead th {\n        text-align: right;\n    }\n</style>\n<table border=\"1\" class=\"dataframe\">\n  <thead>\n    <tr style=\"text-align: right;\">\n      <th></th>\n      <th>Sr no.</th>\n      <th>Type</th>\n      <th>Course Code</th>\n      <th>Course Name</th>\n      <th>Instructor(s)</th>\n      <th>Venue</th>\n      <th>Slot</th>\n      <th>Division</th>\n      <th>Biometric Attendance Enabled?</th>\n      <th>Registration Limit</th>\n      <th>...</th>\n      <th>Unnamed: 14</th>\n      <th>Unnamed: 15</th>\n      <th>Unnamed: 16</th>\n      <th>Division.1</th>\n      <th>Unnamed: 18</th>\n      <th>Unnamed: 19</th>\n      <th>Unnamed: 20</th>\n      <th>Unnamed: 21</th>\n      <th>Unnamed: 22</th>\n      <th>Unnamed: 23</th>\n    </tr>\n  </thead>\n  <tbody>\n    <tr>\n      <td>0</td>\n      <td>NaN</td>\n      <td>NaN</td>\n      <td>NaN</td>\n      <td>NaN</td>\n      <td>NaN</td>\n      <td>NaN</td>\n      <td>NaN</td>\n      <td>NaN</td>\n      <td>NaN</td>\n      <td>NaN</td>\n      <td>...</td>\n      <td>NaN</td>\n      <td>NaN</td>\n      <td>NaN</td>\n      <td>Definition</td>\n      <td>NaN</td>\n      <td>NaN</td>\n      <td>NaN</td>\n      <td>NaN</td>\n      <td>NaN</td>\n      <td>NaN</td>\n    </tr>\n    <tr>\n      <td>1</td>\n      <td>1.0</td>\n      <td>timetable</td>\n      <td>HS 101</td>\n      <td>Economics</td>\n      <td>I - Haripriya Gundimeda</td>\n      <td></td>\n      <td>4</td>\n      <td>NaN</td>\n      <td>NaN</td>\n      <td>0</td>\n      <td>...</td>\n      <td>NaN</td>\n      <td>NaN</td>\n      <td>NaN</td>\n      <td>NaN</td>\n      <td>NaN</td>\n      <td>NaN</td>\n      <td>NaN</td>\n      <td>NaN</td>\n      <td>NaN</td>\n      <td>NaN</td>\n    </tr>\n    <tr>\n      <td>2</td>\n      <td>NaN</td>\n      <td>NaN</td>\n      <td>NaN</td>\n      <td>NaN</td>\n      <td>NaN</td>\n      <td>NaN</td>\n      <td>NaN</td>\n      <td>NaN</td>\n      <td>NaN</td>\n      <td>NaN</td>\n      <td>...</td>\n      <td>NaN</td>\n      <td>NaN</td>\n      <td>NaN</td>\n      <td>NaN</td>\n      <td>NaN</td>\n      <td>NaN</td>\n      <td>NaN</td>\n      <td>NaN</td>\n      <td>NaN</td>\n      <td>NaN</td>\n    </tr>\n    <tr>\n      <td>3</td>\n      <td>NaN</td>\n      <td>NaN</td>\n      <td>NaN</td>\n      <td>NaN</td>\n      <td>NaN</td>\n      <td>NaN</td>\n      <td>NaN</td>\n      <td>NaN</td>\n      <td>NaN</td>\n      <td>NaN</td>\n      <td>...</td>\n      <td>NaN</td>\n      <td>NaN</td>\n      <td>NaN</td>\n      <td>NaN</td>\n      <td>NaN</td>\n      <td>NaN</td>\n      <td>NaN</td>\n      <td>NaN</td>\n      <td>NaN</td>\n      <td>NaN</td>\n    </tr>\n    <tr>\n      <td>4</td>\n      <td>NaN</td>\n      <td>NaN</td>\n      <td>NaN</td>\n      <td>NaN</td>\n      <td>NaN</td>\n      <td>NaN</td>\n      <td>Mon-4A-11:35:00-12:30:00</td>\n      <td>NaN</td>\n      <td>NaN</td>\n      <td>NaN</td>\n      <td>...</td>\n      <td>NaN</td>\n      <td>NaN</td>\n      <td>NaN</td>\n      <td>NaN</td>\n      <td>NaN</td>\n      <td>NaN</td>\n      <td>NaN</td>\n      <td>NaN</td>\n      <td>NaN</td>\n      <td>NaN</td>\n    </tr>\n    <tr>\n      <td>5</td>\n      <td>NaN</td>\n      <td>NaN</td>\n      <td>NaN</td>\n      <td>NaN</td>\n      <td>NaN</td>\n      <td>NaN</td>\n      <td>Thu-4C-09:30:00-10:25:00</td>\n      <td>NaN</td>\n      <td>NaN</td>\n      <td>NaN</td>\n      <td>...</td>\n      <td>NaN</td>\n      <td>NaN</td>\n      <td>NaN</td>\n      <td>NaN</td>\n      <td>NaN</td>\n      <td>NaN</td>\n      <td>NaN</td>\n      <td>NaN</td>\n      <td>NaN</td>\n      <td>NaN</td>\n    </tr>\n    <tr>\n      <td>6</td>\n      <td>NaN</td>\n      <td>NaN</td>\n      <td>NaN</td>\n      <td>NaN</td>\n      <td>NaN</td>\n      <td>NaN</td>\n      <td>Tue-4B-08:30:00-09:25:00</td>\n      <td>NaN</td>\n      <td>NaN</td>\n      <td>NaN</td>\n      <td>...</td>\n      <td>NaN</td>\n      <td>NaN</td>\n      <td>NaN</td>\n      <td>NaN</td>\n      <td>NaN</td>\n      <td>NaN</td>\n      <td>NaN</td>\n      <td>NaN</td>\n      <td>NaN</td>\n      <td>NaN</td>\n    </tr>\n    <tr>\n      <td>7</td>\n      <td>2.0</td>\n      <td>timetable</td>\n      <td>HS 200</td>\n      <td>Environmental Studies</td>\n      <td>A - Aditi Balkrishna Chaubal</td>\n      <td></td>\n      <td>3</td>\n      <td>S1</td>\n      <td>NaN</td>\n      <td>0</td>\n      <td>...</td>\n      <td>NaN</td>\n      <td>NaN</td>\n      <td>NaN</td>\n      <td>View</td>\n      <td>NaN</td>\n      <td>NaN</td>\n      <td>NaN</td>\n      <td>NaN</td>\n      <td>NaN</td>\n      <td>NaN</td>\n    </tr>\n    <tr>\n      <td>8</td>\n      <td>NaN</td>\n      <td>NaN</td>\n      <td>NaN</td>\n      <td>NaN</td>\n      <td>A - Parthasarathy D.</td>\n      <td>NaN</td>\n      <td>NaN</td>\n      <td>NaN</td>\n      <td>NaN</td>\n      <td>NaN</td>\n      <td>...</td>\n      <td>NaN</td>\n      <td>NaN</td>\n      <td>NaN</td>\n      <td>NaN</td>\n      <td>NaN</td>\n      <td>NaN</td>\n      <td>NaN</td>\n      <td>NaN</td>\n      <td>NaN</td>\n      <td>NaN</td>\n    </tr>\n    <tr>\n      <td>9</td>\n      <td>NaN</td>\n      <td>NaN</td>\n      <td>NaN</td>\n      <td>NaN</td>\n      <td>A - Saptarshi Prosonno Ghosh</td>\n      <td>NaN</td>\n      <td>NaN</td>\n      <td>NaN</td>\n      <td>NaN</td>\n      <td>NaN</td>\n      <td>...</td>\n      <td>NaN</td>\n      <td>NaN</td>\n      <td>NaN</td>\n      <td>NaN</td>\n      <td>NaN</td>\n      <td>NaN</td>\n      <td>NaN</td>\n      <td>NaN</td>\n      <td>NaN</td>\n      <td>NaN</td>\n    </tr>\n    <tr>\n      <td>10</td>\n      <td>NaN</td>\n      <td>NaN</td>\n      <td>NaN</td>\n      <td>NaN</td>\n      <td>I - Rajkishore Nath</td>\n      <td>NaN</td>\n      <td>Mon-3A-10:35:00-11:30:00</td>\n      <td>NaN</td>\n      <td>NaN</td>\n      <td>NaN</td>\n      <td>...</td>\n      <td>NaN</td>\n      <td>NaN</td>\n      <td>NaN</td>\n      <td>NaN</td>\n      <td>NaN</td>\n      <td>NaN</td>\n      <td>NaN</td>\n      <td>NaN</td>\n      <td>NaN</td>\n      <td>NaN</td>\n    </tr>\n    <tr>\n      <td>11</td>\n      <td>NaN</td>\n      <td>NaN</td>\n      <td>NaN</td>\n      <td>NaN</td>\n      <td>NaN</td>\n      <td>NaN</td>\n      <td>Thu-3C-08:30:00-09:25:00</td>\n      <td>NaN</td>\n      <td>NaN</td>\n      <td>NaN</td>\n      <td>...</td>\n      <td>NaN</td>\n      <td>NaN</td>\n      <td>NaN</td>\n      <td>NaN</td>\n      <td>NaN</td>\n      <td>NaN</td>\n      <td>NaN</td>\n      <td>NaN</td>\n      <td>NaN</td>\n      <td>NaN</td>\n    </tr>\n    <tr>\n      <td>12</td>\n      <td>NaN</td>\n      <td>NaN</td>\n      <td>NaN</td>\n      <td>NaN</td>\n      <td>NaN</td>\n      <td>NaN</td>\n      <td>Tue-3B-11:35:00-12:30:00</td>\n      <td>NaN</td>\n      <td>NaN</td>\n      <td>NaN</td>\n      <td>...</td>\n      <td>NaN</td>\n      <td>NaN</td>\n      <td>NaN</td>\n      <td>NaN</td>\n      <td>NaN</td>\n      <td>NaN</td>\n      <td>NaN</td>\n      <td>NaN</td>\n      <td>NaN</td>\n      <td>NaN</td>\n    </tr>\n    <tr>\n      <td>13</td>\n      <td>NaN</td>\n      <td>NaN</td>\n      <td>NaN</td>\n      <td>NaN</td>\n      <td>NaN</td>\n      <td>NaN</td>\n      <td>NaN</td>\n      <td>NaN</td>\n      <td>NaN</td>\n      <td>NaN</td>\n      <td>...</td>\n      <td>NaN</td>\n      <td>NaN</td>\n      <td>NaN</td>\n      <td>NaN</td>\n      <td>NaN</td>\n      <td>NaN</td>\n      <td>NaN</td>\n      <td>NaN</td>\n      <td>NaN</td>\n      <td>NaN</td>\n    </tr>\n    <tr>\n      <td>14</td>\n      <td>NaN</td>\n      <td>NaN</td>\n      <td>NaN</td>\n      <td>NaN</td>\n      <td>NaN</td>\n      <td>NaN</td>\n      <td>NaN</td>\n      <td>NaN</td>\n      <td>NaN</td>\n      <td>NaN</td>\n      <td>...</td>\n      <td>NaN</td>\n      <td>NaN</td>\n      <td>NaN</td>\n      <td>NaN</td>\n      <td>NaN</td>\n      <td>NaN</td>\n      <td>NaN</td>\n      <td>NaN</td>\n      <td>NaN</td>\n      <td>NaN</td>\n    </tr>\n  </tbody>\n</table>\n<p>15 rows × 24 columns</p>\n</div>"
     },
     "metadata": {},
     "execution_count": 255
    }
   ],
   "source": []
  },
  {
   "cell_type": "code",
   "execution_count": 263,
   "metadata": {},
   "outputs": [
    {
     "output_type": "execute_result",
     "data": {
      "text/plain": [
       "['AE.csv',\n",
       " 'BB.csv',\n",
       " 'CE.csv',\n",
       " 'CH.csv',\n",
       " 'CSE.csv',\n",
       " 'DE.csv',\n",
       " 'EE.csv',\n",
       " 'ENT.csv',\n",
       " 'ET.csv',\n",
       " 'GNR.csv',\n",
       " 'HS.csv',\n",
       " 'IE.csv',\n",
       " 'MA.csv',\n",
       " 'MG.csv',\n",
       " 'SC.csv']"
      ]
     },
     "metadata": {},
     "execution_count": 263
    }
   ],
   "source": [
    "import os\n",
    "\n",
    "path = 'dept_courses_csv'\n",
    "lst = os.listdir(path)\n",
    "lst"
   ]
  }
 ]
}